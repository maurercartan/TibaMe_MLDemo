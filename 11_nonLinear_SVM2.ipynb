{
 "cells": [
  {
   "cell_type": "markdown",
   "metadata": {},
   "source": [
    "# 非線性 SVM-XOR 問題\n",
    "\n",
    "<table>\n",
    "    <tr>\n",
    "        <td>神經網絡</td>\n",
    "        <td>可以解決問題</td>\n",
    "        <td>無法解決問題</td>\n",
    "    </tr>\n",
    "    <tr>\n",
    "        <td>感知器(Perceptron)</td>\n",
    "        <td>可解決分類問題</td>\n",
    "        <td>\n",
    "            <br>1.沒有分類線,不直觀</br>\n",
    "            <br>2.無法解決非線性問題(XOR問題)</br>\n",
    "        </td>\n",
    "    </tr>\n",
    "    <tr>\n",
    "        <td>邏輯斯迴歸(Logistic Regression)</td>\n",
    "        <td>\n",
    "            <br>1.可解決分類問題</br>\n",
    "            <br>2.有分類線,很直觀的表示分類方式</br>\n",
    "        </td>\n",
    "        <td>無法解決非線性問題(XOR問題)</td>\n",
    "    </tr>\n",
    "    <tr>\n",
    "        <td>支援向量機 (Support Vector Machine)</td>\n",
    "        <td>\n",
    "            <br>1.可解決分類問題</br>\n",
    "            <br>2.有分類線,很直觀的表示分類方式</br>\n",
    "            <br>3.可解決非線性問題(XOR問題)</br>\n",
    "        </td>\n",
    "        <td></td>\n",
    "    </tr>\n",
    "    <tr>\n",
    "        <td>多層感知器 (Multi-layer Perceptron)</td>\n",
    "        <td>\n",
    "            <br>1.可解決分類問題</br>\n",
    "            <br>2.有分類線,很直觀的表示分類方式</br>\n",
    "            <br>3.可解決非線性問題(XOR問題)</br>\n",
    "        </td>\n",
    "        <td></td>\n",
    "    </tr>\n",
    "</table>"
   ]
  },
  {
   "cell_type": "markdown",
   "metadata": {},
   "source": [
    "## 1-加載 Library"
   ]
  },
  {
   "cell_type": "code",
   "execution_count": 1,
   "metadata": {},
   "outputs": [],
   "source": [
    "%matplotlib inline\n",
    "from sklearn.datasets import load_iris\n",
    "import pandas as pd\n",
    "import matplotlib.pyplot as plt\n",
    "import seaborn as sns\n",
    "import numpy as np\n",
    "from mlxtend.plotting import plot_decision_regions"
   ]
  },
  {
   "cell_type": "markdown",
   "metadata": {},
   "source": [
    "## 2-數據集處理"
   ]
  },
  {
   "cell_type": "code",
   "execution_count": 2,
   "metadata": {
    "collapsed": true
   },
   "outputs": [
    {
     "data": {
      "text/html": [
       "<div>\n",
       "<style scoped>\n",
       "    .dataframe tbody tr th:only-of-type {\n",
       "        vertical-align: middle;\n",
       "    }\n",
       "\n",
       "    .dataframe tbody tr th {\n",
       "        vertical-align: top;\n",
       "    }\n",
       "\n",
       "    .dataframe thead th {\n",
       "        text-align: right;\n",
       "    }\n",
       "</style>\n",
       "<table border=\"1\" class=\"dataframe\">\n",
       "  <thead>\n",
       "    <tr style=\"text-align: right;\">\n",
       "      <th></th>\n",
       "      <th>x1</th>\n",
       "      <th>x2</th>\n",
       "      <th>y</th>\n",
       "    </tr>\n",
       "  </thead>\n",
       "  <tbody>\n",
       "    <tr>\n",
       "      <th>0</th>\n",
       "      <td>0</td>\n",
       "      <td>0</td>\n",
       "      <td>0</td>\n",
       "    </tr>\n",
       "    <tr>\n",
       "      <th>1</th>\n",
       "      <td>0</td>\n",
       "      <td>1</td>\n",
       "      <td>1</td>\n",
       "    </tr>\n",
       "    <tr>\n",
       "      <th>2</th>\n",
       "      <td>0</td>\n",
       "      <td>1</td>\n",
       "      <td>1</td>\n",
       "    </tr>\n",
       "    <tr>\n",
       "      <th>3</th>\n",
       "      <td>1</td>\n",
       "      <td>0</td>\n",
       "      <td>1</td>\n",
       "    </tr>\n",
       "    <tr>\n",
       "      <th>4</th>\n",
       "      <td>1</td>\n",
       "      <td>0</td>\n",
       "      <td>1</td>\n",
       "    </tr>\n",
       "    <tr>\n",
       "      <th>...</th>\n",
       "      <td>...</td>\n",
       "      <td>...</td>\n",
       "      <td>...</td>\n",
       "    </tr>\n",
       "    <tr>\n",
       "      <th>95</th>\n",
       "      <td>0</td>\n",
       "      <td>1</td>\n",
       "      <td>1</td>\n",
       "    </tr>\n",
       "    <tr>\n",
       "      <th>96</th>\n",
       "      <td>0</td>\n",
       "      <td>0</td>\n",
       "      <td>0</td>\n",
       "    </tr>\n",
       "    <tr>\n",
       "      <th>97</th>\n",
       "      <td>0</td>\n",
       "      <td>1</td>\n",
       "      <td>1</td>\n",
       "    </tr>\n",
       "    <tr>\n",
       "      <th>98</th>\n",
       "      <td>1</td>\n",
       "      <td>1</td>\n",
       "      <td>0</td>\n",
       "    </tr>\n",
       "    <tr>\n",
       "      <th>99</th>\n",
       "      <td>0</td>\n",
       "      <td>0</td>\n",
       "      <td>0</td>\n",
       "    </tr>\n",
       "  </tbody>\n",
       "</table>\n",
       "<p>100 rows × 3 columns</p>\n",
       "</div>"
      ],
      "text/plain": [
       "    x1  x2  y\n",
       "0    0   0  0\n",
       "1    0   1  1\n",
       "2    0   1  1\n",
       "3    1   0  1\n",
       "4    1   0  1\n",
       "..  ..  .. ..\n",
       "95   0   1  1\n",
       "96   0   0  0\n",
       "97   0   1  1\n",
       "98   1   1  0\n",
       "99   0   0  0\n",
       "\n",
       "[100 rows x 3 columns]"
      ]
     },
     "execution_count": 2,
     "metadata": {},
     "output_type": "execute_result"
    }
   ],
   "source": [
    "from numpy import random\n",
    "# 可以用 numpy 快速產生隨機, 第一個參數是你產生有多少種類\n",
    "# 第二個參數是你要幾個\n",
    "# x1 是我們的第一特徵, 你可以想像成帥\n",
    "# x2 是我們的第二特徵, 你可以想像成有才華\n",
    "x1 = random.choice([True, False], 100)\n",
    "x2 = random.choice([True, False], 100)\n",
    "# y 是我們的 target, 你可以想像成會不會喜歡\n",
    "y = np.logical_xor(x1, x2)\n",
    "df = pd.DataFrame(columns = [\"x1\", \"x2\", \"y\"])\n",
    "df[\"x1\"] = x1\n",
    "df[\"x2\"] = x2\n",
    "df[\"y\"] = y\n",
    "df = df.astype(int)\n",
    "df"
   ]
  },
  {
   "cell_type": "code",
   "execution_count": 12,
   "metadata": {},
   "outputs": [],
   "source": [
    "from sklearn.model_selection import train_test_split\n",
    "data = df.drop([\"target\"], axis = 1)\n",
    "data_train, data_test, target_train, target_test = train_test_split(data,\n",
    "                                                                    df['target'],\n",
    "                                                                    test_size=0.1)"
   ]
  },
  {
   "cell_type": "markdown",
   "metadata": {},
   "source": [
    "## 3-建立模型(Non-Linear SVM)"
   ]
  },
  {
   "cell_type": "code",
   "execution_count": 3,
   "metadata": {},
   "outputs": [],
   "source": [
    "from mlxtend.plotting import plot_decision_regions\n",
    "from sklearn.svm import SVC\n",
    "clf = SVC(kernel=\"rbf\")\n",
    "clf = clf.fit(df.drop([\"y\"], axis = 1), df[\"y\"])"
   ]
  },
  {
   "cell_type": "markdown",
   "metadata": {},
   "source": [
    "## 4-繪圖(Non-Linear SVM)的決策邊界"
   ]
  },
  {
   "cell_type": "code",
   "execution_count": 4,
   "metadata": {
    "scrolled": true
   },
   "outputs": [
    {
     "data": {
      "text/plain": [
       "<matplotlib.axes._subplots.AxesSubplot at 0x12de1d90>"
      ]
     },
     "execution_count": 4,
     "metadata": {},
     "output_type": "execute_result"
    },
    {
     "data": {
      "image/png": "[encoded data removed]",
      "text/plain": [
       "<Figure size 432x288 with 1 Axes>"
      ]
     },
     "metadata": {
      "needs_background": "light"
     },
     "output_type": "display_data"
    }
   ],
   "source": [
    "plot_decision_regions(X=np.array(df.drop([\"y\"], axis = 1)),\n",
    "                      y=np.array(df[\"y\"]),\n",
    "                      clf=clf)"
   ]
  },
  {
   "cell_type": "markdown",
   "metadata": {},
   "source": [
    "## 5-載入(測試集資料)"
   ]
  },
  {
   "cell_type": "code",
   "execution_count": 5,
   "metadata": {},
   "outputs": [],
   "source": [
    "x1 = random.choice([True, False], 50)\n",
    "x2 = random.choice([True, False], 50)\n",
    "df_test = pd.DataFrame(columns = [\"x1\", \"x2\", \"y\"])\n",
    "df_test[\"x1\"] = x1\n",
    "df_test[\"x2\"] = x2\n",
    "df_test[\"y\"] = np.logical_xor(x1, x2) # XOR運算"
   ]
  },
  {
   "cell_type": "markdown",
   "metadata": {},
   "source": [
    "## 6-模型準確率分析"
   ]
  },
  {
   "cell_type": "code",
   "execution_count": 6,
   "metadata": {},
   "outputs": [
    {
     "name": "stdout",
     "output_type": "stream",
     "text": [
      "預測: [1, 0, 0, 0, 1, 0, 0, 1, 1, 1, 0, 1, 0, 1, 0, 0, 1, 0, 0, 0, 0, 0, 1, 0, 0, 1, 1, 1, 0, 0, 1, 0, 0, 0, 0, 0, 1, 1, 1, 0, 1, 1, 1, 1, 0, 0, 0, 1, 1, 1]\n",
      "正確標籤: [True, False, False, False, True, False, False, True, True, True, False, True, False, True, False, False, True, False, False, False, False, False, True, False, False, True, True, True, False, False, True, False, False, False, False, False, True, True, True, False, True, True, True, True, False, False, False, True, True, True]\n",
      "正確率:  100.0 %\n"
     ]
    }
   ],
   "source": [
    "from sklearn.metrics import accuracy_score\n",
    "predict = clf.predict(df_test.drop([\"y\"], axis = 1))\n",
    "print(\"預測:\", list(predict))\n",
    "print(\"正確標籤:\", list(df_test[\"y\"]))\n",
    "print(\"正確率: \", accuracy_score(df_test[\"y\"], predict) * 100, \"%\")"
   ]
  },
  {
   "cell_type": "markdown",
   "metadata": {},
   "source": [
    "### SVM的極限: 無法解決(抽象問題的分類)"
   ]
  }
 ],
 "metadata": {
  "kernelspec": {
   "display_name": "Python 3",
   "language": "python",
   "name": "python3"
  },
  "language_info": {
   "codemirror_mode": {
    "name": "ipython",
    "version": 3
   },
   "file_extension": ".py",
   "mimetype": "text/x-python",
   "name": "python",
   "nbconvert_exporter": "python",
   "pygments_lexer": "ipython3",
   "version": "3.7.3"
  }
 },
 "nbformat": 4,
 "nbformat_minor": 2
}
