{
  "nbformat": 4,
  "nbformat_minor": 0,
  "metadata": {
    "accelerator": "GPU",
    "colab": {
      "name": "15_Embedding.ipynb",
      "provenance": [],
      "toc_visible": true
    },
    "kernelspec": {
      "display_name": "Python 3",
      "language": "python",
      "name": "python3"
    },
    "language_info": {
      "codemirror_mode": {
        "name": "ipython",
        "version": 3
      },
      "file_extension": ".py",
      "mimetype": "text/x-python",
      "name": "python",
      "nbconvert_exporter": "python",
      "pygments_lexer": "ipython3",
      "version": "3.6.5"
    }
  },
  "cells": [
    {
      "cell_type": "markdown",
      "metadata": {
        "colab_type": "text",
        "id": "AFLopNu_pBIo"
      },
      "source": [
        "# Embedding"
      ]
    },
    {
      "cell_type": "markdown",
      "metadata": {
        "colab_type": "text",
        "id": "O8mdx28HpBIt"
      },
      "source": [
        "## 1-下載資料"
      ]
    },
    {
      "cell_type": "code",
      "metadata": {
        "colab_type": "code",
        "id": "JVZOV6rspBIv",
        "outputId": "ee1c9711-b4f2-4689-a613-564a3bb66f45",
        "scrolled": true,
        "colab": {
          "base_uri": "https://localhost:8080/",
          "height": 51
        }
      },
      "source": [
        "from urllib.request import urlretrieve\n",
        "import os\n",
        "url = \"http://ai.stanford.edu/~amaas/data/sentiment/aclImdb_v1.tar.gz\"\n",
        "# 如果 data 資料夾不存在就創一下\n",
        "if not os.path.exists(\"../data\"):\n",
        "    print(\"data 資料夾不存在, 現在幫你創唷\")\n",
        "    os.mkdir(\"data\")\n",
        "    \n",
        "# 還沒下載過就下載一下\n",
        "filepath = \"data/imdb.tar.gz\"\n",
        "if not os.path.exists(filepath):\n",
        "    print(\"還沒下載過資料, 現在幫你下載唷\")\n",
        "    urlretrieve(url, filepath)\n",
        "else:\n",
        "    print(\"已下載過\")"
      ],
      "execution_count": 1,
      "outputs": [
        {
          "output_type": "stream",
          "text": [
            "data 資料夾不存在, 現在幫你創唷\n",
            "還沒下載過資料, 現在幫你下載唷\n"
          ],
          "name": "stdout"
        }
      ]
    },
    {
      "cell_type": "code",
      "metadata": {
        "id": "0ATvfyWR0yD0",
        "colab_type": "code",
        "colab": {
          "base_uri": "https://localhost:8080/",
          "height": 34
        },
        "outputId": "a6174ba9-31c4-4203-94f7-8b2f841a6e34"
      },
      "source": [
        "import tarfile\n",
        "if not os.path.exists(\"data/aclImdb\"):\n",
        "    print(\"還沒解壓縮過, 現在幫你解壓縮\")\n",
        "    tfile = tarfile.open(filepath, 'r')\n",
        "    tfile.extractall('data')\n",
        "else:\n",
        "    print(\"已解壓縮過\")"
      ],
      "execution_count": 2,
      "outputs": [
        {
          "output_type": "stream",
          "text": [
            "還沒解壓縮過, 現在幫你解壓縮\n"
          ],
          "name": "stdout"
        }
      ]
    },
    {
      "cell_type": "markdown",
      "metadata": {
        "colab_type": "text",
        "id": "ptwcmJ6UpBI0"
      },
      "source": [
        "## 2-數據集處理"
      ]
    },
    {
      "cell_type": "code",
      "metadata": {
        "colab_type": "code",
        "id": "bvRr7KEtpBI1",
        "outputId": "8bc777fe-15bb-412b-e0fd-229b23ad2d94",
        "scrolled": true,
        "colab": {
          "base_uri": "https://localhost:8080/",
          "height": 419
        }
      },
      "source": [
        "import pandas as pd\n",
        "# 為了顯示的漂亮, 我刻意的把印出來的 row 只顯示 15 個和 column 只顯示十個\n",
        "# 大家練習的時候可以去掉下面兩行\n",
        "pd.set_option('display.max_rows', 15)\n",
        "pd.set_option('display.max_columns', 10)\n",
        "train_df = pd.DataFrame(columns = [\"content\", \"sentiment\"])\n",
        "# 走過 pos 的資料夾，把資料夾整理好\n",
        "pos_path = \"data/aclImdb/train/pos\"\n",
        "for fpath in os.listdir(pos_path):\n",
        "    if not fpath.startswith(\".\"):\n",
        "        fpath = os.path.join(pos_path, fpath)\n",
        "        f = open(fpath, \"r\", encoding = \"utf-8\")\n",
        "        content = f.read()\n",
        "        s = pd.Series([content, 1], index = [\"content\", \"sentiment\"])\n",
        "        train_df = train_df.append(s, ignore_index = True)\n",
        "neg_path = \"data/aclImdb/train/neg\"\n",
        "for fpath in os.listdir(neg_path):\n",
        "    if not fpath.startswith(\".\"):\n",
        "        fpath = os.path.join(neg_path, fpath)\n",
        "        f = open(fpath, \"r\", encoding = \"utf-8\")\n",
        "        content = f.read()\n",
        "        s = pd.Series([content, 0], index = [\"content\", \"sentiment\"])\n",
        "        train_df = train_df.append(s, ignore_index = True)\n",
        "train_df"
      ],
      "execution_count": 3,
      "outputs": [
        {
          "output_type": "execute_result",
          "data": {
            "text/html": [
              "<div>\n",
              "<style scoped>\n",
              "    .dataframe tbody tr th:only-of-type {\n",
              "        vertical-align: middle;\n",
              "    }\n",
              "\n",
              "    .dataframe tbody tr th {\n",
              "        vertical-align: top;\n",
              "    }\n",
              "\n",
              "    .dataframe thead th {\n",
              "        text-align: right;\n",
              "    }\n",
              "</style>\n",
              "<table border=\"1\" class=\"dataframe\">\n",
              "  <thead>\n",
              "    <tr style=\"text-align: right;\">\n",
              "      <th></th>\n",
              "      <th>content</th>\n",
              "      <th>sentiment</th>\n",
              "    </tr>\n",
              "  </thead>\n",
              "  <tbody>\n",
              "    <tr>\n",
              "      <th>0</th>\n",
              "      <td>The story is extremely unique.It's about these...</td>\n",
              "      <td>1</td>\n",
              "    </tr>\n",
              "    <tr>\n",
              "      <th>1</th>\n",
              "      <td>Gregory Peck's brilliant portrayal of Douglas ...</td>\n",
              "      <td>1</td>\n",
              "    </tr>\n",
              "    <tr>\n",
              "      <th>2</th>\n",
              "      <td>Mario's first foray into the world of 3-dimens...</td>\n",
              "      <td>1</td>\n",
              "    </tr>\n",
              "    <tr>\n",
              "      <th>3</th>\n",
              "      <td>I am decidedly not in the target audience for ...</td>\n",
              "      <td>1</td>\n",
              "    </tr>\n",
              "    <tr>\n",
              "      <th>4</th>\n",
              "      <td>One of John Ford's best films 'The Informer' d...</td>\n",
              "      <td>1</td>\n",
              "    </tr>\n",
              "    <tr>\n",
              "      <th>...</th>\n",
              "      <td>...</td>\n",
              "      <td>...</td>\n",
              "    </tr>\n",
              "    <tr>\n",
              "      <th>24995</th>\n",
              "      <td>Not too keen on this really. The story is pret...</td>\n",
              "      <td>0</td>\n",
              "    </tr>\n",
              "    <tr>\n",
              "      <th>24996</th>\n",
              "      <td>What can I say about this film other than \"don...</td>\n",
              "      <td>0</td>\n",
              "    </tr>\n",
              "    <tr>\n",
              "      <th>24997</th>\n",
              "      <td>A question for you : A family go to a new hous...</td>\n",
              "      <td>0</td>\n",
              "    </tr>\n",
              "    <tr>\n",
              "      <th>24998</th>\n",
              "      <td>This film is the worst film, but it ranks very...</td>\n",
              "      <td>0</td>\n",
              "    </tr>\n",
              "    <tr>\n",
              "      <th>24999</th>\n",
              "      <td>If ever there was a film that deserved a big f...</td>\n",
              "      <td>0</td>\n",
              "    </tr>\n",
              "  </tbody>\n",
              "</table>\n",
              "<p>25000 rows × 2 columns</p>\n",
              "</div>"
            ],
            "text/plain": [
              "                                                 content sentiment\n",
              "0      The story is extremely unique.It's about these...         1\n",
              "1      Gregory Peck's brilliant portrayal of Douglas ...         1\n",
              "2      Mario's first foray into the world of 3-dimens...         1\n",
              "3      I am decidedly not in the target audience for ...         1\n",
              "4      One of John Ford's best films 'The Informer' d...         1\n",
              "...                                                  ...       ...\n",
              "24995  Not too keen on this really. The story is pret...         0\n",
              "24996  What can I say about this film other than \"don...         0\n",
              "24997  A question for you : A family go to a new hous...         0\n",
              "24998  This film is the worst film, but it ranks very...         0\n",
              "24999  If ever there was a film that deserved a big f...         0\n",
              "\n",
              "[25000 rows x 2 columns]"
            ]
          },
          "metadata": {
            "tags": []
          },
          "execution_count": 3
        }
      ]
    },
    {
      "cell_type": "code",
      "metadata": {
        "colab_type": "code",
        "id": "r4UQuF1BpBI5",
        "outputId": "c6108cfd-5c27-4194-d39a-78e22f6d7e3b",
        "colab": {
          "base_uri": "https://localhost:8080/",
          "height": 419
        }
      },
      "source": [
        "test_df = pd.DataFrame(columns = [\"content\", \"sentiment\"])\n",
        "pos_path = \"data/aclImdb/test/pos\"\n",
        "for fpath in os.listdir(pos_path):\n",
        "    if not fpath.startswith(\".\"):\n",
        "        fpath = os.path.join(pos_path, fpath)\n",
        "        f = open(fpath, \"r\", encoding = \"utf-8\")\n",
        "        content = f.read()\n",
        "        s = pd.Series([content, 1], index = [\"content\", \"sentiment\"])\n",
        "        test_df = test_df.append(s, ignore_index = True)\n",
        "neg_path = \"data/aclImdb/test/neg\"\n",
        "for fpath in os.listdir(neg_path):\n",
        "    if not fpath.startswith(\".\"):\n",
        "        fpath = os.path.join(neg_path, fpath)\n",
        "        f = open(fpath, \"r\", encoding = \"utf-8\")\n",
        "        content = f.read()\n",
        "        s = pd.Series([content, 0], index = [\"content\", \"sentiment\"])\n",
        "        test_df = test_df.append(s, ignore_index = True)\n",
        "test_df"
      ],
      "execution_count": 4,
      "outputs": [
        {
          "output_type": "execute_result",
          "data": {
            "text/html": [
              "<div>\n",
              "<style scoped>\n",
              "    .dataframe tbody tr th:only-of-type {\n",
              "        vertical-align: middle;\n",
              "    }\n",
              "\n",
              "    .dataframe tbody tr th {\n",
              "        vertical-align: top;\n",
              "    }\n",
              "\n",
              "    .dataframe thead th {\n",
              "        text-align: right;\n",
              "    }\n",
              "</style>\n",
              "<table border=\"1\" class=\"dataframe\">\n",
              "  <thead>\n",
              "    <tr style=\"text-align: right;\">\n",
              "      <th></th>\n",
              "      <th>content</th>\n",
              "      <th>sentiment</th>\n",
              "    </tr>\n",
              "  </thead>\n",
              "  <tbody>\n",
              "    <tr>\n",
              "      <th>0</th>\n",
              "      <td>Went to the premiere at the Tribeca Film Festi...</td>\n",
              "      <td>1</td>\n",
              "    </tr>\n",
              "    <tr>\n",
              "      <th>1</th>\n",
              "      <td>Just watched Conrack for the first time. Altho...</td>\n",
              "      <td>1</td>\n",
              "    </tr>\n",
              "    <tr>\n",
              "      <th>2</th>\n",
              "      <td>Most of the Brigitte Bardot movies I've seen h...</td>\n",
              "      <td>1</td>\n",
              "    </tr>\n",
              "    <tr>\n",
              "      <th>3</th>\n",
              "      <td>I truly fell in love with the characters. They...</td>\n",
              "      <td>1</td>\n",
              "    </tr>\n",
              "    <tr>\n",
              "      <th>4</th>\n",
              "      <td>The 2005 edition of the Royal Rumble came live...</td>\n",
              "      <td>1</td>\n",
              "    </tr>\n",
              "    <tr>\n",
              "      <th>...</th>\n",
              "      <td>...</td>\n",
              "      <td>...</td>\n",
              "    </tr>\n",
              "    <tr>\n",
              "      <th>24995</th>\n",
              "      <td>I have not seen such a stupid,dumb movie since...</td>\n",
              "      <td>0</td>\n",
              "    </tr>\n",
              "    <tr>\n",
              "      <th>24996</th>\n",
              "      <td>Sometimes a movie cannot easily be classified....</td>\n",
              "      <td>0</td>\n",
              "    </tr>\n",
              "    <tr>\n",
              "      <th>24997</th>\n",
              "      <td>... what a porn movie would look like if you t...</td>\n",
              "      <td>0</td>\n",
              "    </tr>\n",
              "    <tr>\n",
              "      <th>24998</th>\n",
              "      <td>New York attorney plots to rid himself of his ...</td>\n",
              "      <td>0</td>\n",
              "    </tr>\n",
              "    <tr>\n",
              "      <th>24999</th>\n",
              "      <td>A severe backwards step for the puppets in thi...</td>\n",
              "      <td>0</td>\n",
              "    </tr>\n",
              "  </tbody>\n",
              "</table>\n",
              "<p>25000 rows × 2 columns</p>\n",
              "</div>"
            ],
            "text/plain": [
              "                                                 content sentiment\n",
              "0      Went to the premiere at the Tribeca Film Festi...         1\n",
              "1      Just watched Conrack for the first time. Altho...         1\n",
              "2      Most of the Brigitte Bardot movies I've seen h...         1\n",
              "3      I truly fell in love with the characters. They...         1\n",
              "4      The 2005 edition of the Royal Rumble came live...         1\n",
              "...                                                  ...       ...\n",
              "24995  I have not seen such a stupid,dumb movie since...         0\n",
              "24996  Sometimes a movie cannot easily be classified....         0\n",
              "24997  ... what a porn movie would look like if you t...         0\n",
              "24998  New York attorney plots to rid himself of his ...         0\n",
              "24999  A severe backwards step for the puppets in thi...         0\n",
              "\n",
              "[25000 rows x 2 columns]"
            ]
          },
          "metadata": {
            "tags": []
          },
          "execution_count": 4
        }
      ]
    },
    {
      "cell_type": "code",
      "metadata": {
        "colab_type": "code",
        "id": "JubSuPfFpBI-",
        "colab": {
          "base_uri": "https://localhost:8080/",
          "height": 499
        },
        "outputId": "13597585-1e1d-47e9-f366-a6ff501ea9df"
      },
      "source": [
        "# 把我們訓練資料找出最常見的 2000 字拿來建立出 2000 維度的字典\n",
        "from keras.preprocessing.text import Tokenizer\n",
        "token = Tokenizer(num_words=2000)\n",
        "token.fit_on_texts(train_df[\"content\"])\n",
        "\n",
        "# 利用字典把我們整理好的 DataFrame 每一個詞變成數字\n",
        "x_train_seq = token.texts_to_sequences(train_df[\"content\"])\n",
        "x_test_seq = token.texts_to_sequences(test_df[\"content\"])\n",
        "pd.DataFrame(x_train_seq)"
      ],
      "execution_count": 5,
      "outputs": [
        {
          "output_type": "stream",
          "text": [
            "Using TensorFlow backend.\n"
          ],
          "name": "stderr"
        },
        {
          "output_type": "display_data",
          "data": {
            "text/html": [
              "<p style=\"color: red;\">\n",
              "The default version of TensorFlow in Colab will soon switch to TensorFlow 2.x.<br>\n",
              "We recommend you <a href=\"https://www.tensorflow.org/guide/migrate\" target=\"_blank\">upgrade</a> now \n",
              "or ensure your notebook will continue to use TensorFlow 1.x via the <code>%tensorflow_version 1.x</code> magic:\n",
              "<a href=\"https://colab.research.google.com/notebooks/tensorflow_version.ipynb\" target=\"_blank\">more info</a>.</p>\n"
            ],
            "text/plain": [
              "<IPython.core.display.HTML object>"
            ]
          },
          "metadata": {
            "tags": []
          }
        },
        {
          "output_type": "execute_result",
          "data": {
            "text/html": [
              "<div>\n",
              "<style scoped>\n",
              "    .dataframe tbody tr th:only-of-type {\n",
              "        vertical-align: middle;\n",
              "    }\n",
              "\n",
              "    .dataframe tbody tr th {\n",
              "        vertical-align: top;\n",
              "    }\n",
              "\n",
              "    .dataframe thead th {\n",
              "        text-align: right;\n",
              "    }\n",
              "</style>\n",
              "<table border=\"1\" class=\"dataframe\">\n",
              "  <thead>\n",
              "    <tr style=\"text-align: right;\">\n",
              "      <th></th>\n",
              "      <th>0</th>\n",
              "      <th>1</th>\n",
              "      <th>2</th>\n",
              "      <th>3</th>\n",
              "      <th>4</th>\n",
              "      <th>...</th>\n",
              "      <th>1706</th>\n",
              "      <th>1707</th>\n",
              "      <th>1708</th>\n",
              "      <th>1709</th>\n",
              "      <th>1710</th>\n",
              "    </tr>\n",
              "  </thead>\n",
              "  <tbody>\n",
              "    <tr>\n",
              "      <th>0</th>\n",
              "      <td>1</td>\n",
              "      <td>62</td>\n",
              "      <td>6</td>\n",
              "      <td>573</td>\n",
              "      <td>951</td>\n",
              "      <td>...</td>\n",
              "      <td>NaN</td>\n",
              "      <td>NaN</td>\n",
              "      <td>NaN</td>\n",
              "      <td>NaN</td>\n",
              "      <td>NaN</td>\n",
              "    </tr>\n",
              "    <tr>\n",
              "      <th>1</th>\n",
              "      <td>526</td>\n",
              "      <td>1141</td>\n",
              "      <td>4</td>\n",
              "      <td>1763</td>\n",
              "      <td>36</td>\n",
              "      <td>...</td>\n",
              "      <td>NaN</td>\n",
              "      <td>NaN</td>\n",
              "      <td>NaN</td>\n",
              "      <td>NaN</td>\n",
              "      <td>NaN</td>\n",
              "    </tr>\n",
              "    <tr>\n",
              "      <th>2</th>\n",
              "      <td>83</td>\n",
              "      <td>80</td>\n",
              "      <td>1</td>\n",
              "      <td>179</td>\n",
              "      <td>4</td>\n",
              "      <td>...</td>\n",
              "      <td>NaN</td>\n",
              "      <td>NaN</td>\n",
              "      <td>NaN</td>\n",
              "      <td>NaN</td>\n",
              "      <td>NaN</td>\n",
              "    </tr>\n",
              "    <tr>\n",
              "      <th>3</th>\n",
              "      <td>10</td>\n",
              "      <td>241</td>\n",
              "      <td>21</td>\n",
              "      <td>8</td>\n",
              "      <td>1</td>\n",
              "      <td>...</td>\n",
              "      <td>NaN</td>\n",
              "      <td>NaN</td>\n",
              "      <td>NaN</td>\n",
              "      <td>NaN</td>\n",
              "      <td>NaN</td>\n",
              "    </tr>\n",
              "    <tr>\n",
              "      <th>4</th>\n",
              "      <td>28</td>\n",
              "      <td>4</td>\n",
              "      <td>304</td>\n",
              "      <td>115</td>\n",
              "      <td>105</td>\n",
              "      <td>...</td>\n",
              "      <td>NaN</td>\n",
              "      <td>NaN</td>\n",
              "      <td>NaN</td>\n",
              "      <td>NaN</td>\n",
              "      <td>NaN</td>\n",
              "    </tr>\n",
              "    <tr>\n",
              "      <th>...</th>\n",
              "      <td>...</td>\n",
              "      <td>...</td>\n",
              "      <td>...</td>\n",
              "      <td>...</td>\n",
              "      <td>...</td>\n",
              "      <td>...</td>\n",
              "      <td>...</td>\n",
              "      <td>...</td>\n",
              "      <td>...</td>\n",
              "      <td>...</td>\n",
              "      <td>...</td>\n",
              "    </tr>\n",
              "    <tr>\n",
              "      <th>24995</th>\n",
              "      <td>21</td>\n",
              "      <td>96</td>\n",
              "      <td>20</td>\n",
              "      <td>11</td>\n",
              "      <td>63</td>\n",
              "      <td>...</td>\n",
              "      <td>NaN</td>\n",
              "      <td>NaN</td>\n",
              "      <td>NaN</td>\n",
              "      <td>NaN</td>\n",
              "      <td>NaN</td>\n",
              "    </tr>\n",
              "    <tr>\n",
              "      <th>24996</th>\n",
              "      <td>48</td>\n",
              "      <td>67</td>\n",
              "      <td>10</td>\n",
              "      <td>132</td>\n",
              "      <td>41</td>\n",
              "      <td>...</td>\n",
              "      <td>NaN</td>\n",
              "      <td>NaN</td>\n",
              "      <td>NaN</td>\n",
              "      <td>NaN</td>\n",
              "      <td>NaN</td>\n",
              "    </tr>\n",
              "    <tr>\n",
              "      <th>24997</th>\n",
              "      <td>3</td>\n",
              "      <td>884</td>\n",
              "      <td>15</td>\n",
              "      <td>22</td>\n",
              "      <td>3</td>\n",
              "      <td>...</td>\n",
              "      <td>NaN</td>\n",
              "      <td>NaN</td>\n",
              "      <td>NaN</td>\n",
              "      <td>NaN</td>\n",
              "      <td>NaN</td>\n",
              "    </tr>\n",
              "    <tr>\n",
              "      <th>24998</th>\n",
              "      <td>11</td>\n",
              "      <td>19</td>\n",
              "      <td>6</td>\n",
              "      <td>1</td>\n",
              "      <td>246</td>\n",
              "      <td>...</td>\n",
              "      <td>NaN</td>\n",
              "      <td>NaN</td>\n",
              "      <td>NaN</td>\n",
              "      <td>NaN</td>\n",
              "      <td>NaN</td>\n",
              "    </tr>\n",
              "    <tr>\n",
              "      <th>24999</th>\n",
              "      <td>45</td>\n",
              "      <td>123</td>\n",
              "      <td>47</td>\n",
              "      <td>13</td>\n",
              "      <td>3</td>\n",
              "      <td>...</td>\n",
              "      <td>NaN</td>\n",
              "      <td>NaN</td>\n",
              "      <td>NaN</td>\n",
              "      <td>NaN</td>\n",
              "      <td>NaN</td>\n",
              "    </tr>\n",
              "  </tbody>\n",
              "</table>\n",
              "<p>25000 rows × 1711 columns</p>\n",
              "</div>"
            ],
            "text/plain": [
              "       0     1     2     3     4     ...  1706  1707  1708  1709  1710\n",
              "0         1    62     6   573   951  ...   NaN   NaN   NaN   NaN   NaN\n",
              "1       526  1141     4  1763    36  ...   NaN   NaN   NaN   NaN   NaN\n",
              "2        83    80     1   179     4  ...   NaN   NaN   NaN   NaN   NaN\n",
              "3        10   241    21     8     1  ...   NaN   NaN   NaN   NaN   NaN\n",
              "4        28     4   304   115   105  ...   NaN   NaN   NaN   NaN   NaN\n",
              "...     ...   ...   ...   ...   ...  ...   ...   ...   ...   ...   ...\n",
              "24995    21    96    20    11    63  ...   NaN   NaN   NaN   NaN   NaN\n",
              "24996    48    67    10   132    41  ...   NaN   NaN   NaN   NaN   NaN\n",
              "24997     3   884    15    22     3  ...   NaN   NaN   NaN   NaN   NaN\n",
              "24998    11    19     6     1   246  ...   NaN   NaN   NaN   NaN   NaN\n",
              "24999    45   123    47    13     3  ...   NaN   NaN   NaN   NaN   NaN\n",
              "\n",
              "[25000 rows x 1711 columns]"
            ]
          },
          "metadata": {
            "tags": []
          },
          "execution_count": 5
        }
      ]
    },
    {
      "cell_type": "code",
      "metadata": {
        "id": "qm1pDKgm0yEu",
        "colab_type": "code",
        "colab": {
          "base_uri": "https://localhost:8080/",
          "height": 419
        },
        "outputId": "5c7a0143-832d-4983-9d55-efd8098aedc6"
      },
      "source": [
        "from keras.preprocessing import sequence\n",
        "x_train_pad = sequence.pad_sequences(x_train_seq, maxlen = 100)\n",
        "x_test_pad = sequence.pad_sequences(x_test_seq, maxlen = 100)\n",
        "pd.DataFrame(x_train_pad)"
      ],
      "execution_count": 6,
      "outputs": [
        {
          "output_type": "execute_result",
          "data": {
            "text/html": [
              "<div>\n",
              "<style scoped>\n",
              "    .dataframe tbody tr th:only-of-type {\n",
              "        vertical-align: middle;\n",
              "    }\n",
              "\n",
              "    .dataframe tbody tr th {\n",
              "        vertical-align: top;\n",
              "    }\n",
              "\n",
              "    .dataframe thead th {\n",
              "        text-align: right;\n",
              "    }\n",
              "</style>\n",
              "<table border=\"1\" class=\"dataframe\">\n",
              "  <thead>\n",
              "    <tr style=\"text-align: right;\">\n",
              "      <th></th>\n",
              "      <th>0</th>\n",
              "      <th>1</th>\n",
              "      <th>2</th>\n",
              "      <th>3</th>\n",
              "      <th>4</th>\n",
              "      <th>...</th>\n",
              "      <th>95</th>\n",
              "      <th>96</th>\n",
              "      <th>97</th>\n",
              "      <th>98</th>\n",
              "      <th>99</th>\n",
              "    </tr>\n",
              "  </thead>\n",
              "  <tbody>\n",
              "    <tr>\n",
              "      <th>0</th>\n",
              "      <td>1927</td>\n",
              "      <td>4</td>\n",
              "      <td>55</td>\n",
              "      <td>365</td>\n",
              "      <td>2</td>\n",
              "      <td>...</td>\n",
              "      <td>9</td>\n",
              "      <td>36</td>\n",
              "      <td>109</td>\n",
              "      <td>3</td>\n",
              "      <td>353</td>\n",
              "    </tr>\n",
              "    <tr>\n",
              "      <th>1</th>\n",
              "      <td>14</td>\n",
              "      <td>24</td>\n",
              "      <td>1609</td>\n",
              "      <td>2</td>\n",
              "      <td>414</td>\n",
              "      <td>...</td>\n",
              "      <td>70</td>\n",
              "      <td>287</td>\n",
              "      <td>146</td>\n",
              "      <td>705</td>\n",
              "      <td>155</td>\n",
              "    </tr>\n",
              "    <tr>\n",
              "      <th>2</th>\n",
              "      <td>0</td>\n",
              "      <td>0</td>\n",
              "      <td>0</td>\n",
              "      <td>0</td>\n",
              "      <td>0</td>\n",
              "      <td>...</td>\n",
              "      <td>1</td>\n",
              "      <td>1270</td>\n",
              "      <td>15</td>\n",
              "      <td>1150</td>\n",
              "      <td>1624</td>\n",
              "    </tr>\n",
              "    <tr>\n",
              "      <th>3</th>\n",
              "      <td>617</td>\n",
              "      <td>28</td>\n",
              "      <td>93</td>\n",
              "      <td>39</td>\n",
              "      <td>157</td>\n",
              "      <td>...</td>\n",
              "      <td>28</td>\n",
              "      <td>9</td>\n",
              "      <td>6</td>\n",
              "      <td>52</td>\n",
              "      <td>488</td>\n",
              "    </tr>\n",
              "    <tr>\n",
              "      <th>4</th>\n",
              "      <td>3</td>\n",
              "      <td>4</td>\n",
              "      <td>549</td>\n",
              "      <td>59</td>\n",
              "      <td>27</td>\n",
              "      <td>...</td>\n",
              "      <td>115</td>\n",
              "      <td>877</td>\n",
              "      <td>2</td>\n",
              "      <td>115</td>\n",
              "      <td>600</td>\n",
              "    </tr>\n",
              "    <tr>\n",
              "      <th>...</th>\n",
              "      <td>...</td>\n",
              "      <td>...</td>\n",
              "      <td>...</td>\n",
              "      <td>...</td>\n",
              "      <td>...</td>\n",
              "      <td>...</td>\n",
              "      <td>...</td>\n",
              "      <td>...</td>\n",
              "      <td>...</td>\n",
              "      <td>...</td>\n",
              "      <td>...</td>\n",
              "    </tr>\n",
              "    <tr>\n",
              "      <th>24995</th>\n",
              "      <td>1</td>\n",
              "      <td>62</td>\n",
              "      <td>6</td>\n",
              "      <td>181</td>\n",
              "      <td>2</td>\n",
              "      <td>...</td>\n",
              "      <td>1</td>\n",
              "      <td>4</td>\n",
              "      <td>2</td>\n",
              "      <td>103</td>\n",
              "      <td>11</td>\n",
              "    </tr>\n",
              "    <tr>\n",
              "      <th>24996</th>\n",
              "      <td>1</td>\n",
              "      <td>127</td>\n",
              "      <td>4</td>\n",
              "      <td>1</td>\n",
              "      <td>17</td>\n",
              "      <td>...</td>\n",
              "      <td>35</td>\n",
              "      <td>75</td>\n",
              "      <td>42</td>\n",
              "      <td>40</td>\n",
              "      <td>75</td>\n",
              "    </tr>\n",
              "    <tr>\n",
              "      <th>24997</th>\n",
              "      <td>1797</td>\n",
              "      <td>118</td>\n",
              "      <td>1</td>\n",
              "      <td>102</td>\n",
              "      <td>23</td>\n",
              "      <td>...</td>\n",
              "      <td>19</td>\n",
              "      <td>12</td>\n",
              "      <td>587</td>\n",
              "      <td>74</td>\n",
              "      <td>90</td>\n",
              "    </tr>\n",
              "    <tr>\n",
              "      <th>24998</th>\n",
              "      <td>6</td>\n",
              "      <td>86</td>\n",
              "      <td>3</td>\n",
              "      <td>1176</td>\n",
              "      <td>17</td>\n",
              "      <td>...</td>\n",
              "      <td>365</td>\n",
              "      <td>103</td>\n",
              "      <td>9</td>\n",
              "      <td>2</td>\n",
              "      <td>459</td>\n",
              "    </tr>\n",
              "    <tr>\n",
              "      <th>24999</th>\n",
              "      <td>149</td>\n",
              "      <td>137</td>\n",
              "      <td>1760</td>\n",
              "      <td>2</td>\n",
              "      <td>51</td>\n",
              "      <td>...</td>\n",
              "      <td>7</td>\n",
              "      <td>7</td>\n",
              "      <td>155</td>\n",
              "      <td>2</td>\n",
              "      <td>195</td>\n",
              "    </tr>\n",
              "  </tbody>\n",
              "</table>\n",
              "<p>25000 rows × 100 columns</p>\n",
              "</div>"
            ],
            "text/plain": [
              "         0    1     2     3    4   ...   95    96   97    98    99\n",
              "0      1927    4    55   365    2  ...    9    36  109     3   353\n",
              "1        14   24  1609     2  414  ...   70   287  146   705   155\n",
              "2         0    0     0     0    0  ...    1  1270   15  1150  1624\n",
              "3       617   28    93    39  157  ...   28     9    6    52   488\n",
              "4         3    4   549    59   27  ...  115   877    2   115   600\n",
              "...     ...  ...   ...   ...  ...  ...  ...   ...  ...   ...   ...\n",
              "24995     1   62     6   181    2  ...    1     4    2   103    11\n",
              "24996     1  127     4     1   17  ...   35    75   42    40    75\n",
              "24997  1797  118     1   102   23  ...   19    12  587    74    90\n",
              "24998     6   86     3  1176   17  ...  365   103    9     2   459\n",
              "24999   149  137  1760     2   51  ...    7     7  155     2   195\n",
              "\n",
              "[25000 rows x 100 columns]"
            ]
          },
          "metadata": {
            "tags": []
          },
          "execution_count": 6
        }
      ]
    },
    {
      "cell_type": "markdown",
      "metadata": {
        "colab_type": "text",
        "id": "Chp5chG1pBJB"
      },
      "source": [
        "## 3-建立模型"
      ]
    },
    {
      "cell_type": "code",
      "metadata": {
        "colab_type": "code",
        "id": "zNoL3g5_pBJD",
        "outputId": "37ceee1c-2534-4f20-d667-ab983c298880",
        "scrolled": true,
        "colab": {
          "base_uri": "https://localhost:8080/",
          "height": 564
        }
      },
      "source": [
        "from keras.models import Sequential\n",
        "from keras.layers.core import Dense, Dropout, Flatten\n",
        "from keras.layers.embeddings import Embedding\n",
        "model = Sequential()\n",
        "model.add(Embedding(output_dim=32, input_dim=2000, input_length=100))\n",
        "model.add(Dropout(0.2))\n",
        "model.add(Flatten())\n",
        "model.add(Dense(units=256, activation='relu'))\n",
        "model.add(Dropout(0.35))\n",
        "# 注意一下, 因為我們是二元分類, 最後的激勵函數選擇 sigmoid\n",
        "# sigmoid(正 + 負 =100%) softmax(類別全部 =100%)\n",
        "model.add(Dense(units=1, activation='sigmoid'))\n",
        "model.summary()"
      ],
      "execution_count": 7,
      "outputs": [
        {
          "output_type": "stream",
          "text": [
            "WARNING:tensorflow:From /usr/local/lib/python3.6/dist-packages/keras/backend/tensorflow_backend.py:66: The name tf.get_default_graph is deprecated. Please use tf.compat.v1.get_default_graph instead.\n",
            "\n",
            "WARNING:tensorflow:From /usr/local/lib/python3.6/dist-packages/keras/backend/tensorflow_backend.py:541: The name tf.placeholder is deprecated. Please use tf.compat.v1.placeholder instead.\n",
            "\n",
            "WARNING:tensorflow:From /usr/local/lib/python3.6/dist-packages/keras/backend/tensorflow_backend.py:4432: The name tf.random_uniform is deprecated. Please use tf.random.uniform instead.\n",
            "\n",
            "WARNING:tensorflow:From /usr/local/lib/python3.6/dist-packages/keras/backend/tensorflow_backend.py:148: The name tf.placeholder_with_default is deprecated. Please use tf.compat.v1.placeholder_with_default instead.\n",
            "\n",
            "WARNING:tensorflow:From /usr/local/lib/python3.6/dist-packages/keras/backend/tensorflow_backend.py:3733: calling dropout (from tensorflow.python.ops.nn_ops) with keep_prob is deprecated and will be removed in a future version.\n",
            "Instructions for updating:\n",
            "Please use `rate` instead of `keep_prob`. Rate should be set to `rate = 1 - keep_prob`.\n",
            "Model: \"sequential_1\"\n",
            "_________________________________________________________________\n",
            "Layer (type)                 Output Shape              Param #   \n",
            "=================================================================\n",
            "embedding_1 (Embedding)      (None, 100, 32)           64000     \n",
            "_________________________________________________________________\n",
            "dropout_1 (Dropout)          (None, 100, 32)           0         \n",
            "_________________________________________________________________\n",
            "flatten_1 (Flatten)          (None, 3200)              0         \n",
            "_________________________________________________________________\n",
            "dense_1 (Dense)              (None, 256)               819456    \n",
            "_________________________________________________________________\n",
            "dropout_2 (Dropout)          (None, 256)               0         \n",
            "_________________________________________________________________\n",
            "dense_2 (Dense)              (None, 1)                 257       \n",
            "=================================================================\n",
            "Total params: 883,713\n",
            "Trainable params: 883,713\n",
            "Non-trainable params: 0\n",
            "_________________________________________________________________\n"
          ],
          "name": "stdout"
        }
      ]
    },
    {
      "cell_type": "code",
      "metadata": {
        "colab_type": "code",
        "id": "j9LlvlBJpBJK",
        "outputId": "8dc5be50-8864-4a0d-b542-4bfd021e518e",
        "colab": {
          "base_uri": "https://localhost:8080/",
          "height": 156
        }
      },
      "source": [
        "import numpy as np\n",
        "# 特別注意一下, 因為我們只是二元分類, 所以這裡的 loss 選擇 binary_crossentropy\n",
        "model.compile(loss='binary_crossentropy',\n",
        "              optimizer='adam',\n",
        "              metrics=['accuracy'])\n",
        "from keras.datasets import imdb\n",
        "y_train = train_df['sentiment']"
      ],
      "execution_count": 8,
      "outputs": [
        {
          "output_type": "stream",
          "text": [
            "WARNING:tensorflow:From /usr/local/lib/python3.6/dist-packages/keras/optimizers.py:793: The name tf.train.Optimizer is deprecated. Please use tf.compat.v1.train.Optimizer instead.\n",
            "\n",
            "WARNING:tensorflow:From /usr/local/lib/python3.6/dist-packages/keras/backend/tensorflow_backend.py:3657: The name tf.log is deprecated. Please use tf.math.log instead.\n",
            "\n",
            "WARNING:tensorflow:From /usr/local/lib/python3.6/dist-packages/tensorflow_core/python/ops/nn_impl.py:183: where (from tensorflow.python.ops.array_ops) is deprecated and will be removed in a future version.\n",
            "Instructions for updating:\n",
            "Use tf.where in 2.0, which has the same broadcast rule as np.where\n"
          ],
          "name": "stdout"
        }
      ]
    },
    {
      "cell_type": "code",
      "metadata": {
        "colab_type": "code",
        "id": "wIeNXH2GpBJN",
        "outputId": "9e4b4c01-3353-4dac-c76d-70e65875e770",
        "colab": {
          "base_uri": "https://localhost:8080/",
          "height": 428
        }
      },
      "source": [
        "train_history = model.fit(x_train_pad, y_train,\n",
        "                          batch_size = 100,\n",
        "                          epochs = 3,\n",
        "                          verbose = 2,\n",
        "                          validation_split = 0.2)"
      ],
      "execution_count": 9,
      "outputs": [
        {
          "output_type": "stream",
          "text": [
            "WARNING:tensorflow:From /usr/local/lib/python3.6/dist-packages/keras/backend/tensorflow_backend.py:1033: The name tf.assign_add is deprecated. Please use tf.compat.v1.assign_add instead.\n",
            "\n",
            "WARNING:tensorflow:From /usr/local/lib/python3.6/dist-packages/keras/backend/tensorflow_backend.py:1020: The name tf.assign is deprecated. Please use tf.compat.v1.assign instead.\n",
            "\n",
            "WARNING:tensorflow:From /usr/local/lib/python3.6/dist-packages/keras/backend/tensorflow_backend.py:3005: The name tf.Session is deprecated. Please use tf.compat.v1.Session instead.\n",
            "\n",
            "Train on 20000 samples, validate on 5000 samples\n",
            "Epoch 1/3\n",
            "WARNING:tensorflow:From /usr/local/lib/python3.6/dist-packages/keras/backend/tensorflow_backend.py:190: The name tf.get_default_session is deprecated. Please use tf.compat.v1.get_default_session instead.\n",
            "\n",
            "WARNING:tensorflow:From /usr/local/lib/python3.6/dist-packages/keras/backend/tensorflow_backend.py:197: The name tf.ConfigProto is deprecated. Please use tf.compat.v1.ConfigProto instead.\n",
            "\n",
            "WARNING:tensorflow:From /usr/local/lib/python3.6/dist-packages/keras/backend/tensorflow_backend.py:207: The name tf.global_variables is deprecated. Please use tf.compat.v1.global_variables instead.\n",
            "\n",
            "WARNING:tensorflow:From /usr/local/lib/python3.6/dist-packages/keras/backend/tensorflow_backend.py:216: The name tf.is_variable_initialized is deprecated. Please use tf.compat.v1.is_variable_initialized instead.\n",
            "\n",
            "WARNING:tensorflow:From /usr/local/lib/python3.6/dist-packages/keras/backend/tensorflow_backend.py:223: The name tf.variables_initializer is deprecated. Please use tf.compat.v1.variables_initializer instead.\n",
            "\n",
            " - 10s - loss: 0.4855 - acc: 0.7515 - val_loss: 0.4884 - val_acc: 0.7730\n",
            "Epoch 2/3\n",
            " - 1s - loss: 0.2688 - acc: 0.8898 - val_loss: 0.5958 - val_acc: 0.7308\n",
            "Epoch 3/3\n",
            " - 1s - loss: 0.1639 - acc: 0.9387 - val_loss: 0.5481 - val_acc: 0.7884\n"
          ],
          "name": "stdout"
        }
      ]
    },
    {
      "cell_type": "markdown",
      "metadata": {
        "colab_type": "text",
        "id": "zaYTWOlxpBJQ"
      },
      "source": [
        "## 4-繪圖"
      ]
    },
    {
      "cell_type": "code",
      "metadata": {
        "id": "I0NNguqh0yFC",
        "colab_type": "code",
        "colab": {
          "base_uri": "https://localhost:8080/",
          "height": 298
        },
        "outputId": "8d246742-7ee2-469d-a329-fefb8bd0d5e2"
      },
      "source": [
        "import matplotlib.pyplot as plt\n",
        "%matplotlib inline\n",
        "plt.plot(train_history.history[\"loss\"])\n",
        "plt.plot(train_history.history[\"val_loss\"])\n",
        "plt.title(\"Loss Graph\")\n",
        "plt.legend(['loss', 'val_loss'], loc=\"upper left\")"
      ],
      "execution_count": 11,
      "outputs": [
        {
          "output_type": "execute_result",
          "data": {
            "text/plain": [
              "<matplotlib.legend.Legend at 0x7f239b324320>"
            ]
          },
          "metadata": {
            "tags": []
          },
          "execution_count": 11
        },
        {
          "output_type": "display_data",
          "data": {
            "image/png": "[encoded data removed]",
            "text/plain": [
              "<Figure size 432x288 with 1 Axes>"
            ]
          },
          "metadata": {
            "tags": []
          }
        }
      ]
    },
    {
      "cell_type": "markdown",
      "metadata": {
        "colab_type": "text",
        "id": "8r-TR2IlpBJW"
      },
      "source": [
        "## 5-模型準確率分析"
      ]
    },
    {
      "cell_type": "code",
      "metadata": {
        "colab_type": "code",
        "id": "Ql0PpivNpBJa",
        "outputId": "39783178-ccba-4d44-eca8-98fd961d907e",
        "colab": {
          "base_uri": "https://localhost:8080/",
          "height": 68
        }
      },
      "source": [
        "y_test = test_df['sentiment']\n",
        "e = model.evaluate(x_test_pad, y_test)\n",
        "print(\"衡量係數:\", e)\n",
        "print(\"正確率:\", e[1] * 100, \"%\")"
      ],
      "execution_count": 13,
      "outputs": [
        {
          "output_type": "stream",
          "text": [
            "25000/25000 [==============================] - 2s 62us/step\n",
            "衡量係數: [0.4429616660785675, 0.82328]\n",
            "正確率: 82.328 %\n"
          ],
          "name": "stdout"
        }
      ]
    },
    {
      "cell_type": "code",
      "metadata": {
        "id": "HkxjYezF0yFM",
        "colab_type": "code",
        "colab": {
          "base_uri": "https://localhost:8080/",
          "height": 238
        },
        "outputId": "72bc8f5b-f2f2-470f-f99c-9f06a8a2de8a"
      },
      "source": [
        "from keras.models import Model\n",
        "embedding_layer_model = Model(inputs=model.input,\n",
        "outputs=model.layers[0].output)\n",
        "# 把第一筆文章拿來給你看轉換後的維度\n",
        "em = embedding_layer_model.predict(x_test_pad[0:1])\n",
        "em"
      ],
      "execution_count": 14,
      "outputs": [
        {
          "output_type": "execute_result",
          "data": {
            "text/plain": [
              "array([[[-0.10354807,  0.06290944,  0.03362415, ..., -0.06237663,\n",
              "         -0.02939766,  0.01960575],\n",
              "        [-0.01342821,  0.00724204,  0.00764056, ..., -0.05418717,\n",
              "          0.02463837,  0.03317647],\n",
              "        [-0.017739  ,  0.01639404, -0.0162296 , ...,  0.01936937,\n",
              "         -0.04223343, -0.0424851 ],\n",
              "        ...,\n",
              "        [ 0.02763872, -0.00576016,  0.03781375, ..., -0.07641748,\n",
              "         -0.00502364, -0.01940539],\n",
              "        [-0.0620291 , -0.00898862, -0.06679096, ..., -0.04504115,\n",
              "          0.08763292, -0.03512549],\n",
              "        [ 0.03698017,  0.04923515, -0.11988942, ...,  0.04849885,\n",
              "         -0.034025  ,  0.05118869]]], dtype=float32)"
            ]
          },
          "metadata": {
            "tags": []
          },
          "execution_count": 14
        }
      ]
    },
    {
      "cell_type": "markdown",
      "metadata": {
        "colab_type": "text",
        "id": "GZnaP1aJpBJd"
      },
      "source": [
        "# 6-保存模型"
      ]
    },
    {
      "cell_type": "code",
      "metadata": {
        "colab_type": "code",
        "id": "ouOphPaEpBJe",
        "colab": {}
      },
      "source": [
        "model.save('Embedding.h5')"
      ],
      "execution_count": 0,
      "outputs": []
    },
    {
      "cell_type": "code",
      "metadata": {
        "colab_type": "code",
        "id": "Zym8q_tKpBJi",
        "colab": {}
      },
      "source": [
        ""
      ],
      "execution_count": 0,
      "outputs": []
    }
  ]
}