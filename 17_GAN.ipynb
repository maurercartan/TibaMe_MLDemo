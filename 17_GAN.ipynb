{
 "cells": [
  {
   "cell_type": "markdown",
   "metadata": {
    "colab_type": "text",
    "id": "AFLopNu_pBIo"
   },
   "source": [
    "# RNN"
   ]
  },
  {
   "cell_type": "markdown",
   "metadata": {
    "colab_type": "text",
    "id": "O8mdx28HpBIt"
   },
   "source": [
    "## 1-下載資料"
   ]
  },
  {
   "cell_type": "code",
   "execution_count": 2,
   "metadata": {
    "colab": {
     "base_uri": "https://localhost:8080/",
     "height": 51
    },
    "colab_type": "code",
    "id": "JVZOV6rspBIv",
    "outputId": "cce97569-cc40-41a9-8a57-f9d3e849425c",
    "scrolled": true
   },
   "outputs": [],
   "source": [
    "from keras.layers import Input\n",
    "from keras.models import Model, Sequential\n",
    "from keras.layers.core import Reshape, Dense, Dropout, Flatten\n",
    "from keras.layers import Embedding, BatchNormalization\n",
    "from keras.datasets import mnist\n",
    "import numpy as np\n",
    "%matplotlib inline"
   ]
  },
  {
   "cell_type": "markdown",
   "metadata": {
    "colab_type": "text",
    "id": "ptwcmJ6UpBI0"
   },
   "source": [
    "## 2-數據集處理"
   ]
  },
  {
   "cell_type": "code",
   "execution_count": 3,
   "metadata": {},
   "outputs": [],
   "source": [
    "(x_train, y_train),(x_test, y_test) = mnist.load_data()"
   ]
  },
  {
   "cell_type": "code",
   "execution_count": 4,
   "metadata": {
    "colab": {
     "base_uri": "https://localhost:8080/",
     "height": 419
    },
    "colab_type": "code",
    "id": "bvRr7KEtpBI1",
    "outputId": "10868fe6-4692-4daf-96b3-e8f766b89b4c",
    "scrolled": true
   },
   "outputs": [],
   "source": [
    "from keras.utils import np_utils\n",
    "# reshape 讓他從 32 * 32 變成 784 * 1 的一維陣列\n",
    "# 讓我們標準化到-1~1 區間\n",
    "x_train_shaped = (x_train.reshape(60000, 784).astype(\"float32\") - 127.5)/127.5\n",
    "x_test_shaped = (x_test.reshape(10000, 784).astype(\"float32\") - 127.5)/127.5"
   ]
  },
  {
   "cell_type": "markdown",
   "metadata": {
    "colab_type": "text",
    "id": "Chp5chG1pBJB"
   },
   "source": [
    "## 3-建立模型"
   ]
  },
  {
   "cell_type": "code",
   "execution_count": 6,
   "metadata": {
    "colab": {},
    "colab_type": "code",
    "id": "j9LlvlBJpBJK"
   },
   "outputs": [
    {
     "name": "stdout",
     "output_type": "stream",
     "text": [
      "_________________________________________________________________\n",
      "Layer (type)                 Output Shape              Param #   \n",
      "=================================================================\n",
      "dense_1 (Dense)              (None, 256)               25856     \n",
      "_________________________________________________________________\n",
      "batch_normalization_1 (Batch (None, 256)               1024      \n",
      "_________________________________________________________________\n",
      "dense_2 (Dense)              (None, 512)               131584    \n",
      "_________________________________________________________________\n",
      "batch_normalization_2 (Batch (None, 512)               2048      \n",
      "_________________________________________________________________\n",
      "dense_3 (Dense)              (None, 784)               402192    \n",
      "=================================================================\n",
      "Total params: 562,704\n",
      "Trainable params: 561,168\n",
      "Non-trainable params: 1,536\n",
      "_________________________________________________________________\n"
     ]
    }
   ],
   "source": [
    "random_dim = 100\n",
    "generator = Sequential()\n",
    "generator.add(Dense(256, input_dim=random_dim,\n",
    "activation='relu',\n",
    "kernel_initializer=\"random_normal\"))\n",
    "generator.add(BatchNormalization())\n",
    "generator.add(Dense(512, activation='relu',\n",
    "kernel_initializer=\"random_normal\"))\n",
    "generator.add(BatchNormalization())\n",
    "generator.add(Dense(784, activation='tanh'))\n",
    "generator.compile(loss='binary_crossentropy', optimizer=\"adam\")\n",
    "generator.summary()"
   ]
  },
  {
   "cell_type": "code",
   "execution_count": 7,
   "metadata": {
    "colab": {
     "base_uri": "https://localhost:8080/",
     "height": 428
    },
    "colab_type": "code",
    "id": "wIeNXH2GpBJN",
    "outputId": "71480e56-69e2-4ba2-b21b-cfaa1250e66a",
    "scrolled": true
   },
   "outputs": [
    {
     "name": "stdout",
     "output_type": "stream",
     "text": [
      "_________________________________________________________________\n",
      "Layer (type)                 Output Shape              Param #   \n",
      "=================================================================\n",
      "dense_4 (Dense)              (None, 1024)              803840    \n",
      "_________________________________________________________________\n",
      "dropout_1 (Dropout)          (None, 1024)              0         \n",
      "_________________________________________________________________\n",
      "dense_5 (Dense)              (None, 512)               524800    \n",
      "_________________________________________________________________\n",
      "dropout_2 (Dropout)          (None, 512)               0         \n",
      "_________________________________________________________________\n",
      "dense_6 (Dense)              (None, 256)               131328    \n",
      "_________________________________________________________________\n",
      "dropout_3 (Dropout)          (None, 256)               0         \n",
      "_________________________________________________________________\n",
      "dense_7 (Dense)              (None, 1)                 257       \n",
      "=================================================================\n",
      "Total params: 1,460,225\n",
      "Trainable params: 1,460,225\n",
      "Non-trainable params: 0\n",
      "_________________________________________________________________\n"
     ]
    }
   ],
   "source": [
    "discriminator = Sequential()\n",
    "discriminator.add(Dense(1024, input_dim=784,\n",
    "activation='relu',\n",
    "kernel_initializer=\"random_normal\"))\n",
    "discriminator.add(Dropout(0.25))\n",
    "discriminator.add(Dense(512, activation='relu',\n",
    "kernel_initializer=\"random_normal\"))\n",
    "discriminator.add(Dropout(0.25))\n",
    "discriminator.add(Dense(256, activation='relu',\n",
    "kernel_initializer=\"random_normal\"))\n",
    "discriminator.add(Dropout(0.25))\n",
    "discriminator.add(Dense(1, activation='sigmoid'))\n",
    "discriminator.compile(loss='binary_crossentropy', optimizer=\"adam\")\n",
    "discriminator.summary()"
   ]
  },
  {
   "cell_type": "code",
   "execution_count": 8,
   "metadata": {
    "scrolled": true
   },
   "outputs": [
    {
     "name": "stdout",
     "output_type": "stream",
     "text": [
      "_________________________________________________________________\n",
      "Layer (type)                 Output Shape              Param #   \n",
      "=================================================================\n",
      "input_1 (InputLayer)         (None, 100)               0         \n",
      "_________________________________________________________________\n",
      "sequential_1 (Sequential)    (None, 784)               562704    \n",
      "_________________________________________________________________\n",
      "sequential_2 (Sequential)    (None, 1)                 1460225   \n",
      "=================================================================\n",
      "Total params: 2,022,929\n",
      "Trainable params: 561,168\n",
      "Non-trainable params: 1,461,761\n",
      "_________________________________________________________________\n"
     ]
    }
   ],
   "source": [
    "discriminator.trainable = False\n",
    "gan_input = Input(shape=(random_dim,))\n",
    "x = generator(gan_input)\n",
    "gan_output = discriminator(x)\n",
    "gan = Model(inputs=gan_input, outputs=gan_output)\n",
    "gan.compile(loss='binary_crossentropy', optimizer=\"adam\")\n",
    "gan.summary()"
   ]
  },
  {
   "cell_type": "code",
   "execution_count": null,
   "metadata": {},
   "outputs": [],
   "source": [
    "batch_size = 200\n",
    "epoch_count = 10\n",
    "d_loss_list = []\n",
    "g_loss_list = []\n",
    "for epoch in range(0, epoch_count):\n",
    "    for batch_count in range(0, 300):\n",
    "        idx = np.random.randint(0, x_train.shape[0], batch_size)\n",
    "        imgs = x_train_shaped[idx]\n",
    "        valid = np.ones((batch_size, 1))\n",
    "        fake = np.zeros((batch_size, 1))\n",
    "        # 步驟 0: 讓創作家製造出 fake image\n",
    "        noise = np.random.normal(0, 1, (batch_size, random_dim))\n",
    "        gen_imgs = generator.predict(noise)\n",
    "        discriminator.trainable = True\n",
    "        # 步驟 1: 讓鑑賞家鑑賞對的 image\n",
    "        d_loss_real = discriminator.train_on_batch(imgs, valid)\n",
    "        # 步驟 2: 讓鑑賞家鑑賞錯的 image\n",
    "        d_loss_fake = discriminator.train_on_batch(gen_imgs, fake)\n",
    "        d_loss = (d_loss_real + d_loss_fake) / 2\n",
    "        discriminator.trainable = False\n",
    "        noise = np.random.normal(0, 1, (batch_size, random_dim))\n",
    "        # 步驟 3: 訓練創作家的創作能力\n",
    "        g_loss = gan.train_on_batch(noise, valid)\n",
    "    dash = \"-\" * 15\n",
    "    print(dash, \"epoch\", epoch, dash)\n",
    "    print(\"Discriminator loss:\", d_loss)\n",
    "    print(\"Generator loss:\", g_loss)\n",
    "    d_loss_list.append(d_loss)\n",
    "    g_loss_list.append(g_loss)"
   ]
  },
  {
   "cell_type": "markdown",
   "metadata": {
    "colab_type": "text",
    "id": "zaYTWOlxpBJQ"
   },
   "source": [
    "## 4-繪圖"
   ]
  },
  {
   "cell_type": "code",
   "execution_count": 14,
   "metadata": {
    "colab": {
     "base_uri": "https://localhost:8080/",
     "height": 298
    },
    "colab_type": "code",
    "id": "I0NNguqh0yFC",
    "outputId": "0406d909-68ad-47b8-8d60-9c5880c9427f"
   },
   "outputs": [
    {
     "data": {
      "text/plain": [
       "<matplotlib.legend.Legend at 0x7fb3eca83b70>"
      ]
     },
     "execution_count": 14,
     "metadata": {
      "tags": []
     },
     "output_type": "execute_result"
    },
    {
     "data": {
      "image/png": "[encoded data removed]",
      "text/plain": [
       "<Figure size 432x288 with 1 Axes>"
      ]
     },
     "metadata": {
      "tags": []
     },
     "output_type": "display_data"
    }
   ],
   "source": [
    "import matplotlib.pyplot as plt\n",
    "%matplotlib inline\n",
    "examples = 5\n",
    "noise = np.random.normal(0, 1, (examples, random_dim))\n",
    "gen_imgs = generator.predict(noise)\n",
    "# Rescale images 0 - 1\n",
    "gen_imgs = 0.5 * gen_imgs + 0.5\n",
    "gen_imgs = gen_imgs.reshape(examples, 28, 28)\n",
    "plt.figure(figsize = (14, 14))\n",
    "for i in range(0, examples):\n",
    "    plt.subplot(1, examples, i + 1)\n",
    "    plt.imshow(gen_imgs[i], cmap='gray')"
   ]
  }
 ],
 "metadata": {
  "accelerator": "GPU",
  "colab": {
   "name": "16_RNN.ipynb",
   "provenance": [],
   "toc_visible": true
  },
  "kernelspec": {
   "display_name": "Python 3",
   "language": "python",
   "name": "python3"
  },
  "language_info": {
   "codemirror_mode": {
    "name": "ipython",
    "version": 3
   },
   "file_extension": ".py",
   "mimetype": "text/x-python",
   "name": "python",
   "nbconvert_exporter": "python",
   "pygments_lexer": "ipython3",
   "version": "3.6.5"
  }
 },
 "nbformat": 4,
 "nbformat_minor": 1
}
