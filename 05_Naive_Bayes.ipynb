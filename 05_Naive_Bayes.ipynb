{
 "cells": [
  {
   "cell_type": "markdown",
   "metadata": {},
   "source": [
    "# 1-單純貝氏(Naive Bayes) (分類)\n",
    "\n",
    "## [條件機率:](https://zh.wikipedia.org/wiki/%E6%9D%A1%E4%BB%B6%E6%A6%82%E7%8E%87) $ P(A|B)=\\frac{P(A\\cap{B})}{P(B)} $\n",
    "\n",
    "## [貝氏定理](https://zh.wikipedia.org/wiki/%E8%B4%9D%E5%8F%B6%E6%96%AF%E5%AE%9A%E7%90%86) $ P(A|B)=\\frac{P(B|A)P(A)}{P(B)} $\n",
    "\n",
    "$ P(A|B)P(B)=P(A\\cap{B})=P(B|A)P(A) $"
   ]
  },
  {
   "cell_type": "markdown",
   "metadata": {},
   "source": [
    "# 2-詞向量\n",
    "* 文章1: 我喜歡吃牛排，也喜歡吃雞排\n",
    "* 文章2: 你喜歡閱讀和旅遊\n",
    "* 切割1: 我/喜歡/吃/牛排/，/也/喜歡/吃/雞排\n",
    "* 切割2: 你/喜歡/閱讀/和/旅遊\n",
    "\n",
    "<table style=\"border:3px #cccccc solid;\" border='1'>\n",
    "    <tr>\n",
    "        <td>特徵</td>\n",
    "        <td>我</td>\n",
    "        <td>喜歡</td>\n",
    "        <td>吃</td>\n",
    "        <td>牛排</td>\n",
    "        <td>也</td>\n",
    "        <td>雞排</td>\n",
    "        <td>你</td>\n",
    "        <td>閱讀</td>\n",
    "        <td>和</td>\n",
    "        <td>旅遊</td>\n",
    "    </tr>\n",
    "    <tr>\n",
    "        <td>向量1</td>\n",
    "        <td>1</td>\n",
    "        <td>2</td>\n",
    "        <td>1</td>\n",
    "        <td>1</td>\n",
    "        <td>1</td>\n",
    "        <td>1</td>\n",
    "        <td>0</td>\n",
    "        <td>0</td>\n",
    "        <td>0</td>\n",
    "        <td>0</td>\n",
    "    </tr>\n",
    "    <tr>\n",
    "        <td>向量2</td>\n",
    "        <td>0</td>\n",
    "        <td>1</td>\n",
    "        <td>0</td>\n",
    "        <td>0</td>\n",
    "        <td>0</td>\n",
    "        <td>0</td>\n",
    "        <td>1</td>\n",
    "        <td>1</td>\n",
    "        <td>1</td>\n",
    "        <td>1</td>\n",
    "    </tr>\n",
    "</table>"
   ]
  },
  {
   "cell_type": "markdown",
   "metadata": {},
   "source": [
    "# 3-TF-IDF 方法\n",
    "* tf: 這個詞出現在整篇文章的次數，出現越多次，代表這個詞越能代表整篇文章\n",
    "* idf: 這個詞在我蒐集的全部文章出現過的文章數，出現越多次，代表這個詞是一個慣用詞，重要性下降。"
   ]
  },
  {
   "cell_type": "markdown",
   "metadata": {},
   "source": [
    "# 4-資料集\n",
    "* chinese_news: 原本的新聞\n",
    "* chinese_trans: 翻譯成繁體的新聞\n",
    "* chinese_tests: 我從原本的新聞每個分類擷取出 10 篇當作測試文章"
   ]
  },
  {
   "cell_type": "code",
   "execution_count": 49,
   "metadata": {},
   "outputs": [],
   "source": [
    "import os\n",
    "import jieba\n",
    "import pandas as pd"
   ]
  },
  {
   "cell_type": "code",
   "execution_count": 52,
   "metadata": {},
   "outputs": [],
   "source": [
    "def process_dirs(base_dir):\n",
    "    df = pd.DataFrame(columns = [\"類別\",\"內容\"])\n",
    "    # os.walk 會走到檔案才停下來\n",
    "    for dir_path, dir_names, file_names in os.walk(base_dir):\n",
    "        for single_file in file_names:\n",
    "            if not single_file.startswith(\".\"):\n",
    "                f = open(os.path.join(dir_path, single_file), \"r\", encoding = \"utf-8\")\n",
    "                content = f.read()\n",
    "                # 讀完黨以後做出第一步處理, 先把換行都去掉\n",
    "                content = content.replace(\"\\r\", \"\").replace(\"\\n\", \"\")\n",
    "                split_word = jieba.cut(content)\n",
    "                # 分詞\n",
    "                content = \" \".join(split_word)\n",
    "                s = pd.Series([dir_path.split(\"\\\\\")[-1], content], index = [\"類別\", \"內容\"])\n",
    "                df = df.append(s, ignore_index = True)\n",
    "    df['類別'] = df['類別'].astype('category')\n",
    "    return df"
   ]
  },
  {
   "cell_type": "code",
   "execution_count": 53,
   "metadata": {
    "scrolled": true
   },
   "outputs": [
    {
     "data": {
      "text/html": [
       "<div>\n",
       "<style scoped>\n",
       "    .dataframe tbody tr th:only-of-type {\n",
       "        vertical-align: middle;\n",
       "    }\n",
       "\n",
       "    .dataframe tbody tr th {\n",
       "        vertical-align: top;\n",
       "    }\n",
       "\n",
       "    .dataframe thead th {\n",
       "        text-align: right;\n",
       "    }\n",
       "</style>\n",
       "<table border=\"1\" class=\"dataframe\">\n",
       "  <thead>\n",
       "    <tr style=\"text-align: right;\">\n",
       "      <th></th>\n",
       "      <th>類別</th>\n",
       "      <th>內容</th>\n",
       "    </tr>\n",
       "  </thead>\n",
       "  <tbody>\n",
       "    <tr>\n",
       "      <th>0</th>\n",
       "      <td>交通</td>\n",
       "      <td>【   日     期   】 19960104 【   版     號   】 1 【  ...</td>\n",
       "    </tr>\n",
       "    <tr>\n",
       "      <th>1</th>\n",
       "      <td>交通</td>\n",
       "      <td>【   日     期   】 19960226 【   版     號   】 5 【  ...</td>\n",
       "    </tr>\n",
       "    <tr>\n",
       "      <th>2</th>\n",
       "      <td>交通</td>\n",
       "      <td>大 秦鐵路 萬噸 列車 試運 成功 新華社 北京...</td>\n",
       "    </tr>\n",
       "    <tr>\n",
       "      <th>3</th>\n",
       "      <td>交通</td>\n",
       "      <td>遼寧省 檯 安縣 村村 都 通 柏油路 鄉村 公...</td>\n",
       "    </tr>\n",
       "    <tr>\n",
       "      <th>4</th>\n",
       "      <td>交通</td>\n",
       "      <td>北京 — 烏蘭 巴托 — 莫斯料 ３ ／ ４ 次...</td>\n",
       "    </tr>\n",
       "    <tr>\n",
       "      <th>...</th>\n",
       "      <td>...</td>\n",
       "      <td>...</td>\n",
       "    </tr>\n",
       "    <tr>\n",
       "      <th>2632</th>\n",
       "      <td>體育</td>\n",
       "      <td>馬 玉芹 破 女子 ４ ０ ０ 米 跑 全國 青...</td>\n",
       "    </tr>\n",
       "    <tr>\n",
       "      <th>2633</th>\n",
       "      <td>體育</td>\n",
       "      <td>國際 奧委會 中國 臺 北委員 吳經國 訪問 北...</td>\n",
       "    </tr>\n",
       "    <tr>\n",
       "      <th>2634</th>\n",
       "      <td>體育</td>\n",
       "      <td>亞奧 理事 會 ３ ９ 個 成員 組織 全部 以...</td>\n",
       "    </tr>\n",
       "    <tr>\n",
       "      <th>2635</th>\n",
       "      <td>體育</td>\n",
       "      <td>世界 盃 乒乓球 團體賽 男子 團體 採用 新賽...</td>\n",
       "    </tr>\n",
       "    <tr>\n",
       "      <th>2636</th>\n",
       "      <td>體育</td>\n",
       "      <td>登頂 隊員 簡介 新華社 珠穆 朗瑪峰 ５ 月 ...</td>\n",
       "    </tr>\n",
       "  </tbody>\n",
       "</table>\n",
       "<p>2637 rows × 2 columns</p>\n",
       "</div>"
      ],
      "text/plain": [
       "      類別                                                 內容\n",
       "0     交通  【   日     期   】 19960104 【   版     號   】 1 【  ...\n",
       "1     交通  【   日     期   】 19960226 【   版     號   】 5 【  ...\n",
       "2     交通                        大 秦鐵路 萬噸 列車 試運 成功 新華社 北京...\n",
       "3     交通                        遼寧省 檯 安縣 村村 都 通 柏油路 鄉村 公...\n",
       "4     交通                        北京 — 烏蘭 巴托 — 莫斯料 ３ ／ ４ 次...\n",
       "...   ..                                                ...\n",
       "2632  體育                        馬 玉芹 破 女子 ４ ０ ０ 米 跑 全國 青...\n",
       "2633  體育                        國際 奧委會 中國 臺 北委員 吳經國 訪問 北...\n",
       "2634  體育                        亞奧 理事 會 ３ ９ 個 成員 組織 全部 以...\n",
       "2635  體育                        世界 盃 乒乓球 團體賽 男子 團體 採用 新賽...\n",
       "2636  體育                        登頂 隊員 簡介 新華社 珠穆 朗瑪峰 ５ 月 ...\n",
       "\n",
       "[2637 rows x 2 columns]"
      ]
     },
     "execution_count": 53,
     "metadata": {},
     "output_type": "execute_result"
    }
   ],
   "source": [
    "base_dir = \"./data/chinese_news_trans\"\n",
    "test_dir = \"./data/chinese_news_test\"\n",
    "df = process_dirs(base_dir)\n",
    "df"
   ]
  },
  {
   "cell_type": "code",
   "execution_count": 54,
   "metadata": {},
   "outputs": [
    {
     "name": "stdout",
     "output_type": "stream",
     "text": [
      "Index(['交通', '政治', '教育', '環境', '經濟', '藝術', '計算機', '軍事', '醫藥', '體育'], dtype='object')\n"
     ]
    }
   ],
   "source": [
    "# 不重複顯示所有類別\n",
    "print(df['類別'].cat.categories)"
   ]
  },
  {
   "cell_type": "code",
   "execution_count": 55,
   "metadata": {},
   "outputs": [
    {
     "name": "stdout",
     "output_type": "stream",
     "text": [
      "0\n",
      "1\n",
      "2\n",
      "3\n"
     ]
    }
   ],
   "source": [
    "# 找出對應的 index\n",
    "print(df['類別'].cat.categories.get_loc('交通')) # 0\n",
    "print(df['類別'].cat.categories.get_loc('政治')) # 1\n",
    "print(df['類別'].cat.categories.get_loc('教育')) # 2\n",
    "print(df['類別'].cat.categories.get_loc('環境')) # 3"
   ]
  },
  {
   "cell_type": "code",
   "execution_count": 56,
   "metadata": {},
   "outputs": [
    {
     "data": {
      "text/plain": [
       "{'交通': 0,\n",
       " '政治': 1,\n",
       " '教育': 2,\n",
       " '環境': 3,\n",
       " '經濟': 4,\n",
       " '藝術': 5,\n",
       " '計算機': 6,\n",
       " '軍事': 7,\n",
       " '醫藥': 8,\n",
       " '體育': 9}"
      ]
     },
     "execution_count": 56,
     "metadata": {},
     "output_type": "execute_result"
    }
   ],
   "source": [
    "# {類別名稱:index}的字典\n",
    "saved_map = { cate:df['類別'].cat.categories.get_loc(cate) for cate in df['類別'].cat.categories }\n",
    "saved_map"
   ]
  },
  {
   "cell_type": "code",
   "execution_count": 57,
   "metadata": {},
   "outputs": [
    {
     "data": {
      "text/html": [
       "<div>\n",
       "<style scoped>\n",
       "    .dataframe tbody tr th:only-of-type {\n",
       "        vertical-align: middle;\n",
       "    }\n",
       "\n",
       "    .dataframe tbody tr th {\n",
       "        vertical-align: top;\n",
       "    }\n",
       "\n",
       "    .dataframe thead th {\n",
       "        text-align: right;\n",
       "    }\n",
       "</style>\n",
       "<table border=\"1\" class=\"dataframe\">\n",
       "  <thead>\n",
       "    <tr style=\"text-align: right;\">\n",
       "      <th></th>\n",
       "      <th>類別</th>\n",
       "      <th>內容</th>\n",
       "    </tr>\n",
       "  </thead>\n",
       "  <tbody>\n",
       "    <tr>\n",
       "      <th>0</th>\n",
       "      <td>0</td>\n",
       "      <td>【   日     期   】 19960104 【   版     號   】 1 【  ...</td>\n",
       "    </tr>\n",
       "    <tr>\n",
       "      <th>1</th>\n",
       "      <td>0</td>\n",
       "      <td>【   日     期   】 19960226 【   版     號   】 5 【  ...</td>\n",
       "    </tr>\n",
       "    <tr>\n",
       "      <th>2</th>\n",
       "      <td>0</td>\n",
       "      <td>大 秦鐵路 萬噸 列車 試運 成功 新華社 北京...</td>\n",
       "    </tr>\n",
       "    <tr>\n",
       "      <th>3</th>\n",
       "      <td>0</td>\n",
       "      <td>遼寧省 檯 安縣 村村 都 通 柏油路 鄉村 公...</td>\n",
       "    </tr>\n",
       "    <tr>\n",
       "      <th>4</th>\n",
       "      <td>0</td>\n",
       "      <td>北京 — 烏蘭 巴托 — 莫斯料 ３ ／ ４ 次...</td>\n",
       "    </tr>\n",
       "    <tr>\n",
       "      <th>...</th>\n",
       "      <td>...</td>\n",
       "      <td>...</td>\n",
       "    </tr>\n",
       "    <tr>\n",
       "      <th>2632</th>\n",
       "      <td>9</td>\n",
       "      <td>馬 玉芹 破 女子 ４ ０ ０ 米 跑 全國 青...</td>\n",
       "    </tr>\n",
       "    <tr>\n",
       "      <th>2633</th>\n",
       "      <td>9</td>\n",
       "      <td>國際 奧委會 中國 臺 北委員 吳經國 訪問 北...</td>\n",
       "    </tr>\n",
       "    <tr>\n",
       "      <th>2634</th>\n",
       "      <td>9</td>\n",
       "      <td>亞奧 理事 會 ３ ９ 個 成員 組織 全部 以...</td>\n",
       "    </tr>\n",
       "    <tr>\n",
       "      <th>2635</th>\n",
       "      <td>9</td>\n",
       "      <td>世界 盃 乒乓球 團體賽 男子 團體 採用 新賽...</td>\n",
       "    </tr>\n",
       "    <tr>\n",
       "      <th>2636</th>\n",
       "      <td>9</td>\n",
       "      <td>登頂 隊員 簡介 新華社 珠穆 朗瑪峰 ５ 月 ...</td>\n",
       "    </tr>\n",
       "  </tbody>\n",
       "</table>\n",
       "<p>2637 rows × 2 columns</p>\n",
       "</div>"
      ],
      "text/plain": [
       "      類別                                                 內容\n",
       "0      0  【   日     期   】 19960104 【   版     號   】 1 【  ...\n",
       "1      0  【   日     期   】 19960226 【   版     號   】 5 【  ...\n",
       "2      0                        大 秦鐵路 萬噸 列車 試運 成功 新華社 北京...\n",
       "3      0                        遼寧省 檯 安縣 村村 都 通 柏油路 鄉村 公...\n",
       "4      0                        北京 — 烏蘭 巴托 — 莫斯料 ３ ／ ４ 次...\n",
       "...   ..                                                ...\n",
       "2632   9                        馬 玉芹 破 女子 ４ ０ ０ 米 跑 全國 青...\n",
       "2633   9                        國際 奧委會 中國 臺 北委員 吳經國 訪問 北...\n",
       "2634   9                        亞奧 理事 會 ３ ９ 個 成員 組織 全部 以...\n",
       "2635   9                        世界 盃 乒乓球 團體賽 男子 團體 採用 新賽...\n",
       "2636   9                        登頂 隊員 簡介 新華社 珠穆 朗瑪峰 ５ 月 ...\n",
       "\n",
       "[2637 rows x 2 columns]"
      ]
     },
     "execution_count": 57,
     "metadata": {},
     "output_type": "execute_result"
    }
   ],
   "source": [
    "df['類別'] = df['類別'].cat.codes\n",
    "df"
   ]
  },
  {
   "cell_type": "code",
   "execution_count": 58,
   "metadata": {},
   "outputs": [
    {
     "data": {
      "text/html": [
       "<div>\n",
       "<style scoped>\n",
       "    .dataframe tbody tr th:only-of-type {\n",
       "        vertical-align: middle;\n",
       "    }\n",
       "\n",
       "    .dataframe tbody tr th {\n",
       "        vertical-align: top;\n",
       "    }\n",
       "\n",
       "    .dataframe thead th {\n",
       "        text-align: right;\n",
       "    }\n",
       "</style>\n",
       "<table border=\"1\" class=\"dataframe\">\n",
       "  <thead>\n",
       "    <tr style=\"text-align: right;\">\n",
       "      <th></th>\n",
       "      <th>類別</th>\n",
       "      <th>內容</th>\n",
       "    </tr>\n",
       "  </thead>\n",
       "  <tbody>\n",
       "    <tr>\n",
       "      <th>0</th>\n",
       "      <td>交通</td>\n",
       "      <td>日 月光 華   - -   Traffic _ Info 精華區 文章 閱讀 - - - ...</td>\n",
       "    </tr>\n",
       "    <tr>\n",
       "      <th>1</th>\n",
       "      <td>交通</td>\n",
       "      <td>日 月光 華   - -   Traffic _ Info 精華區 文章 閱讀 - - - ...</td>\n",
       "    </tr>\n",
       "    <tr>\n",
       "      <th>2</th>\n",
       "      <td>交通</td>\n",
       "      <td>日 月光 華   - -   Traffic _ Info 精華區 文章 閱讀 - - - ...</td>\n",
       "    </tr>\n",
       "    <tr>\n",
       "      <th>3</th>\n",
       "      <td>交通</td>\n",
       "      <td>三趟 火車 停開   乘客 可 全額 退票   瀏覽次數 ： 1180           ...</td>\n",
       "    </tr>\n",
       "    <tr>\n",
       "      <th>4</th>\n",
       "      <td>交通</td>\n",
       "      <td>日 月光 華   - -   Traffic _ Info 精華區 文章 閱讀 - - - ...</td>\n",
       "    </tr>\n",
       "    <tr>\n",
       "      <th>...</th>\n",
       "      <td>...</td>\n",
       "      <td>...</td>\n",
       "    </tr>\n",
       "    <tr>\n",
       "      <th>96</th>\n",
       "      <td>體育</td>\n",
       "      <td>最 優秀 選手 無緣 亞運會 健美 賽   　           健美 在 亞洲 運動會 ...</td>\n",
       "    </tr>\n",
       "    <tr>\n",
       "      <th>97</th>\n",
       "      <td>體育</td>\n",
       "      <td>各國 記者 眼中 的 羽毛球 世錦賽   - - - - - - - - - - - -...</td>\n",
       "    </tr>\n",
       "    <tr>\n",
       "      <th>98</th>\n",
       "      <td>體育</td>\n",
       "      <td>友好 運動會 第五天   東道 主選手 大顯 神威 2001 年 09 月 03 日 02 ...</td>\n",
       "    </tr>\n",
       "    <tr>\n",
       "      <th>99</th>\n",
       "      <td>體育</td>\n",
       "      <td>不靠 技術 比運氣 　 　 第二 屆 奧運會 在 巴黎 舉行 ， 同時 這裡 也 正在 舉行...</td>\n",
       "    </tr>\n",
       "    <tr>\n",
       "      <th>100</th>\n",
       "      <td>體育</td>\n",
       "      <td>帆   板   運   動   簡   介 （ 二 ） 　 　 我國 在 79 年 由 國家...</td>\n",
       "    </tr>\n",
       "  </tbody>\n",
       "</table>\n",
       "<p>101 rows × 2 columns</p>\n",
       "</div>"
      ],
      "text/plain": [
       "     類別                                                 內容\n",
       "0    交通  日 月光 華   - -   Traffic _ Info 精華區 文章 閱讀 - - - ...\n",
       "1    交通  日 月光 華   - -   Traffic _ Info 精華區 文章 閱讀 - - - ...\n",
       "2    交通  日 月光 華   - -   Traffic _ Info 精華區 文章 閱讀 - - - ...\n",
       "3    交通  三趟 火車 停開   乘客 可 全額 退票   瀏覽次數 ： 1180           ...\n",
       "4    交通  日 月光 華   - -   Traffic _ Info 精華區 文章 閱讀 - - - ...\n",
       "..   ..                                                ...\n",
       "96   體育  最 優秀 選手 無緣 亞運會 健美 賽   　           健美 在 亞洲 運動會 ...\n",
       "97   體育    各國 記者 眼中 的 羽毛球 世錦賽   - - - - - - - - - - - -...\n",
       "98   體育  友好 運動會 第五天   東道 主選手 大顯 神威 2001 年 09 月 03 日 02 ...\n",
       "99   體育  不靠 技術 比運氣 　 　 第二 屆 奧運會 在 巴黎 舉行 ， 同時 這裡 也 正在 舉行...\n",
       "100  體育  帆   板   運   動   簡   介 （ 二 ） 　 　 我國 在 79 年 由 國家...\n",
       "\n",
       "[101 rows x 2 columns]"
      ]
     },
     "execution_count": 58,
     "metadata": {},
     "output_type": "execute_result"
    }
   ],
   "source": [
    "# 把我們的測試資料讀取，並且使用剛剛存起來的 category 來 map\n",
    "test_df = process_dirs(test_dir)\n",
    "test_df"
   ]
  },
  {
   "cell_type": "code",
   "execution_count": 59,
   "metadata": {},
   "outputs": [
    {
     "data": {
      "text/html": [
       "<div>\n",
       "<style scoped>\n",
       "    .dataframe tbody tr th:only-of-type {\n",
       "        vertical-align: middle;\n",
       "    }\n",
       "\n",
       "    .dataframe tbody tr th {\n",
       "        vertical-align: top;\n",
       "    }\n",
       "\n",
       "    .dataframe thead th {\n",
       "        text-align: right;\n",
       "    }\n",
       "</style>\n",
       "<table border=\"1\" class=\"dataframe\">\n",
       "  <thead>\n",
       "    <tr style=\"text-align: right;\">\n",
       "      <th></th>\n",
       "      <th>類別</th>\n",
       "      <th>內容</th>\n",
       "    </tr>\n",
       "  </thead>\n",
       "  <tbody>\n",
       "    <tr>\n",
       "      <th>0</th>\n",
       "      <td>0</td>\n",
       "      <td>日 月光 華   - -   Traffic _ Info 精華區 文章 閱讀 - - - ...</td>\n",
       "    </tr>\n",
       "    <tr>\n",
       "      <th>1</th>\n",
       "      <td>0</td>\n",
       "      <td>日 月光 華   - -   Traffic _ Info 精華區 文章 閱讀 - - - ...</td>\n",
       "    </tr>\n",
       "    <tr>\n",
       "      <th>2</th>\n",
       "      <td>0</td>\n",
       "      <td>日 月光 華   - -   Traffic _ Info 精華區 文章 閱讀 - - - ...</td>\n",
       "    </tr>\n",
       "    <tr>\n",
       "      <th>3</th>\n",
       "      <td>0</td>\n",
       "      <td>三趟 火車 停開   乘客 可 全額 退票   瀏覽次數 ： 1180           ...</td>\n",
       "    </tr>\n",
       "    <tr>\n",
       "      <th>4</th>\n",
       "      <td>0</td>\n",
       "      <td>日 月光 華   - -   Traffic _ Info 精華區 文章 閱讀 - - - ...</td>\n",
       "    </tr>\n",
       "    <tr>\n",
       "      <th>...</th>\n",
       "      <td>...</td>\n",
       "      <td>...</td>\n",
       "    </tr>\n",
       "    <tr>\n",
       "      <th>96</th>\n",
       "      <td>9</td>\n",
       "      <td>最 優秀 選手 無緣 亞運會 健美 賽   　           健美 在 亞洲 運動會 ...</td>\n",
       "    </tr>\n",
       "    <tr>\n",
       "      <th>97</th>\n",
       "      <td>9</td>\n",
       "      <td>各國 記者 眼中 的 羽毛球 世錦賽   - - - - - - - - - - - -...</td>\n",
       "    </tr>\n",
       "    <tr>\n",
       "      <th>98</th>\n",
       "      <td>9</td>\n",
       "      <td>友好 運動會 第五天   東道 主選手 大顯 神威 2001 年 09 月 03 日 02 ...</td>\n",
       "    </tr>\n",
       "    <tr>\n",
       "      <th>99</th>\n",
       "      <td>9</td>\n",
       "      <td>不靠 技術 比運氣 　 　 第二 屆 奧運會 在 巴黎 舉行 ， 同時 這裡 也 正在 舉行...</td>\n",
       "    </tr>\n",
       "    <tr>\n",
       "      <th>100</th>\n",
       "      <td>9</td>\n",
       "      <td>帆   板   運   動   簡   介 （ 二 ） 　 　 我國 在 79 年 由 國家...</td>\n",
       "    </tr>\n",
       "  </tbody>\n",
       "</table>\n",
       "<p>101 rows × 2 columns</p>\n",
       "</div>"
      ],
      "text/plain": [
       "     類別                                                 內容\n",
       "0     0  日 月光 華   - -   Traffic _ Info 精華區 文章 閱讀 - - - ...\n",
       "1     0  日 月光 華   - -   Traffic _ Info 精華區 文章 閱讀 - - - ...\n",
       "2     0  日 月光 華   - -   Traffic _ Info 精華區 文章 閱讀 - - - ...\n",
       "3     0  三趟 火車 停開   乘客 可 全額 退票   瀏覽次數 ： 1180           ...\n",
       "4     0  日 月光 華   - -   Traffic _ Info 精華區 文章 閱讀 - - - ...\n",
       "..   ..                                                ...\n",
       "96    9  最 優秀 選手 無緣 亞運會 健美 賽   　           健美 在 亞洲 運動會 ...\n",
       "97    9    各國 記者 眼中 的 羽毛球 世錦賽   - - - - - - - - - - - -...\n",
       "98    9  友好 運動會 第五天   東道 主選手 大顯 神威 2001 年 09 月 03 日 02 ...\n",
       "99    9  不靠 技術 比運氣 　 　 第二 屆 奧運會 在 巴黎 舉行 ， 同時 這裡 也 正在 舉行...\n",
       "100   9  帆   板   運   動   簡   介 （ 二 ） 　 　 我國 在 79 年 由 國家...\n",
       "\n",
       "[101 rows x 2 columns]"
      ]
     },
     "execution_count": 59,
     "metadata": {},
     "output_type": "execute_result"
    }
   ],
   "source": [
    "# 這邊必須使用剛剛存起來的字典來替換,因為如果直接使用 code 可能會發生沒對照到的事故\n",
    "test_df['類別'] = test_df['類別'].replace(saved_map)\n",
    "test_df"
   ]
  },
  {
   "cell_type": "code",
   "execution_count": 60,
   "metadata": {},
   "outputs": [
    {
     "name": "stdout",
     "output_type": "stream",
     "text": [
      "總共維度: 96042\n"
     ]
    }
   ],
   "source": [
    "from sklearn.feature_extraction.text import TfidfVectorizer\n",
    "vec = TfidfVectorizer()\n",
    "# 注意一定要使用 fit_transform, 才會幫你轉換成詞向量\n",
    "bag = vec.fit_transform(df['內容'])\n",
    "print(\"總共維度:\", len(vec.get_feature_names()))"
   ]
  },
  {
   "cell_type": "markdown",
   "metadata": {},
   "source": [
    "# 4-單純貝氏(Naive Bayes)\n",
    "\n",
    "$ P(X_j|Y_k)=\\frac{Count(X_j,Y_k)+1}{\\sum_j^k(Count(X_j,Y_k)+1)} $"
   ]
  },
  {
   "cell_type": "code",
   "execution_count": 61,
   "metadata": {},
   "outputs": [
    {
     "name": "stdout",
     "output_type": "stream",
     "text": [
      "維度: 96042\n",
      "預測: [0, 0, 0, 0, 0, 0, 0, 0, 0, 0, 1, 1, 1, 1, 1, 1, 1, 1, 1, 1, 1, 2, 2, 2, 2, 2, 2, 2, 2, 2, 2, 3, 3, 3, 3, 3, 3, 3, 3, 3, 3, 4, 4, 4, 4, 4, 4, 4, 4, 4, 4, 5, 5, 5, 5, 5, 5, 5, 5, 5, 5, 6, 6, 6, 6, 6, 6, 6, 6, 6, 6, 7, 7, 7, 7, 7, 7, 7, 7, 7, 7, 8, 8, 8, 8, 8, 8, 8, 8, 8, 8, 9, 9, 9, 9, 9, 9, 9, 9, 9, 9]\n",
      "正確標籤: [0, 0, 0, 0, 0, 0, 0, 0, 0, 0, 1, 1, 1, 1, 1, 1, 1, 1, 1, 1, 1, 2, 2, 2, 2, 2, 2, 2, 2, 2, 2, 3, 3, 3, 3, 3, 3, 3, 3, 3, 3, 4, 4, 4, 4, 4, 4, 4, 4, 4, 4, 5, 5, 5, 5, 5, 5, 5, 5, 5, 5, 6, 6, 6, 6, 6, 6, 6, 6, 6, 6, 7, 7, 7, 7, 7, 7, 7, 7, 7, 7, 8, 8, 8, 8, 8, 8, 8, 8, 8, 8, 9, 9, 9, 9, 9, 9, 9, 9, 9, 9]\n",
      "Naive-Bayes 正確率:  100.0 %\n"
     ]
    }
   ],
   "source": [
    "# 只要是文字, 我們通常就會選擇 MultinomialNB\n",
    "from sklearn.naive_bayes import MultinomialNB\n",
    "from sklearn.metrics import accuracy_score\n",
    "\n",
    "clf = MultinomialNB(alpha = 0.001).fit(bag, df['類別'])\n",
    "test_bag = vec.transform(test_df['內容']) # 開始訓練\n",
    "print(\"維度:\", len(vec.get_feature_names()))\n",
    "\n",
    "# 開始預測\n",
    "predict = clf.predict(test_bag)\n",
    "print(\"預測:\", list(predict))\n",
    "print(\"正確標籤:\", list(test_df['類別']))\n",
    "print(\"Naive-Bayes 正確率: \", accuracy_score(test_df['類別'], predict) * 100, \"%\")"
   ]
  },
  {
   "cell_type": "markdown",
   "metadata": {},
   "source": [
    "# 5-K-近鄰演算法(KNN)"
   ]
  },
  {
   "cell_type": "code",
   "execution_count": 62,
   "metadata": {},
   "outputs": [
    {
     "name": "stdout",
     "output_type": "stream",
     "text": [
      "預測: [0, 0, 0, 0, 0, 0, 0, 0, 0, 0, 1, 1, 1, 1, 1, 1, 1, 1, 1, 1, 1, 2, 2, 2, 2, 2, 2, 2, 2, 2, 2, 3, 3, 3, 3, 3, 3, 3, 3, 3, 3, 4, 4, 4, 4, 4, 4, 4, 4, 4, 4, 5, 5, 5, 5, 5, 5, 5, 5, 5, 5, 6, 6, 6, 6, 6, 6, 6, 6, 6, 6, 7, 7, 7, 7, 7, 7, 7, 7, 7, 7, 8, 8, 8, 8, 8, 8, 8, 8, 8, 8, 9, 9, 9, 9, 9, 9, 9, 9, 9, 9]\n",
      "正確標籤: [0, 0, 0, 0, 0, 0, 0, 0, 0, 0, 1, 1, 1, 1, 1, 1, 1, 1, 1, 1, 1, 2, 2, 2, 2, 2, 2, 2, 2, 2, 2, 3, 3, 3, 3, 3, 3, 3, 3, 3, 3, 4, 4, 4, 4, 4, 4, 4, 4, 4, 4, 5, 5, 5, 5, 5, 5, 5, 5, 5, 5, 6, 6, 6, 6, 6, 6, 6, 6, 6, 6, 7, 7, 7, 7, 7, 7, 7, 7, 7, 7, 8, 8, 8, 8, 8, 8, 8, 8, 8, 8, 9, 9, 9, 9, 9, 9, 9, 9, 9, 9]\n",
      "kNN 正確率:  100.0 %\n"
     ]
    }
   ],
   "source": [
    "from sklearn import neighbors\n",
    "clf = neighbors.KNeighborsClassifier(n_neighbors=8)\n",
    "clf = clf.fit(bag, df['類別']) # 開始訓練\n",
    "\n",
    "# 開始預測\n",
    "predict = clf.predict(test_bag)\n",
    "print(\"預測:\", list(predict))\n",
    "print(\"正確標籤:\", list(test_df['類別']))\n",
    "print(\"kNN 正確率: \", accuracy_score(test_df['類別'], predict) * 100, \"%\")"
   ]
  },
  {
   "cell_type": "code",
   "execution_count": null,
   "metadata": {},
   "outputs": [],
   "source": []
  }
 ],
 "metadata": {
  "kernelspec": {
   "display_name": "Python 3",
   "language": "python",
   "name": "python3"
  },
  "language_info": {
   "codemirror_mode": {
    "name": "ipython",
    "version": 3
   },
   "file_extension": ".py",
   "mimetype": "text/x-python",
   "name": "python",
   "nbconvert_exporter": "python",
   "pygments_lexer": "ipython3",
   "version": "3.7.3"
  }
 },
 "nbformat": 4,
 "nbformat_minor": 2
}
