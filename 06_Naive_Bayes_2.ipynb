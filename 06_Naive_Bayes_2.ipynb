{
 "cells": [
  {
   "cell_type": "markdown",
   "metadata": {},
   "source": [
    "# 1-單純貝氏 (詩詞分類)\n",
    "\n",
    "## 應用:\n",
    " * 分類垃圾信\n",
    " \n",
    "## 機率:\n",
    "* P(A) = (A事件)發生的機率\n",
    "* P(A|B) = $ P(\\frac{A}{B}) = \\frac{P(A\\cap{B})}{P(B)} $ = 如果(B事件)發生,則(A事件)發生的機率\n",
    "* $ P(A\\cap{B}) $ = (A事件)與(B事件)同時發生的機率\n",
    "* $ P(A\\cap{B}) = P(B)P(A|B) $ = 先發生(B事件),再發生(A事件)的機率\n",
    "* 如果(A事件)與(B事件)相互獨立, 則 $ P(A\\cap{B}) = P(A)P(B) $\n",
    "* 貝葉斯定理: $ P(A\\cap{B}) = P(A)P(B|A) = P(B)P(A|B) $\n",
    "\n",
    "## 詩詞分類\n",
    "* P(李白) = 任選一首詩,該首詩是李白寫的機率\n",
    "* P(ABC|李白) = 如果該首詩是李白寫的,則該首詩內容出現(ABC)的機率\n",
    "* P(李白|ABC) = 如果該首詩裡面有內容(ABC),則該首詩是李白寫的機率\n",
    "* $ P(ABC\\cap{李白}) = $(該首詩的內容出現ABC)且(該首詩是李白寫的)\n",
    "\n",
    "## 詞彙之間是有順序關係的:\n",
    "* (A詞彙) 的機率 = $ P(A) $\n",
    "* 如果先出現(A詞彙),再出現(B詞彙) 的機率 = $ P(A)*P(B|A) $\n",
    "* 如果先出現(A詞彙),再出現(B詞彙),再出現(C詞彙) 的機率 = $ P(A)*P(B|A)*P(C|A\\cap{B}) $\n",
    "\n",
    "## 該分類目前不考慮詞彙順序:\n",
    "* 詩的內容: A\\B\\C\n",
    "* P(A|李白) = 李白寫出(A)的機率 = $ \\frac{A出現的次數}{李白寫出A的次數} $\n",
    "* P(A|李白)*P(B|李白)*P(C|李白) = 李白寫出(ABC)的機率"
   ]
  },
  {
   "cell_type": "markdown",
   "metadata": {},
   "source": [
    "# 2-資料集\n",
    "* poem_train.csv: 供你訓練模型\n",
    "* poem_test.csv: 供你測試模型\n",
    "* 標籤:[李白,杜甫,白居易]\n",
    "\n",
    "\n",
    " - 問題:維度災難 = 特徵維度過大 --> 特徵太多導致無法進型特徵選擇\n",
    " - 解決:降低維度"
   ]
  },
  {
   "cell_type": "code",
   "execution_count": 1,
   "metadata": {
    "scrolled": true
   },
   "outputs": [],
   "source": [
    "# 匯入資料\n",
    "import pandas as pd\n",
    "train_df = pd.read_csv(\"./data/dataset_8/poem_train.csv\", encoding = \"utf-8\")\n",
    "test_df = pd.read_csv(\"./data/dataset_8/poem_test.csv\", encoding = \"utf-8\")"
   ]
  },
  {
   "cell_type": "code",
   "execution_count": 2,
   "metadata": {
    "scrolled": false
   },
   "outputs": [
    {
     "name": "stderr",
     "output_type": "stream",
     "text": [
      "Building prefix dict from the default dictionary ...\n",
      "Loading model from cache C:\\Users\\user\\AppData\\Local\\Temp\\jieba.cache\n",
      "Loading model cost 1.124 seconds.\n",
      "Prefix dict has been built succesfully.\n"
     ]
    },
    {
     "data": {
      "text/plain": [
       "'平林 漠漠 煙如織 ， 寒山 一帶 傷心 碧 。 暝 色入 高樓 ， 有人 樓上 愁 。 玉階空 佇立 ， 宿鳥 歸 飛急 。 何處 是 歸程 ？ 長 亭 連短亭 。'"
      ]
     },
     "execution_count": 2,
     "metadata": {},
     "output_type": "execute_result"
    }
   ],
   "source": [
    "import jieba\n",
    "s = \"\"\"平林漠漠煙如織，寒山一帶傷心碧。\\r\\n暝色入高樓，有人樓上愁。玉階空佇立，宿鳥歸飛急。\\r\\n何處是歸程？長亭連短亭。\"\"\"\n",
    "s = s.replace(\"\\r\\n\",\"\").replace(\"\\r\\n\",\"\")\n",
    "\" \".join(jieba.cut(s))"
   ]
  },
  {
   "cell_type": "markdown",
   "metadata": {},
   "source": [
    "## [decorator](https://dotblogs.com.tw/rickyteng/archive/2013/11/06/126852.aspx)"
   ]
  },
  {
   "cell_type": "code",
   "execution_count": 3,
   "metadata": {},
   "outputs": [
    {
     "name": "stdout",
     "output_type": "stream",
     "text": [
      "int\n"
     ]
    }
   ],
   "source": [
    "# 顯示function的名稱\n",
    "def show(func):\n",
    "    return func.__name__\n",
    "\n",
    "print(show(int))"
   ]
  },
  {
   "cell_type": "code",
   "execution_count": 4,
   "metadata": {},
   "outputs": [
    {
     "name": "stdout",
     "output_type": "stream",
     "text": [
      "step1:\n",
      "test2\n",
      "step2:\n"
     ]
    },
    {
     "data": {
      "text/plain": [
       "8"
      ]
     },
     "execution_count": 4,
     "metadata": {},
     "output_type": "execute_result"
    }
   ],
   "source": [
    "def show(func):\n",
    "    print(\"step1:\")\n",
    "    print(func.__name__)\n",
    "    return func\n",
    "\n",
    "@show\n",
    "def test2(a):\n",
    "    print(\"step2:\")\n",
    "    return a+3\n",
    "\n",
    "test2(5) # @show --> 先執行 show(test2), 再執行 test2(5)"
   ]
  },
  {
   "cell_type": "code",
   "execution_count": 5,
   "metadata": {},
   "outputs": [
    {
     "name": "stdout",
     "output_type": "stream",
     "text": [
      "show\n",
      "show_B\n",
      "show\n",
      "show_A\n"
     ]
    }
   ],
   "source": [
    "def show(func):\n",
    "    print(\"show\")\n",
    "    if func.__name__==\"test2\":\n",
    "        print(\"show_A\")\n",
    "        return func\n",
    "    else:\n",
    "        print(\"show_B\")\n",
    "        return int\n",
    "\n",
    "@show\n",
    "def test(a):\n",
    "    print(\"test\")\n",
    "    return a+5\n",
    "\n",
    "@show\n",
    "def test2(a):\n",
    "    print(\"test2\")\n",
    "    return a+3\n",
    "\n",
    "# test(5) # test --> show_B --> show --> show_A\n",
    "# print(\"---------\")\n",
    "# test2(5)"
   ]
  },
  {
   "cell_type": "code",
   "execution_count": 6,
   "metadata": {},
   "outputs": [
    {
     "name": "stdout",
     "output_type": "stream",
     "text": [
      "show\n",
      "show_B\n",
      "show\n",
      "show_A\n"
     ]
    }
   ],
   "source": [
    "def show(func):\n",
    "    print(\"show\")\n",
    "    if func.__name__==\"test2\":\n",
    "        print(\"show_A\")\n",
    "        return func\n",
    "    else:\n",
    "        print(\"show_B\")\n",
    "        return int\n",
    "# show(test)不會改變 test函式\n",
    "# @show則會改變 test函式\n",
    "show(test) \n",
    "def test(a):\n",
    "    print(\"test\")\n",
    "    return a+5\n",
    "\n",
    "show(test2)\n",
    "def test2(a):\n",
    "    print(\"test2\")\n",
    "    return a+3\n",
    "\n",
    "# test(5) # test --> show_B --> show --> show_A\n",
    "# print(\"---------\")\n",
    "# test2(5)"
   ]
  },
  {
   "cell_type": "markdown",
   "metadata": {},
   "source": [
    "## [pandas.Series.apply](https://pandas.pydata.org/pandas-docs/stable/reference/api/pandas.Series.apply.html)"
   ]
  },
  {
   "cell_type": "code",
   "execution_count": 7,
   "metadata": {},
   "outputs": [
    {
     "data": {
      "text/plain": [
       "0      日照 香爐生 紫煙 ， 遙看 瀑布 掛 前川 。 飛流 直下 三千尺 ， 疑是 銀河 落九天 。\n",
       "1     朝辭 白帝 彩雲間 ， 千裡 江陵 一日 還 。 兩岸 猿聲 啼 不住 ， 輕舟 已過 萬 ...\n",
       "2      李白 乘舟 將欲行 ， 忽聞 岸上 踏歌 聲 。 桃花潭水 深 千尺 ， 不及 汪倫送 我情 。\n",
       "3       故人 西辭黃鶴樓 ， 煙花 三月 下揚州 。 孤帆 遠影 碧空 儘 ， 唯見長 江天 際流 。\n",
       "4                 危樓 高 百尺 ， 手可摘 星辰 。 不敢 高聲語 ， 恐驚 天上 人 。\n",
       "5                  床前 明月光 ， 疑是 地上 霜 。 舉頭 望明月 ， 低頭思 故鄉 。\n",
       "6     天門 中斷 楚江 開 ， 碧水 東流 至此 回 。 兩岸 青山 相對 出 ， 孤帆 一片 日...\n",
       "7               眾鳥 高 飛 儘 ， 孤雲獨 去 閒 。 相看 兩不厭 ， 隻 有 敬亭山 。\n",
       "8     鳳凰 台上 鳳凰遊 ， 鳳去 台空江 自流 。 吳宮 花草 埋 幽徑 ， 晉代 衣冠 成古丘...\n",
       "9     渡遠 荊門外 ， 來 從 楚國遊 。 山 隨 平野 儘 ， 江入 大荒 流 。 月 下 飛天...\n",
       "10    百川 日東流 ， 客去 亦 不息 。 我 生苦 漂 蕩 ， 何時 有 終極 。 讚 公 釋 ...\n",
       "11    細泉 兼 輕冰 ， 沮洳 棧道 濕 。 不辭 辛苦 行 ， 迫此 短景急 。 石門 雪雲隘 ...\n",
       "12    首路 栗亭 西 ， 尚想 鳳凰村 。 季冬 攜 童稚 ， 辛苦 赴 蜀門 。 南登 木皮 嶺...\n",
       "13    落日 在 簾 鉤 ， 溪邊 春事幽 。 芳菲 緣岸 圃 ， 樵 爨 倚灘 舟 。 啅 雀 爭...\n",
       "14    竇侍 禦 ， 驥 之子 ， 鳳之雛 。 年 未 三十 忠義俱 ， 骨鯁 絕代 無 。 炯 如...\n",
       "15    百草 競春華 ， 麗春應 最勝 。 少須 好 顏色 ， 多漫枝條 剩 。 紛紛 桃李 枝 ，...\n",
       "16    何年 顧虎頭 ， 滿壁畫 瀛州 。 赤 日 石林 氣 ， 青天 江海 流 。 錫飛常 近鶴 ...\n",
       "17    野寺 隱喬木 ， 山僧 高下 居 。 石門 日色異 ， 絳 氣橫 扶疏 。 窈窕 入風 磴 ...\n",
       "18    西川 有 杜鵑 ， 東川 無 杜鵑 。 涪萬 無 杜鵑 ， 雲安有 杜鵑 。 我 昔遊錦城 ...\n",
       "19    小奴 縛雞 向 市 賣 ， 雞 被縛 急 相 喧爭 。 家中 厭雞 食蟲 蟻 ， 不知 雞賣...\n",
       "20    管妙 弦 清歌 入 雲 ， 老人 合眼 醉醺醺 。 誠知 不及 當年 聽 ， 猶覺 聞時 勝...\n",
       "21    追歡 逐樂少 閒時 ， 補帖 平生 得事遲 。 何處 花開 曾後看 ？ 誰家 酒熟 不 先知...\n",
       "22    歲 陰生計 兩 蹉跎 ， 相顧 悠悠 醉且 歌 。 廚冷 難留 烏止 屋 ， 門閒 可 與 ...\n",
       "23    雨 砌 長 寒蕪 ， 風庭 落秋果 。 窗間 有 閒叟 ， 儘 日 看 書 坐 。 書中見 ...\n",
       "24    睡足 肢體 暢 ， 晨起 開 中堂 。 初旭泛 簾幕 ， 微風 拂 衣裳 。 二婢 扶 盥櫛...\n",
       "25    履道 西門 有 弊居 ， 池塘 竹樹繞 君廬 。 豪華肥壯 雖無分 ， 飽暖安閒 即 有 餘...\n",
       "26    昨日 複 今辰 ， 悠悠 七十 春 。 所經 多 故處 ， 卻 想 似 前身 。 散 秩優遊...\n",
       "27    不 與 老為期 ， 因何 兩鬢絲 ？ 才 應免 夭促 ， 便 已 及 衰 羸 。 昨夜 夢 ...\n",
       "28    暖床 斜 臥日 曛 腰 ， 一覺 閒眠 百病 銷 。 儘 日 一 飧 茶 兩 碗 ， 更無所...\n",
       "29    選石 鋪 新路 ， 安橋 壓古堤 。 似 從 銀漢下 ， 落傍玉 川西 。 影定 欄杆 倒 ...\n",
       "Name: 內容, dtype: object"
      ]
     },
     "execution_count": 7,
     "metadata": {},
     "output_type": "execute_result"
    }
   ],
   "source": [
    "def poemcut(s):\n",
    "    s = s.replace(\"\\r\\n\",\"\").replace(\"\\r\\n\",\"\")\n",
    "    return \" \".join(jieba.cut(s))\n",
    "x_train = train_df[\"內容\"].apply(poemcut)\n",
    "x_test = test_df[\"內容\"].apply(poemcut)\n",
    "x_test"
   ]
  },
  {
   "cell_type": "code",
   "execution_count": 8,
   "metadata": {},
   "outputs": [
    {
     "data": {
      "text/plain": [
       "杜甫     1157\n",
       "李白      969\n",
       "白居易     605\n",
       "Name: 作者, dtype: int64"
      ]
     },
     "execution_count": 8,
     "metadata": {},
     "output_type": "execute_result"
    }
   ],
   "source": [
    "# 機器學習/深度學習的函式庫都要求進去要數字(不能是字串)\n",
    "# value_counts(統計類別個數)\n",
    "train_df['作者'].value_counts()"
   ]
  },
  {
   "cell_type": "code",
   "execution_count": 9,
   "metadata": {},
   "outputs": [
    {
     "data": {
      "text/plain": [
       "array(['李白', '杜甫', '白居易'], dtype=object)"
      ]
     },
     "execution_count": 9,
     "metadata": {},
     "output_type": "execute_result"
    }
   ],
   "source": [
    "# unique(不重複類別) \n",
    "train_df['作者'].unique()"
   ]
  },
  {
   "cell_type": "code",
   "execution_count": 10,
   "metadata": {},
   "outputs": [
    {
     "data": {
      "text/plain": [
       "0       0\n",
       "1       0\n",
       "2       0\n",
       "3       0\n",
       "4       0\n",
       "       ..\n",
       "2726    2\n",
       "2727    2\n",
       "2728    2\n",
       "2729    2\n",
       "2730    2\n",
       "Name: 作者, Length: 2731, dtype: int64"
      ]
     },
     "execution_count": 10,
     "metadata": {},
     "output_type": "execute_result"
    }
   ],
   "source": [
    "u = train_df['作者'].unique()\n",
    "trans = {v:i for i,v in enumerate(u)}\n",
    "reverse = {i:v for i,v in enumerate(u)}\n",
    "trans\n",
    "y_train = train_df['作者'].replace(trans)\n",
    "y_test = test_df['作者'].replace(trans)\n",
    "y_train"
   ]
  },
  {
   "cell_type": "markdown",
   "metadata": {},
   "source": [
    "## [sklearn.feature_extraction.text](https://scikit-learn.org/stable/modules/classes.html#module-sklearn.feature_extraction.text)"
   ]
  },
  {
   "cell_type": "code",
   "execution_count": 11,
   "metadata": {},
   "outputs": [
    {
     "data": {
      "text/plain": [
       "{'李白': 0, '杜甫': 1, '白居易': 2}"
      ]
     },
     "execution_count": 11,
     "metadata": {},
     "output_type": "execute_result"
    }
   ],
   "source": [
    "# {作者名稱:index}的字典\n",
    "train_df['作者'] = train_df['作者'].astype('category')\n",
    "saved_map = { cat:train_df['作者'].cat.categories.get_loc(cat) for cat in train_df['作者'].cat.categories }\n",
    "saved_map"
   ]
  },
  {
   "cell_type": "code",
   "execution_count": 12,
   "metadata": {
    "scrolled": true
   },
   "outputs": [],
   "source": [
    "# (作者名稱)轉為整數(index)\n",
    "train_df['作者'] = train_df['作者'].replace(saved_map)\n",
    "test_df['作者'] = test_df['作者'].replace(saved_map)"
   ]
  },
  {
   "cell_type": "markdown",
   "metadata": {},
   "source": [
    "[CountVectorizer](https://scikit-learn.org/stable/modules/generated/sklearn.feature_extraction.text.CountVectorizer.html#sklearn.feature_extraction.text.CountVectorizer)"
   ]
  },
  {
   "cell_type": "code",
   "execution_count": 13,
   "metadata": {
    "collapsed": true
   },
   "outputs": [
    {
     "name": "stdout",
     "output_type": "stream",
     "text": [
      "  (0, 16053)\t1\n",
      "  (0, 29006)\t1\n",
      "  (0, 30177)\t1\n",
      "  (0, 14002)\t1\n",
      "  (0, 139)\t1\n",
      "  (0, 4756)\t1\n",
      "  (0, 39345)\t1\n",
      "  (0, 51400)\t1\n",
      "  (0, 23289)\t1\n",
      "  (0, 25180)\t1\n",
      "  (0, 31382)\t1\n",
      "  (0, 3549)\t1\n",
      "  (0, 13846)\t1\n",
      "  (0, 50568)\t1\n",
      "  (0, 3797)\t1\n",
      "  (0, 26005)\t1\n",
      "  (0, 44987)\t2\n",
      "  (0, 34)\t1\n",
      "  (0, 33975)\t1\n",
      "  (1, 49338)\t1\n",
      "  (1, 16293)\t1\n",
      "  (1, 19165)\t1\n",
      "  (1, 4540)\t1\n",
      "  (1, 85)\t1\n",
      "  (1, 2776)\t1\n",
      "  :\t:\n",
      "  (2729, 8800)\t1\n",
      "  (2729, 6485)\t1\n",
      "  (2729, 3060)\t1\n",
      "  (2730, 25782)\t1\n",
      "  (2730, 6026)\t1\n",
      "  (2730, 36958)\t1\n",
      "  (2730, 15905)\t1\n",
      "  (2730, 44854)\t1\n",
      "  (2730, 29458)\t1\n",
      "  (2730, 2175)\t1\n",
      "  (2730, 31125)\t1\n",
      "  (2730, 40974)\t1\n",
      "  (2730, 35446)\t1\n",
      "  (2730, 49196)\t1\n",
      "  (2730, 6770)\t1\n",
      "  (2730, 48596)\t1\n",
      "  (2730, 7813)\t1\n",
      "  (2730, 1714)\t1\n",
      "  (2730, 39190)\t1\n",
      "  (2730, 28820)\t1\n",
      "  (2730, 38489)\t1\n",
      "  (2730, 28423)\t1\n",
      "  (2730, 51689)\t1\n",
      "  (2730, 8048)\t1\n",
      "  (2730, 23226)\t1\n"
     ]
    }
   ],
   "source": [
    "# 使用 TF-IDF 統計詞彙\n",
    "# TF-IDF --> 對於(單純貝葉斯)沒有差, 因為(李白使用常用詞的機率)=(杜甫使用常用詞的機率),因此\n",
    "# fit --> 只找出 min 與 max(測試資料集中,將會加入沒有看過的資料,因為推測該資料很重要)\n",
    "# fit_transform --> 把每個格子依照 min,max 做出轉換(測試資料集中,將會捨棄沒有看過的資料,因為推測該資料不受影響)\n",
    "# 訓練集: (fit)+(transform)\n",
    "# 測試集: (transform)\n",
    "from sklearn.feature_extraction.text import CountVectorizer\n",
    "vec = CountVectorizer()\n",
    "x_train_vec = vec.fit_transform(x_train) # fit_transform = (fit)+(transform)\n",
    "x_test_vec = vec.transform(x_test)\n",
    "x_train_vec\n",
    "print(x_train_vec)\n",
    "# <2731x52294 sparse matrix of type '<class 'numpy.int64'>' with 85677 stored elements in Compressed Sparse Row format>\n",
    "# 矩陣大小: 2731x52294, 有值的數量:85677\n",
    "# 稀疏矩陣(sparse matrix) --> "
   ]
  },
  {
   "cell_type": "code",
   "execution_count": 14,
   "metadata": {},
   "outputs": [
    {
     "data": {
      "text/plain": [
       "'高樓'"
      ]
     },
     "execution_count": 14,
     "metadata": {},
     "output_type": "execute_result"
    }
   ],
   "source": [
    "word_to_index = vec.vocabulary_\n",
    "index_to_word = {v:k for k,v in word_to_index.items()}\n",
    "index_to_word[51400]"
   ]
  },
  {
   "cell_type": "code",
   "execution_count": 15,
   "metadata": {},
   "outputs": [],
   "source": [
    "# from sklearn.feature_extraction.text import TfidfVectorizer\n",
    "# vec = TfidfVectorizer()\n",
    "# bag = vec.fit_transform(train_df['內容'])\n",
    "# print(\"總共維度:\", len(vec.get_feature_names()))"
   ]
  },
  {
   "cell_type": "code",
   "execution_count": 16,
   "metadata": {},
   "outputs": [
    {
     "data": {
      "text/plain": [
       "MultinomialNB(alpha=1.0, class_prior=None, fit_prior=True)"
      ]
     },
     "execution_count": 16,
     "metadata": {},
     "output_type": "execute_result"
    }
   ],
   "source": [
    "# 單純貝氏(分類)\n",
    "from sklearn.naive_bayes import MultinomialNB\n",
    "clf = MultinomialNB()\n",
    "clf.fit(x_train_vec,y_train)"
   ]
  },
  {
   "cell_type": "code",
   "execution_count": 17,
   "metadata": {
    "scrolled": true
   },
   "outputs": [
    {
     "name": "stdout",
     "output_type": "stream",
     "text": [
      "預測: [0, 0, 0, 0, 0, 2, 0, 0, 0, 1, 1, 1, 1, 0, 1, 1, 1, 1, 1, 2, 0, 2, 2, 2, 2, 2, 2, 2, 2, 1]\n",
      "正確標籤: [0, 0, 0, 0, 0, 0, 0, 0, 0, 0, 1, 1, 1, 1, 1, 1, 1, 1, 1, 1, 2, 2, 2, 2, 2, 2, 2, 2, 2, 2]\n",
      "Naive-Bayes 正確率:  80.0 %\n"
     ]
    }
   ],
   "source": [
    "# 開始預測\n",
    "from sklearn.metrics import accuracy_score\n",
    "predict = clf.predict(x_test_vec)\n",
    "print(\"預測:\", list(predict))\n",
    "print(\"正確標籤:\", list(y_test))\n",
    "print(\"Naive-Bayes 正確率: \", accuracy_score(predict, y_test) * 100, \"%\")"
   ]
  },
  {
   "cell_type": "code",
   "execution_count": 18,
   "metadata": {
    "scrolled": false
   },
   "outputs": [
    {
     "data": {
      "text/html": [
       "<div>\n",
       "<style scoped>\n",
       "    .dataframe tbody tr th:only-of-type {\n",
       "        vertical-align: middle;\n",
       "    }\n",
       "\n",
       "    .dataframe tbody tr th {\n",
       "        vertical-align: top;\n",
       "    }\n",
       "\n",
       "    .dataframe thead th {\n",
       "        text-align: right;\n",
       "    }\n",
       "</style>\n",
       "<table border=\"1\" class=\"dataframe\">\n",
       "  <thead>\n",
       "    <tr style=\"text-align: right;\">\n",
       "      <th></th>\n",
       "      <th>李白(預測)</th>\n",
       "      <th>杜甫(預測)</th>\n",
       "      <th>白居易(預測)</th>\n",
       "    </tr>\n",
       "  </thead>\n",
       "  <tbody>\n",
       "    <tr>\n",
       "      <th>李白(正確)</th>\n",
       "      <td>8</td>\n",
       "      <td>1</td>\n",
       "      <td>1</td>\n",
       "    </tr>\n",
       "    <tr>\n",
       "      <th>杜甫(正確)</th>\n",
       "      <td>1</td>\n",
       "      <td>8</td>\n",
       "      <td>1</td>\n",
       "    </tr>\n",
       "    <tr>\n",
       "      <th>白居易(正確)</th>\n",
       "      <td>1</td>\n",
       "      <td>1</td>\n",
       "      <td>8</td>\n",
       "    </tr>\n",
       "  </tbody>\n",
       "</table>\n",
       "</div>"
      ],
      "text/plain": [
       "         李白(預測)  杜甫(預測)  白居易(預測)\n",
       "李白(正確)        8       1        1\n",
       "杜甫(正確)        1       8        1\n",
       "白居易(正確)       1       1        8"
      ]
     },
     "execution_count": 18,
     "metadata": {},
     "output_type": "execute_result"
    }
   ],
   "source": [
    "from sklearn.metrics import confusion_matrix\n",
    "i = [(name+\"(正確)\") for name in u]\n",
    "c = [(name+\"(預測)\") for name in u]\n",
    "pd.DataFrame(confusion_matrix(y_test,predict),\n",
    "             index = i,\n",
    "             columns = c)"
   ]
  },
  {
   "cell_type": "code",
   "execution_count": 20,
   "metadata": {
    "scrolled": true
   },
   "outputs": [
    {
     "name": "stdout",
     "output_type": "stream",
     "text": [
      "李白 的機率:  0.587110114075689\n",
      "杜甫 的機率:  0.33123345596688514\n",
      "白居易 的機率:  0.08165642995742552\n",
      "應該是 李白 寫的\n"
     ]
    }
   ],
   "source": [
    "# p = input(\"君不見 黃河之水\")\n",
    "p = \"君不見 黃河之水\"\n",
    "p = poemcut(p) # 切割成(詞彙)\n",
    "p = vec.transform([p])\n",
    "\n",
    "proba = clf.predict_proba(p)[0] # 查看預測機率\n",
    "for name,prob in zip(u,proba):\n",
    "    print(name,\"的機率: \",prob)\n",
    "idx = clf.predict(p)[0]\n",
    "print(\"應該是\",u[idx],\"寫的\")"
   ]
  },
  {
   "cell_type": "markdown",
   "metadata": {},
   "source": [
    "# 遷移學習:"
   ]
  },
  {
   "cell_type": "markdown",
   "metadata": {},
   "source": [
    "## 單純貝葉斯種類:\n",
    "* MultinomialNB: 特徵數量固定 --> 計算次數 --> 類似於擲骰子的機率\n",
    "* GaussianNB: 以(不連續資料)來模擬(連續資料) --> $ P(Setosa)P(\\frac{sl=4}{Setosa})P(\\frac{sw=2}{Setosa}) $\n",
    "* BernoulliNB:$ P(受歡迎)P(\\frac{帥=1}{受歡迎}) $\n",
    "\n",
    "## GaussianNB\n",
    "$ \\theta = \\frac{N_{yi}+\\alpha}{N_{y}+{\\alpha}n} $ --> $ \\alpha $可以避免發生機率為0(Laplace Smoothing=機率平滑化)"
   ]
  },
  {
   "cell_type": "code",
   "execution_count": 44,
   "metadata": {},
   "outputs": [
    {
     "name": "stdout",
     "output_type": "stream",
     "text": [
      "預測: [2, 2, 2, 2, 0, 2, 2, 2, 2, 2, 2, 2, 2, 2, 2, 2, 2, 2, 2, 2, 2, 2, 2, 2, 2, 2, 2, 2, 2, 2]\n",
      "正確標籤: [0, 0, 0, 0, 0, 0, 0, 0, 0, 0, 1, 1, 1, 1, 1, 1, 1, 1, 1, 1, 2, 2, 2, 2, 2, 2, 2, 2, 2, 2]\n",
      "kNN 正確率:  36.666666666666664 %\n"
     ]
    }
   ],
   "source": [
    "# KNN(分類)\n",
    "from sklearn import neighbors\n",
    "clf = neighbors.KNeighborsClassifier(n_neighbors=8)\n",
    "clf = clf.fit(bag, train_df['作者']) # 開始訓練\n",
    "\n",
    "# 開始預測\n",
    "predict = clf.predict(test_bag)\n",
    "print(\"預測:\", list(predict))\n",
    "print(\"正確標籤:\", list(test_df['作者']))\n",
    "print(\"kNN 正確率: \", accuracy_score(test_df['作者'], predict) * 100, \"%\")"
   ]
  },
  {
   "cell_type": "code",
   "execution_count": null,
   "metadata": {},
   "outputs": [],
   "source": []
  }
 ],
 "metadata": {
  "kernelspec": {
   "display_name": "Python 3",
   "language": "python",
   "name": "python3"
  },
  "language_info": {
   "codemirror_mode": {
    "name": "ipython",
    "version": 3
   },
   "file_extension": ".py",
   "mimetype": "text/x-python",
   "name": "python",
   "nbconvert_exporter": "python",
   "pygments_lexer": "ipython3",
   "version": "3.6.0"
  }
 },
 "nbformat": 4,
 "nbformat_minor": 2
}
