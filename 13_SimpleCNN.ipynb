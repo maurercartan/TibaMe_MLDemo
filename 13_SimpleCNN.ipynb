{
 "cells": [
  {
   "cell_type": "markdown",
   "metadata": {
    "colab_type": "text",
    "id": "AFLopNu_pBIo"
   },
   "source": [
    "# 卷積神經網絡(CNN)"
   ]
  },
  {
   "cell_type": "markdown",
   "metadata": {
    "colab_type": "text",
    "id": "O8mdx28HpBIt"
   },
   "source": [
    "## 1-加載 Library"
   ]
  },
  {
   "cell_type": "code",
   "execution_count": 1,
   "metadata": {
    "colab": {
     "base_uri": "https://localhost:8080/",
     "height": 80
    },
    "colab_type": "code",
    "id": "JVZOV6rspBIv",
    "outputId": "8a3bfd12-8a59-4014-ff3d-47ff8988a4a1",
    "scrolled": true
   },
   "outputs": [
    {
     "name": "stderr",
     "output_type": "stream",
     "text": [
      "Using TensorFlow backend.\n"
     ]
    },
    {
     "data": {
      "text/html": [
       "<p style=\"color: red;\">\n",
       "The default version of TensorFlow in Colab will soon switch to TensorFlow 2.x.<br>\n",
       "We recommend you <a href=\"https://www.tensorflow.org/guide/migrate\" target=\"_blank\">upgrade</a> now \n",
       "or ensure your notebook will continue to use TensorFlow 1.x via the <code>%tensorflow_version 1.x</code> magic:\n",
       "<a href=\"https://colab.research.google.com/notebooks/tensorflow_version.ipynb\" target=\"_blank\">more info</a>.</p>\n"
      ],
      "text/plain": [
       "<IPython.core.display.HTML object>"
      ]
     },
     "metadata": {
      "tags": []
     },
     "output_type": "display_data"
    }
   ],
   "source": [
    "from keras.datasets import cifar10\n",
    "import matplotlib.pyplot as plt\n",
    "import pandas as pd\n",
    "%matplotlib inline"
   ]
  },
  {
   "cell_type": "markdown",
   "metadata": {
    "colab_type": "text",
    "id": "ptwcmJ6UpBI0"
   },
   "source": [
    "## 2-數據集處理"
   ]
  },
  {
   "cell_type": "code",
   "execution_count": 2,
   "metadata": {
    "colab": {
     "base_uri": "https://localhost:8080/",
     "height": 51
    },
    "colab_type": "code",
    "id": "bvRr7KEtpBI1",
    "outputId": "266cfff3-c058-4016-c4d4-20f77476691c"
   },
   "outputs": [
    {
     "name": "stdout",
     "output_type": "stream",
     "text": [
      "Downloading data from https://www.cs.toronto.edu/~kriz/cifar-10-python.tar.gz\n",
      "170500096/170498071 [==============================] - 6s 0us/step\n"
     ]
    }
   ],
   "source": [
    "# 回傳值: ((訓練特徵, 訓練目標), (測試特徵, 測試目標))\n",
    "(x_train, y_train), (x_test, y_test) = cifar10.load_data()\n",
    "label = {0:\"飛機\", 1:\"車\", 2:\"鳥\", 3:\"貓\", 4:\"鹿\",5:\"狗\", 6:\"青蛙\", 7:\"馬\", 8:\"船\", 9:\"卡車\"}"
   ]
  },
  {
   "cell_type": "code",
   "execution_count": 3,
   "metadata": {
    "colab": {
     "base_uri": "https://localhost:8080/",
     "height": 300
    },
    "colab_type": "code",
    "id": "r4UQuF1BpBI5",
    "outputId": "9b39a4d5-8d66-4746-c496-9728aa8cdb30"
   },
   "outputs": [
    {
     "name": "stdout",
     "output_type": "stream",
     "text": [
      "圖片答案是 卡車\n"
     ]
    },
    {
     "data": {
      "text/plain": [
       "<matplotlib.image.AxesImage at 0x7f7e33410c50>"
      ]
     },
     "execution_count": 3,
     "metadata": {
      "tags": []
     },
     "output_type": "execute_result"
    },
    {
     "data": {
      "image/png": "[encoded data removed]",
      "text/plain": [
       "<Figure size 432x288 with 1 Axes>"
      ]
     },
     "metadata": {
      "tags": []
     },
     "output_type": "display_data"
    }
   ],
   "source": [
    "a = 50\n",
    "print(\"圖片答案是\", label[y_train[a][0]])\n",
    "plt.imshow(x_train[a])"
   ]
  },
  {
   "cell_type": "code",
   "execution_count": 0,
   "metadata": {
    "colab": {},
    "colab_type": "code",
    "id": "JubSuPfFpBI-"
   },
   "outputs": [],
   "source": [
    "from keras.utils import np_utils\n",
    "x_train_shaped = x_train.astype(\"float32\") / 255\n",
    "x_test_shaped = x_test.astype(\"float32\") / 255\n",
    "y_train_cat = np_utils.to_categorical(y_train)\n",
    "y_test_cat = np_utils.to_categorical(y_test)"
   ]
  },
  {
   "cell_type": "markdown",
   "metadata": {
    "colab_type": "text",
    "id": "Chp5chG1pBJB"
   },
   "source": [
    "## 3-建立模型"
   ]
  },
  {
   "cell_type": "code",
   "execution_count": 5,
   "metadata": {
    "colab": {
     "base_uri": "https://localhost:8080/",
     "height": 734
    },
    "colab_type": "code",
    "id": "zNoL3g5_pBJD",
    "outputId": "8b9252db-57b5-4ddd-f1d3-79eb5ddc3f7f",
    "scrolled": true
   },
   "outputs": [
    {
     "name": "stdout",
     "output_type": "stream",
     "text": [
      "WARNING:tensorflow:From /usr/local/lib/python3.6/dist-packages/keras/backend/tensorflow_backend.py:66: The name tf.get_default_graph is deprecated. Please use tf.compat.v1.get_default_graph instead.\n",
      "\n",
      "WARNING:tensorflow:From /usr/local/lib/python3.6/dist-packages/keras/backend/tensorflow_backend.py:541: The name tf.placeholder is deprecated. Please use tf.compat.v1.placeholder instead.\n",
      "\n",
      "WARNING:tensorflow:From /usr/local/lib/python3.6/dist-packages/keras/backend/tensorflow_backend.py:4432: The name tf.random_uniform is deprecated. Please use tf.random.uniform instead.\n",
      "\n",
      "WARNING:tensorflow:From /usr/local/lib/python3.6/dist-packages/keras/backend/tensorflow_backend.py:4267: The name tf.nn.max_pool is deprecated. Please use tf.nn.max_pool2d instead.\n",
      "\n",
      "WARNING:tensorflow:From /usr/local/lib/python3.6/dist-packages/keras/backend/tensorflow_backend.py:148: The name tf.placeholder_with_default is deprecated. Please use tf.compat.v1.placeholder_with_default instead.\n",
      "\n",
      "WARNING:tensorflow:From /usr/local/lib/python3.6/dist-packages/keras/backend/tensorflow_backend.py:3733: calling dropout (from tensorflow.python.ops.nn_ops) with keep_prob is deprecated and will be removed in a future version.\n",
      "Instructions for updating:\n",
      "Please use `rate` instead of `keep_prob`. Rate should be set to `rate = 1 - keep_prob`.\n",
      "Model: \"sequential_1\"\n",
      "_________________________________________________________________\n",
      "Layer (type)                 Output Shape              Param #   \n",
      "=================================================================\n",
      "conv2d_1 (Conv2D)            (None, 32, 32, 32)        896       \n",
      "_________________________________________________________________\n",
      "max_pooling2d_1 (MaxPooling2 (None, 16, 16, 32)        0         \n",
      "_________________________________________________________________\n",
      "dropout_1 (Dropout)          (None, 16, 16, 32)        0         \n",
      "_________________________________________________________________\n",
      "conv2d_2 (Conv2D)            (None, 16, 16, 64)        18496     \n",
      "_________________________________________________________________\n",
      "max_pooling2d_2 (MaxPooling2 (None, 8, 8, 64)          0         \n",
      "_________________________________________________________________\n",
      "flatten_1 (Flatten)          (None, 4096)              0         \n",
      "_________________________________________________________________\n",
      "dropout_2 (Dropout)          (None, 4096)              0         \n",
      "_________________________________________________________________\n",
      "dense_1 (Dense)              (None, 128)               524416    \n",
      "_________________________________________________________________\n",
      "dropout_3 (Dropout)          (None, 128)               0         \n",
      "_________________________________________________________________\n",
      "dense_2 (Dense)              (None, 10)                1290      \n",
      "=================================================================\n",
      "Total params: 545,098\n",
      "Trainable params: 545,098\n",
      "Non-trainable params: 0\n",
      "_________________________________________________________________\n"
     ]
    }
   ],
   "source": [
    "from keras.models import Sequential\n",
    "from keras.layers import Dense, Dropout, Activation, Flatten\n",
    "from keras.layers import Conv2D, MaxPooling2D, ZeroPadding2D\n",
    "model = Sequential()\n",
    "# 第一次卷積和第一次池化\n",
    "model.add(Conv2D(filters=32,\n",
    "                 kernel_size=(3, 3),\n",
    "                 input_shape=(32, 32, 3),\n",
    "                 activation='relu',\n",
    "                 padding='same'))\n",
    "model.add(MaxPooling2D(pool_size=(2, 2)))\n",
    "model.add(Dropout(0.25))\n",
    "model.add(Conv2D(filters=64,\n",
    "                 kernel_size=(3, 3),\n",
    "                 activation='relu',\n",
    "                 padding='same'))\n",
    "model.add(MaxPooling2D(pool_size=(2, 2)))\n",
    "# 把你處理過的東西攤開成為一維\n",
    "model.add(Flatten())\n",
    "model.add(Dropout(rate=0.25))\n",
    "# 全連接層\n",
    "model.add(Dense(128, activation='relu'))\n",
    "model.add(Dropout(rate=0.25))\n",
    "model.add(Dense(10, activation='softmax'))\n",
    "model.summary()"
   ]
  },
  {
   "cell_type": "code",
   "execution_count": 6,
   "metadata": {
    "colab": {
     "base_uri": "https://localhost:8080/",
     "height": 1000
    },
    "colab_type": "code",
    "id": "TMh9q4J0pBJH",
    "outputId": "a83ab55c-31cb-4966-c66c-72fa1ada7e66"
   },
   "outputs": [
    {
     "data": {
      "image/svg+xml": [
       "<svg height=\"1033pt\" viewBox=\"0.00 0.00 229.00 775.00\" width=\"305pt\" xmlns=\"http://www.w3.org/2000/svg\" xmlns:xlink=\"http://www.w3.org/1999/xlink\">\n",
       "<g class=\"graph\" id=\"graph0\" transform=\"scale(1.3333 1.3333) rotate(0) translate(4 771)\">\n",
       "<title>G</title>\n",
       "<polygon fill=\"#ffffff\" points=\"-4,4 -4,-771 225,-771 225,4 -4,4\" stroke=\"transparent\"/>\n",
       "<!-- 140180002611776 -->\n",
       "<g class=\"node\" id=\"node1\">\n",
       "<title>140180002611776</title>\n",
       "<polygon fill=\"none\" points=\"18.5,-730.5 18.5,-766.5 202.5,-766.5 202.5,-730.5 18.5,-730.5\" stroke=\"#000000\"/>\n",
       "<text fill=\"#000000\" font-family=\"Times,serif\" font-size=\"14.00\" text-anchor=\"middle\" x=\"110.5\" y=\"-744.8\">conv2d_1_input: InputLayer</text>\n",
       "</g>\n",
       "<!-- 140181446928424 -->\n",
       "<g class=\"node\" id=\"node2\">\n",
       "<title>140181446928424</title>\n",
       "<polygon fill=\"none\" points=\"44,-657.5 44,-693.5 177,-693.5 177,-657.5 44,-657.5\" stroke=\"#000000\"/>\n",
       "<text fill=\"#000000\" font-family=\"Times,serif\" font-size=\"14.00\" text-anchor=\"middle\" x=\"110.5\" y=\"-671.8\">conv2d_1: Conv2D</text>\n",
       "</g>\n",
       "<!-- 140180002611776&#45;&gt;140181446928424 -->\n",
       "<g class=\"edge\" id=\"edge1\">\n",
       "<title>140180002611776-&gt;140181446928424</title>\n",
       "<path d=\"M110.5,-730.4551C110.5,-722.3828 110.5,-712.6764 110.5,-703.6817\" fill=\"none\" stroke=\"#000000\"/>\n",
       "<polygon fill=\"#000000\" points=\"114.0001,-703.5903 110.5,-693.5904 107.0001,-703.5904 114.0001,-703.5903\" stroke=\"#000000\"/>\n",
       "</g>\n",
       "<!-- 140179997485432 -->\n",
       "<g class=\"node\" id=\"node3\">\n",
       "<title>140179997485432</title>\n",
       "<polygon fill=\"none\" points=\"0,-584.5 0,-620.5 221,-620.5 221,-584.5 0,-584.5\" stroke=\"#000000\"/>\n",
       "<text fill=\"#000000\" font-family=\"Times,serif\" font-size=\"14.00\" text-anchor=\"middle\" x=\"110.5\" y=\"-598.8\">max_pooling2d_1: MaxPooling2D</text>\n",
       "</g>\n",
       "<!-- 140181446928424&#45;&gt;140179997485432 -->\n",
       "<g class=\"edge\" id=\"edge2\">\n",
       "<title>140181446928424-&gt;140179997485432</title>\n",
       "<path d=\"M110.5,-657.4551C110.5,-649.3828 110.5,-639.6764 110.5,-630.6817\" fill=\"none\" stroke=\"#000000\"/>\n",
       "<polygon fill=\"#000000\" points=\"114.0001,-630.5903 110.5,-620.5904 107.0001,-630.5904 114.0001,-630.5903\" stroke=\"#000000\"/>\n",
       "</g>\n",
       "<!-- 140181446928312 -->\n",
       "<g class=\"node\" id=\"node4\">\n",
       "<title>140181446928312</title>\n",
       "<polygon fill=\"none\" points=\"43.5,-511.5 43.5,-547.5 177.5,-547.5 177.5,-511.5 43.5,-511.5\" stroke=\"#000000\"/>\n",
       "<text fill=\"#000000\" font-family=\"Times,serif\" font-size=\"14.00\" text-anchor=\"middle\" x=\"110.5\" y=\"-525.8\">dropout_1: Dropout</text>\n",
       "</g>\n",
       "<!-- 140179997485432&#45;&gt;140181446928312 -->\n",
       "<g class=\"edge\" id=\"edge3\">\n",
       "<title>140179997485432-&gt;140181446928312</title>\n",
       "<path d=\"M110.5,-584.4551C110.5,-576.3828 110.5,-566.6764 110.5,-557.6817\" fill=\"none\" stroke=\"#000000\"/>\n",
       "<polygon fill=\"#000000\" points=\"114.0001,-557.5903 110.5,-547.5904 107.0001,-557.5904 114.0001,-557.5903\" stroke=\"#000000\"/>\n",
       "</g>\n",
       "<!-- 140179997483192 -->\n",
       "<g class=\"node\" id=\"node5\">\n",
       "<title>140179997483192</title>\n",
       "<polygon fill=\"none\" points=\"44,-438.5 44,-474.5 177,-474.5 177,-438.5 44,-438.5\" stroke=\"#000000\"/>\n",
       "<text fill=\"#000000\" font-family=\"Times,serif\" font-size=\"14.00\" text-anchor=\"middle\" x=\"110.5\" y=\"-452.8\">conv2d_2: Conv2D</text>\n",
       "</g>\n",
       "<!-- 140181446928312&#45;&gt;140179997483192 -->\n",
       "<g class=\"edge\" id=\"edge4\">\n",
       "<title>140181446928312-&gt;140179997483192</title>\n",
       "<path d=\"M110.5,-511.4551C110.5,-503.3828 110.5,-493.6764 110.5,-484.6817\" fill=\"none\" stroke=\"#000000\"/>\n",
       "<polygon fill=\"#000000\" points=\"114.0001,-484.5903 110.5,-474.5904 107.0001,-484.5904 114.0001,-484.5903\" stroke=\"#000000\"/>\n",
       "</g>\n",
       "<!-- 140179997674912 -->\n",
       "<g class=\"node\" id=\"node6\">\n",
       "<title>140179997674912</title>\n",
       "<polygon fill=\"none\" points=\"0,-365.5 0,-401.5 221,-401.5 221,-365.5 0,-365.5\" stroke=\"#000000\"/>\n",
       "<text fill=\"#000000\" font-family=\"Times,serif\" font-size=\"14.00\" text-anchor=\"middle\" x=\"110.5\" y=\"-379.8\">max_pooling2d_2: MaxPooling2D</text>\n",
       "</g>\n",
       "<!-- 140179997483192&#45;&gt;140179997674912 -->\n",
       "<g class=\"edge\" id=\"edge5\">\n",
       "<title>140179997483192-&gt;140179997674912</title>\n",
       "<path d=\"M110.5,-438.4551C110.5,-430.3828 110.5,-420.6764 110.5,-411.6817\" fill=\"none\" stroke=\"#000000\"/>\n",
       "<polygon fill=\"#000000\" points=\"114.0001,-411.5903 110.5,-401.5904 107.0001,-411.5904 114.0001,-411.5903\" stroke=\"#000000\"/>\n",
       "</g>\n",
       "<!-- 140180002611328 -->\n",
       "<g class=\"node\" id=\"node7\">\n",
       "<title>140180002611328</title>\n",
       "<polygon fill=\"none\" points=\"54,-292.5 54,-328.5 167,-328.5 167,-292.5 54,-292.5\" stroke=\"#000000\"/>\n",
       "<text fill=\"#000000\" font-family=\"Times,serif\" font-size=\"14.00\" text-anchor=\"middle\" x=\"110.5\" y=\"-306.8\">flatten_1: Flatten</text>\n",
       "</g>\n",
       "<!-- 140179997674912&#45;&gt;140180002611328 -->\n",
       "<g class=\"edge\" id=\"edge6\">\n",
       "<title>140179997674912-&gt;140180002611328</title>\n",
       "<path d=\"M110.5,-365.4551C110.5,-357.3828 110.5,-347.6764 110.5,-338.6817\" fill=\"none\" stroke=\"#000000\"/>\n",
       "<polygon fill=\"#000000\" points=\"114.0001,-338.5903 110.5,-328.5904 107.0001,-338.5904 114.0001,-338.5903\" stroke=\"#000000\"/>\n",
       "</g>\n",
       "<!-- 140179988953072 -->\n",
       "<g class=\"node\" id=\"node8\">\n",
       "<title>140179988953072</title>\n",
       "<polygon fill=\"none\" points=\"43.5,-219.5 43.5,-255.5 177.5,-255.5 177.5,-219.5 43.5,-219.5\" stroke=\"#000000\"/>\n",
       "<text fill=\"#000000\" font-family=\"Times,serif\" font-size=\"14.00\" text-anchor=\"middle\" x=\"110.5\" y=\"-233.8\">dropout_2: Dropout</text>\n",
       "</g>\n",
       "<!-- 140180002611328&#45;&gt;140179988953072 -->\n",
       "<g class=\"edge\" id=\"edge7\">\n",
       "<title>140180002611328-&gt;140179988953072</title>\n",
       "<path d=\"M110.5,-292.4551C110.5,-284.3828 110.5,-274.6764 110.5,-265.6817\" fill=\"none\" stroke=\"#000000\"/>\n",
       "<polygon fill=\"#000000\" points=\"114.0001,-265.5903 110.5,-255.5904 107.0001,-265.5904 114.0001,-265.5903\" stroke=\"#000000\"/>\n",
       "</g>\n",
       "<!-- 140179988954920 -->\n",
       "<g class=\"node\" id=\"node9\">\n",
       "<title>140179988954920</title>\n",
       "<polygon fill=\"none\" points=\"57,-146.5 57,-182.5 164,-182.5 164,-146.5 57,-146.5\" stroke=\"#000000\"/>\n",
       "<text fill=\"#000000\" font-family=\"Times,serif\" font-size=\"14.00\" text-anchor=\"middle\" x=\"110.5\" y=\"-160.8\">dense_1: Dense</text>\n",
       "</g>\n",
       "<!-- 140179988953072&#45;&gt;140179988954920 -->\n",
       "<g class=\"edge\" id=\"edge8\">\n",
       "<title>140179988953072-&gt;140179988954920</title>\n",
       "<path d=\"M110.5,-219.4551C110.5,-211.3828 110.5,-201.6764 110.5,-192.6817\" fill=\"none\" stroke=\"#000000\"/>\n",
       "<polygon fill=\"#000000\" points=\"114.0001,-192.5903 110.5,-182.5904 107.0001,-192.5904 114.0001,-192.5903\" stroke=\"#000000\"/>\n",
       "</g>\n",
       "<!-- 140179988969232 -->\n",
       "<g class=\"node\" id=\"node10\">\n",
       "<title>140179988969232</title>\n",
       "<polygon fill=\"none\" points=\"43.5,-73.5 43.5,-109.5 177.5,-109.5 177.5,-73.5 43.5,-73.5\" stroke=\"#000000\"/>\n",
       "<text fill=\"#000000\" font-family=\"Times,serif\" font-size=\"14.00\" text-anchor=\"middle\" x=\"110.5\" y=\"-87.8\">dropout_3: Dropout</text>\n",
       "</g>\n",
       "<!-- 140179988954920&#45;&gt;140179988969232 -->\n",
       "<g class=\"edge\" id=\"edge9\">\n",
       "<title>140179988954920-&gt;140179988969232</title>\n",
       "<path d=\"M110.5,-146.4551C110.5,-138.3828 110.5,-128.6764 110.5,-119.6817\" fill=\"none\" stroke=\"#000000\"/>\n",
       "<polygon fill=\"#000000\" points=\"114.0001,-119.5903 110.5,-109.5904 107.0001,-119.5904 114.0001,-119.5903\" stroke=\"#000000\"/>\n",
       "</g>\n",
       "<!-- 140179988514128 -->\n",
       "<g class=\"node\" id=\"node11\">\n",
       "<title>140179988514128</title>\n",
       "<polygon fill=\"none\" points=\"57,-.5 57,-36.5 164,-36.5 164,-.5 57,-.5\" stroke=\"#000000\"/>\n",
       "<text fill=\"#000000\" font-family=\"Times,serif\" font-size=\"14.00\" text-anchor=\"middle\" x=\"110.5\" y=\"-14.8\">dense_2: Dense</text>\n",
       "</g>\n",
       "<!-- 140179988969232&#45;&gt;140179988514128 -->\n",
       "<g class=\"edge\" id=\"edge10\">\n",
       "<title>140179988969232-&gt;140179988514128</title>\n",
       "<path d=\"M110.5,-73.4551C110.5,-65.3828 110.5,-55.6764 110.5,-46.6817\" fill=\"none\" stroke=\"#000000\"/>\n",
       "<polygon fill=\"#000000\" points=\"114.0001,-46.5903 110.5,-36.5904 107.0001,-46.5904 114.0001,-46.5903\" stroke=\"#000000\"/>\n",
       "</g>\n",
       "</g>\n",
       "</svg>"
      ],
      "text/plain": [
       "<IPython.core.display.SVG object>"
      ]
     },
     "execution_count": 6,
     "metadata": {
      "tags": []
     },
     "output_type": "execute_result"
    }
   ],
   "source": [
    "# 需要安裝(pip install pydotplus)\n",
    "from IPython.display import SVG\n",
    "from keras.utils.vis_utils import model_to_dot\n",
    "SVG(model_to_dot(model).create(prog='dot', format='svg'))"
   ]
  },
  {
   "cell_type": "code",
   "execution_count": 7,
   "metadata": {
    "colab": {
     "base_uri": "https://localhost:8080/",
     "height": 105
    },
    "colab_type": "code",
    "id": "j9LlvlBJpBJK",
    "outputId": "adc2b5d8-b86f-41f4-fb12-4c631df1091f"
   },
   "outputs": [
    {
     "name": "stdout",
     "output_type": "stream",
     "text": [
      "WARNING:tensorflow:From /usr/local/lib/python3.6/dist-packages/keras/optimizers.py:793: The name tf.train.Optimizer is deprecated. Please use tf.compat.v1.train.Optimizer instead.\n",
      "\n",
      "WARNING:tensorflow:From /usr/local/lib/python3.6/dist-packages/keras/backend/tensorflow_backend.py:3576: The name tf.log is deprecated. Please use tf.math.log instead.\n",
      "\n"
     ]
    }
   ],
   "source": [
    "model.compile(loss=\"categorical_crossentropy\",\n",
    "              optimizer = \"adam\",\n",
    "              metrics = ['accuracy'])"
   ]
  },
  {
   "cell_type": "code",
   "execution_count": 8,
   "metadata": {
    "colab": {
     "base_uri": "https://localhost:8080/",
     "height": 717
    },
    "colab_type": "code",
    "id": "wIeNXH2GpBJN",
    "outputId": "3d8545ed-f7a6-4d69-f146-508ea4ba2491"
   },
   "outputs": [
    {
     "name": "stdout",
     "output_type": "stream",
     "text": [
      "WARNING:tensorflow:From /usr/local/lib/python3.6/dist-packages/tensorflow_core/python/ops/math_grad.py:1424: where (from tensorflow.python.ops.array_ops) is deprecated and will be removed in a future version.\n",
      "Instructions for updating:\n",
      "Use tf.where in 2.0, which has the same broadcast rule as np.where\n",
      "WARNING:tensorflow:From /usr/local/lib/python3.6/dist-packages/keras/backend/tensorflow_backend.py:1033: The name tf.assign_add is deprecated. Please use tf.compat.v1.assign_add instead.\n",
      "\n",
      "WARNING:tensorflow:From /usr/local/lib/python3.6/dist-packages/keras/backend/tensorflow_backend.py:1020: The name tf.assign is deprecated. Please use tf.compat.v1.assign instead.\n",
      "\n",
      "WARNING:tensorflow:From /usr/local/lib/python3.6/dist-packages/keras/backend/tensorflow_backend.py:3005: The name tf.Session is deprecated. Please use tf.compat.v1.Session instead.\n",
      "\n",
      "Train on 45000 samples, validate on 5000 samples\n",
      "Epoch 1/10\n",
      "WARNING:tensorflow:From /usr/local/lib/python3.6/dist-packages/keras/backend/tensorflow_backend.py:190: The name tf.get_default_session is deprecated. Please use tf.compat.v1.get_default_session instead.\n",
      "\n",
      "WARNING:tensorflow:From /usr/local/lib/python3.6/dist-packages/keras/backend/tensorflow_backend.py:197: The name tf.ConfigProto is deprecated. Please use tf.compat.v1.ConfigProto instead.\n",
      "\n",
      "WARNING:tensorflow:From /usr/local/lib/python3.6/dist-packages/keras/backend/tensorflow_backend.py:207: The name tf.global_variables is deprecated. Please use tf.compat.v1.global_variables instead.\n",
      "\n",
      "WARNING:tensorflow:From /usr/local/lib/python3.6/dist-packages/keras/backend/tensorflow_backend.py:216: The name tf.is_variable_initialized is deprecated. Please use tf.compat.v1.is_variable_initialized instead.\n",
      "\n",
      "WARNING:tensorflow:From /usr/local/lib/python3.6/dist-packages/keras/backend/tensorflow_backend.py:223: The name tf.variables_initializer is deprecated. Please use tf.compat.v1.variables_initializer instead.\n",
      "\n",
      " - 17s - loss: 1.7027 - acc: 0.3800 - val_loss: 1.4376 - val_acc: 0.4960\n",
      "Epoch 2/10\n",
      " - 3s - loss: 1.3594 - acc: 0.5142 - val_loss: 1.1933 - val_acc: 0.5898\n",
      "Epoch 3/10\n",
      " - 3s - loss: 1.2177 - acc: 0.5628 - val_loss: 1.0699 - val_acc: 0.6300\n",
      "Epoch 4/10\n",
      " - 3s - loss: 1.1327 - acc: 0.6014 - val_loss: 1.0041 - val_acc: 0.6478\n",
      "Epoch 5/10\n",
      " - 3s - loss: 1.0612 - acc: 0.6249 - val_loss: 0.9394 - val_acc: 0.6722\n",
      "Epoch 6/10\n",
      " - 3s - loss: 1.0150 - acc: 0.6413 - val_loss: 0.9263 - val_acc: 0.6790\n",
      "Epoch 7/10\n",
      " - 3s - loss: 0.9780 - acc: 0.6561 - val_loss: 0.8884 - val_acc: 0.6926\n",
      "Epoch 8/10\n",
      " - 3s - loss: 0.9429 - acc: 0.6653 - val_loss: 0.8726 - val_acc: 0.7014\n",
      "Epoch 9/10\n",
      " - 3s - loss: 0.9104 - acc: 0.6764 - val_loss: 0.8382 - val_acc: 0.7102\n",
      "Epoch 10/10\n",
      " - 3s - loss: 0.8799 - acc: 0.6894 - val_loss: 0.8456 - val_acc: 0.7136\n"
     ]
    }
   ],
   "source": [
    "train_history = model.fit(x = x_train_shaped, y = y_train_cat,\n",
    "                          validation_split = 0.1,\n",
    "                          epochs = 10,\n",
    "                          batch_size = 128,\n",
    "                          verbose = 2)"
   ]
  },
  {
   "cell_type": "markdown",
   "metadata": {
    "colab_type": "text",
    "id": "zaYTWOlxpBJQ"
   },
   "source": [
    "## 4-繪圖(Non-Linear SVM)的決策邊界"
   ]
  },
  {
   "cell_type": "code",
   "execution_count": 9,
   "metadata": {
    "colab": {
     "base_uri": "https://localhost:8080/",
     "height": 298
    },
    "colab_type": "code",
    "id": "qN2DsIcRpBJR",
    "outputId": "35621b4c-ab55-4007-bea9-eb5987bf661c",
    "scrolled": true
   },
   "outputs": [
    {
     "data": {
      "text/plain": [
       "<matplotlib.legend.Legend at 0x7f7e3267b8d0>"
      ]
     },
     "execution_count": 9,
     "metadata": {
      "tags": []
     },
     "output_type": "execute_result"
    },
    {
     "data": {
      "image/png": "[encoded data removed]",
      "text/plain": [
       "<Figure size 432x288 with 1 Axes>"
      ]
     },
     "metadata": {
      "tags": []
     },
     "output_type": "display_data"
    }
   ],
   "source": [
    "plt.plot(train_history.history[\"loss\"])\n",
    "plt.plot(train_history.history[\"val_loss\"])\n",
    "plt.title(\"Loss Graph\")\n",
    "plt.legend(['loss', 'val_loss'], loc=\"upper left\")"
   ]
  },
  {
   "cell_type": "markdown",
   "metadata": {
    "colab_type": "text",
    "id": "8r-TR2IlpBJW"
   },
   "source": [
    "## 5-模型準確率分析"
   ]
  },
  {
   "cell_type": "code",
   "execution_count": 10,
   "metadata": {
    "colab": {
     "base_uri": "https://localhost:8080/",
     "height": 51
    },
    "colab_type": "code",
    "id": "_9yRKdNxpBJX",
    "outputId": "1be6c5c1-e082-4152-d7f0-5dc94dc28732"
   },
   "outputs": [
    {
     "name": "stdout",
     "output_type": "stream",
     "text": [
      "預測標籤: [3, 1, 8, 0, 6]\n",
      "正確標籤: [array([3]), array([8]), array([8]), array([0]), array([6])]\n"
     ]
    }
   ],
   "source": [
    "pre = model.predict_classes(x_test_shaped)\n",
    "print(\"預測標籤:\", list(pre[:5]))\n",
    "print(\"正確標籤:\", list(y_test)[:5])"
   ]
  },
  {
   "cell_type": "code",
   "execution_count": 11,
   "metadata": {
    "colab": {
     "base_uri": "https://localhost:8080/",
     "height": 68
    },
    "colab_type": "code",
    "id": "Ql0PpivNpBJa",
    "outputId": "b115a3be-e165-4088-fd4b-17dd63f6471c"
   },
   "outputs": [
    {
     "name": "stdout",
     "output_type": "stream",
     "text": [
      "10000/10000 [==============================] - 1s 70us/step\n",
      "衡量係數: [0.8593256529808044, 0.7031]\n",
      "正確率: 70.30999999999999 %\n"
     ]
    }
   ],
   "source": [
    "e = model.evaluate(x_test_shaped, y_test_cat)\n",
    "print(\"衡量係數:\", e)\n",
    "print(\"正確率:\", e[1] * 100, \"%\")"
   ]
  },
  {
   "cell_type": "markdown",
   "metadata": {
    "colab_type": "text",
    "id": "GZnaP1aJpBJd"
   },
   "source": [
    "# 6-保存模型"
   ]
  },
  {
   "cell_type": "code",
   "execution_count": 0,
   "metadata": {
    "colab": {},
    "colab_type": "code",
    "id": "ouOphPaEpBJe"
   },
   "outputs": [],
   "source": [
    "model.save('./models/cnn1.h5')"
   ]
  },
  {
   "cell_type": "code",
   "execution_count": 0,
   "metadata": {
    "colab": {},
    "colab_type": "code",
    "id": "Zym8q_tKpBJi"
   },
   "outputs": [],
   "source": []
  }
 ],
 "metadata": {
  "accelerator": "GPU",
  "colab": {
   "name": "13_SimpleCNN.ipynb",
   "provenance": []
  },
  "kernelspec": {
   "display_name": "Python 3",
   "language": "python",
   "name": "python3"
  },
  "language_info": {
   "codemirror_mode": {
    "name": "ipython",
    "version": 3
   },
   "file_extension": ".py",
   "mimetype": "text/x-python",
   "name": "python",
   "nbconvert_exporter": "python",
   "pygments_lexer": "ipython3",
   "version": "3.6.5"
  }
 },
 "nbformat": 4,
 "nbformat_minor": 1
}
