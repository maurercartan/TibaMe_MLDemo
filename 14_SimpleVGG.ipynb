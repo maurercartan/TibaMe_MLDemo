{
 "cells": [
  {
   "cell_type": "markdown",
   "metadata": {
    "colab_type": "text",
    "id": "AFLopNu_pBIo"
   },
   "source": [
    "# VGG-Net"
   ]
  },
  {
   "cell_type": "markdown",
   "metadata": {
    "colab_type": "text",
    "id": "O8mdx28HpBIt"
   },
   "source": [
    "## 1-加載 Library"
   ]
  },
  {
   "cell_type": "code",
   "execution_count": 1,
   "metadata": {
    "colab": {
     "base_uri": "https://localhost:8080/",
     "height": 97
    },
    "colab_type": "code",
    "id": "JVZOV6rspBIv",
    "outputId": "e7fd012d-36a5-4413-c021-eb13ed8e48a7",
    "scrolled": true
   },
   "outputs": [
    {
     "name": "stderr",
     "output_type": "stream",
     "text": [
      "Using TensorFlow backend.\n"
     ]
    },
    {
     "data": {
      "text/html": [
       "<p style=\"color: red;\">\n",
       "The default version of TensorFlow in Colab will soon switch to TensorFlow 2.x.<br>\n",
       "We recommend you <a href=\"https://www.tensorflow.org/guide/migrate\" target=\"_blank\">upgrade</a> now \n",
       "or ensure your notebook will continue to use TensorFlow 1.x via the <code>%tensorflow_version 1.x</code> magic:\n",
       "<a href=\"https://colab.research.google.com/notebooks/tensorflow_version.ipynb\" target=\"_blank\">more info</a>.</p>\n"
      ],
      "text/plain": [
       "<IPython.core.display.HTML object>"
      ]
     },
     "metadata": {
      "tags": []
     },
     "output_type": "display_data"
    }
   ],
   "source": [
    "from keras.datasets import cifar10\n",
    "import matplotlib.pyplot as plt\n",
    "import pandas as pd\n",
    "%matplotlib inline"
   ]
  },
  {
   "cell_type": "markdown",
   "metadata": {
    "colab_type": "text",
    "id": "ptwcmJ6UpBI0"
   },
   "source": [
    "## 2-數據集處理"
   ]
  },
  {
   "cell_type": "code",
   "execution_count": 2,
   "metadata": {
    "colab": {
     "base_uri": "https://localhost:8080/",
     "height": 51
    },
    "colab_type": "code",
    "id": "bvRr7KEtpBI1",
    "outputId": "50a0d9a1-6422-4eda-fe54-c8b0e3f1cd6f"
   },
   "outputs": [
    {
     "name": "stdout",
     "output_type": "stream",
     "text": [
      "Downloading data from https://www.cs.toronto.edu/~kriz/cifar-10-python.tar.gz\n",
      "170500096/170498071 [==============================] - 6s 0us/step\n"
     ]
    }
   ],
   "source": [
    "# 回傳值: ((訓練特徵, 訓練目標), (測試特徵, 測試目標))\n",
    "(x_train, y_train), (x_test, y_test) = cifar10.load_data()\n",
    "label = {0:\"飛機\", 1:\"車\", 2:\"鳥\", 3:\"貓\", 4:\"鹿\",5:\"狗\", 6:\"青蛙\", 7:\"馬\", 8:\"船\", 9:\"卡車\"}"
   ]
  },
  {
   "cell_type": "code",
   "execution_count": 3,
   "metadata": {
    "colab": {
     "base_uri": "https://localhost:8080/",
     "height": 300
    },
    "colab_type": "code",
    "id": "r4UQuF1BpBI5",
    "outputId": "4717e0db-f115-4aa5-d7b7-5c459be80520"
   },
   "outputs": [
    {
     "name": "stdout",
     "output_type": "stream",
     "text": [
      "圖片答案是 卡車\n"
     ]
    },
    {
     "data": {
      "text/plain": [
       "<matplotlib.image.AxesImage at 0x7f33edbcfc18>"
      ]
     },
     "execution_count": 3,
     "metadata": {
      "tags": []
     },
     "output_type": "execute_result"
    },
    {
     "data": {
      "image/png": "[encoded data removed]",
      "text/plain": [
       "<Figure size 432x288 with 1 Axes>"
      ]
     },
     "metadata": {
      "tags": []
     },
     "output_type": "display_data"
    }
   ],
   "source": [
    "a = 50\n",
    "print(\"圖片答案是\", label[y_train[a][0]])\n",
    "plt.imshow(x_train[a])"
   ]
  },
  {
   "cell_type": "code",
   "execution_count": 0,
   "metadata": {
    "colab": {},
    "colab_type": "code",
    "id": "JubSuPfFpBI-"
   },
   "outputs": [],
   "source": [
    "from keras.utils import np_utils\n",
    "x_train_shaped = x_train.astype(\"float32\") / 255\n",
    "x_test_shaped = x_test.astype(\"float32\") / 255\n",
    "y_train_cat = np_utils.to_categorical(y_train)\n",
    "y_test_cat = np_utils.to_categorical(y_test)"
   ]
  },
  {
   "cell_type": "markdown",
   "metadata": {
    "colab_type": "text",
    "id": "Chp5chG1pBJB"
   },
   "source": [
    "## 3-建立模型"
   ]
  },
  {
   "cell_type": "code",
   "execution_count": 6,
   "metadata": {
    "colab": {
     "base_uri": "https://localhost:8080/",
     "height": 938
    },
    "colab_type": "code",
    "id": "zNoL3g5_pBJD",
    "outputId": "f55e243e-e368-44ef-97a1-0e33bf746187",
    "scrolled": true
   },
   "outputs": [
    {
     "name": "stdout",
     "output_type": "stream",
     "text": [
      "WARNING:tensorflow:From /usr/local/lib/python3.6/dist-packages/keras/backend/tensorflow_backend.py:66: The name tf.get_default_graph is deprecated. Please use tf.compat.v1.get_default_graph instead.\n",
      "\n",
      "WARNING:tensorflow:From /usr/local/lib/python3.6/dist-packages/keras/backend/tensorflow_backend.py:541: The name tf.placeholder is deprecated. Please use tf.compat.v1.placeholder instead.\n",
      "\n",
      "WARNING:tensorflow:From /usr/local/lib/python3.6/dist-packages/keras/backend/tensorflow_backend.py:4432: The name tf.random_uniform is deprecated. Please use tf.random.uniform instead.\n",
      "\n",
      "WARNING:tensorflow:From /usr/local/lib/python3.6/dist-packages/keras/backend/tensorflow_backend.py:4267: The name tf.nn.max_pool is deprecated. Please use tf.nn.max_pool2d instead.\n",
      "\n",
      "WARNING:tensorflow:From /usr/local/lib/python3.6/dist-packages/keras/backend/tensorflow_backend.py:148: The name tf.placeholder_with_default is deprecated. Please use tf.compat.v1.placeholder_with_default instead.\n",
      "\n",
      "WARNING:tensorflow:From /usr/local/lib/python3.6/dist-packages/keras/backend/tensorflow_backend.py:3733: calling dropout (from tensorflow.python.ops.nn_ops) with keep_prob is deprecated and will be removed in a future version.\n",
      "Instructions for updating:\n",
      "Please use `rate` instead of `keep_prob`. Rate should be set to `rate = 1 - keep_prob`.\n",
      "Model: \"sequential_1\"\n",
      "_________________________________________________________________\n",
      "Layer (type)                 Output Shape              Param #   \n",
      "=================================================================\n",
      "conv2d_1 (Conv2D)            (None, 32, 32, 64)        1792      \n",
      "_________________________________________________________________\n",
      "conv2d_2 (Conv2D)            (None, 32, 32, 64)        36928     \n",
      "_________________________________________________________________\n",
      "max_pooling2d_1 (MaxPooling2 (None, 16, 16, 64)        0         \n",
      "_________________________________________________________________\n",
      "dropout_1 (Dropout)          (None, 16, 16, 64)        0         \n",
      "_________________________________________________________________\n",
      "conv2d_3 (Conv2D)            (None, 16, 16, 128)       73856     \n",
      "_________________________________________________________________\n",
      "conv2d_4 (Conv2D)            (None, 16, 16, 128)       147584    \n",
      "_________________________________________________________________\n",
      "max_pooling2d_2 (MaxPooling2 (None, 8, 8, 128)         0         \n",
      "_________________________________________________________________\n",
      "dropout_2 (Dropout)          (None, 8, 8, 128)         0         \n",
      "_________________________________________________________________\n",
      "conv2d_5 (Conv2D)            (None, 8, 8, 256)         295168    \n",
      "_________________________________________________________________\n",
      "conv2d_6 (Conv2D)            (None, 8, 8, 256)         590080    \n",
      "_________________________________________________________________\n",
      "max_pooling2d_3 (MaxPooling2 (None, 4, 4, 256)         0         \n",
      "_________________________________________________________________\n",
      "flatten_1 (Flatten)          (None, 4096)              0         \n",
      "_________________________________________________________________\n",
      "dropout_3 (Dropout)          (None, 4096)              0         \n",
      "_________________________________________________________________\n",
      "dense_1 (Dense)              (None, 1024)              4195328   \n",
      "_________________________________________________________________\n",
      "dropout_4 (Dropout)          (None, 1024)              0         \n",
      "_________________________________________________________________\n",
      "dense_2 (Dense)              (None, 10)                10250     \n",
      "=================================================================\n",
      "Total params: 5,350,986\n",
      "Trainable params: 5,350,986\n",
      "Non-trainable params: 0\n",
      "_________________________________________________________________\n"
     ]
    }
   ],
   "source": [
    "from keras.models import Sequential\n",
    "from keras.layers import Dense, Dropout, Activation, Flatten\n",
    "from keras.layers import Conv2D, MaxPooling2D, ZeroPadding2D\n",
    "model = Sequential()\n",
    "model.add(Conv2D(filters=64,\n",
    "                 kernel_size=(3, 3),\n",
    "                 input_shape=(32, 32, 3),\n",
    "                 activation='relu',\n",
    "                 padding='same'))\n",
    "model.add(Conv2D(filters=64,\n",
    "                 kernel_size=(3, 3),\n",
    "                 activation='relu',\n",
    "                 padding='same'))\n",
    "model.add(MaxPooling2D(pool_size=(2, 2)))\n",
    "model.add(Dropout(0.25))\n",
    "model.add(Conv2D(filters=128,\n",
    "                 kernel_size=(3, 3),\n",
    "                 activation='relu',\n",
    "                 padding='same'))\n",
    "model.add(Conv2D(filters=128,\n",
    "                 kernel_size=(3, 3),\n",
    "                 activation='relu',\n",
    "                 padding='same'))\n",
    "model.add(MaxPooling2D(pool_size=(2, 2)))\n",
    "model.add(Dropout(0.25))\n",
    "model.add(Conv2D(filters=256,\n",
    "                 kernel_size=(3, 3),\n",
    "                 activation='relu',\n",
    "                 padding='same'))\n",
    "model.add(Conv2D(filters=256,\n",
    "                 kernel_size=(3, 3),\n",
    "                 activation='relu',\n",
    "                 padding='same'))\n",
    "model.add(MaxPooling2D(pool_size=(2, 2)))\n",
    "model.add(Flatten())\n",
    "model.add(Dropout(rate=0.25))\n",
    "model.add(Dense(1024, activation='relu'))\n",
    "model.add(Dropout(rate=0.25))\n",
    "model.add(Dense(10, activation='softmax'))\n",
    "model.summary()"
   ]
  },
  {
   "cell_type": "code",
   "execution_count": 8,
   "metadata": {
    "colab": {
     "base_uri": "https://localhost:8080/",
     "height": 1000
    },
    "colab_type": "code",
    "id": "TMh9q4J0pBJH",
    "outputId": "224a9aeb-4930-4d62-86a1-e914e8112db0"
   },
   "outputs": [
    {
     "data": {
      "image/svg+xml": [
       "<svg height=\"1617pt\" viewBox=\"0.00 0.00 229.00 1213.00\" width=\"305pt\" xmlns=\"http://www.w3.org/2000/svg\" xmlns:xlink=\"http://www.w3.org/1999/xlink\">\n",
       "<g class=\"graph\" id=\"graph0\" transform=\"scale(1.3333 1.3333) rotate(0) translate(4 1209)\">\n",
       "<title>G</title>\n",
       "<polygon fill=\"#ffffff\" points=\"-4,4 -4,-1209 225,-1209 225,4 -4,4\" stroke=\"transparent\"/>\n",
       "<!-- 139861003514264 -->\n",
       "<g class=\"node\" id=\"node1\">\n",
       "<title>139861003514264</title>\n",
       "<polygon fill=\"none\" points=\"18.5,-1168.5 18.5,-1204.5 202.5,-1204.5 202.5,-1168.5 18.5,-1168.5\" stroke=\"#000000\"/>\n",
       "<text fill=\"#000000\" font-family=\"Times,serif\" font-size=\"14.00\" text-anchor=\"middle\" x=\"110.5\" y=\"-1182.8\">conv2d_1_input: InputLayer</text>\n",
       "</g>\n",
       "<!-- 139861003525816 -->\n",
       "<g class=\"node\" id=\"node2\">\n",
       "<title>139861003525816</title>\n",
       "<polygon fill=\"none\" points=\"44,-1095.5 44,-1131.5 177,-1131.5 177,-1095.5 44,-1095.5\" stroke=\"#000000\"/>\n",
       "<text fill=\"#000000\" font-family=\"Times,serif\" font-size=\"14.00\" text-anchor=\"middle\" x=\"110.5\" y=\"-1109.8\">conv2d_1: Conv2D</text>\n",
       "</g>\n",
       "<!-- 139861003514264&#45;&gt;139861003525816 -->\n",
       "<g class=\"edge\" id=\"edge1\">\n",
       "<title>139861003514264-&gt;139861003525816</title>\n",
       "<path d=\"M110.5,-1168.4551C110.5,-1160.3828 110.5,-1150.6764 110.5,-1141.6817\" fill=\"none\" stroke=\"#000000\"/>\n",
       "<polygon fill=\"#000000\" points=\"114.0001,-1141.5903 110.5,-1131.5904 107.0001,-1141.5904 114.0001,-1141.5903\" stroke=\"#000000\"/>\n",
       "</g>\n",
       "<!-- 139861003525984 -->\n",
       "<g class=\"node\" id=\"node3\">\n",
       "<title>139861003525984</title>\n",
       "<polygon fill=\"none\" points=\"44,-1022.5 44,-1058.5 177,-1058.5 177,-1022.5 44,-1022.5\" stroke=\"#000000\"/>\n",
       "<text fill=\"#000000\" font-family=\"Times,serif\" font-size=\"14.00\" text-anchor=\"middle\" x=\"110.5\" y=\"-1036.8\">conv2d_2: Conv2D</text>\n",
       "</g>\n",
       "<!-- 139861003525816&#45;&gt;139861003525984 -->\n",
       "<g class=\"edge\" id=\"edge2\">\n",
       "<title>139861003525816-&gt;139861003525984</title>\n",
       "<path d=\"M110.5,-1095.4551C110.5,-1087.3828 110.5,-1077.6764 110.5,-1068.6817\" fill=\"none\" stroke=\"#000000\"/>\n",
       "<polygon fill=\"#000000\" points=\"114.0001,-1068.5903 110.5,-1058.5904 107.0001,-1068.5904 114.0001,-1068.5903\" stroke=\"#000000\"/>\n",
       "</g>\n",
       "<!-- 139860764200408 -->\n",
       "<g class=\"node\" id=\"node4\">\n",
       "<title>139860764200408</title>\n",
       "<polygon fill=\"none\" points=\"0,-949.5 0,-985.5 221,-985.5 221,-949.5 0,-949.5\" stroke=\"#000000\"/>\n",
       "<text fill=\"#000000\" font-family=\"Times,serif\" font-size=\"14.00\" text-anchor=\"middle\" x=\"110.5\" y=\"-963.8\">max_pooling2d_1: MaxPooling2D</text>\n",
       "</g>\n",
       "<!-- 139861003525984&#45;&gt;139860764200408 -->\n",
       "<g class=\"edge\" id=\"edge3\">\n",
       "<title>139861003525984-&gt;139860764200408</title>\n",
       "<path d=\"M110.5,-1022.4551C110.5,-1014.3828 110.5,-1004.6764 110.5,-995.6817\" fill=\"none\" stroke=\"#000000\"/>\n",
       "<polygon fill=\"#000000\" points=\"114.0001,-995.5903 110.5,-985.5904 107.0001,-995.5904 114.0001,-995.5903\" stroke=\"#000000\"/>\n",
       "</g>\n",
       "<!-- 139861003514712 -->\n",
       "<g class=\"node\" id=\"node5\">\n",
       "<title>139861003514712</title>\n",
       "<polygon fill=\"none\" points=\"43.5,-876.5 43.5,-912.5 177.5,-912.5 177.5,-876.5 43.5,-876.5\" stroke=\"#000000\"/>\n",
       "<text fill=\"#000000\" font-family=\"Times,serif\" font-size=\"14.00\" text-anchor=\"middle\" x=\"110.5\" y=\"-890.8\">dropout_1: Dropout</text>\n",
       "</g>\n",
       "<!-- 139860764200408&#45;&gt;139861003514712 -->\n",
       "<g class=\"edge\" id=\"edge4\">\n",
       "<title>139860764200408-&gt;139861003514712</title>\n",
       "<path d=\"M110.5,-949.4551C110.5,-941.3828 110.5,-931.6764 110.5,-922.6817\" fill=\"none\" stroke=\"#000000\"/>\n",
       "<polygon fill=\"#000000\" points=\"114.0001,-922.5903 110.5,-912.5904 107.0001,-922.5904 114.0001,-922.5903\" stroke=\"#000000\"/>\n",
       "</g>\n",
       "<!-- 139860764248496 -->\n",
       "<g class=\"node\" id=\"node6\">\n",
       "<title>139860764248496</title>\n",
       "<polygon fill=\"none\" points=\"44,-803.5 44,-839.5 177,-839.5 177,-803.5 44,-803.5\" stroke=\"#000000\"/>\n",
       "<text fill=\"#000000\" font-family=\"Times,serif\" font-size=\"14.00\" text-anchor=\"middle\" x=\"110.5\" y=\"-817.8\">conv2d_3: Conv2D</text>\n",
       "</g>\n",
       "<!-- 139861003514712&#45;&gt;139860764248496 -->\n",
       "<g class=\"edge\" id=\"edge5\">\n",
       "<title>139861003514712-&gt;139860764248496</title>\n",
       "<path d=\"M110.5,-876.4551C110.5,-868.3828 110.5,-858.6764 110.5,-849.6817\" fill=\"none\" stroke=\"#000000\"/>\n",
       "<polygon fill=\"#000000\" points=\"114.0001,-849.5903 110.5,-839.5904 107.0001,-849.5904 114.0001,-849.5903\" stroke=\"#000000\"/>\n",
       "</g>\n",
       "<!-- 139860764197160 -->\n",
       "<g class=\"node\" id=\"node7\">\n",
       "<title>139860764197160</title>\n",
       "<polygon fill=\"none\" points=\"44,-730.5 44,-766.5 177,-766.5 177,-730.5 44,-730.5\" stroke=\"#000000\"/>\n",
       "<text fill=\"#000000\" font-family=\"Times,serif\" font-size=\"14.00\" text-anchor=\"middle\" x=\"110.5\" y=\"-744.8\">conv2d_4: Conv2D</text>\n",
       "</g>\n",
       "<!-- 139860764248496&#45;&gt;139860764197160 -->\n",
       "<g class=\"edge\" id=\"edge6\">\n",
       "<title>139860764248496-&gt;139860764197160</title>\n",
       "<path d=\"M110.5,-803.4551C110.5,-795.3828 110.5,-785.6764 110.5,-776.6817\" fill=\"none\" stroke=\"#000000\"/>\n",
       "<polygon fill=\"#000000\" points=\"114.0001,-776.5903 110.5,-766.5904 107.0001,-776.5904 114.0001,-776.5903\" stroke=\"#000000\"/>\n",
       "</g>\n",
       "<!-- 139860763906232 -->\n",
       "<g class=\"node\" id=\"node8\">\n",
       "<title>139860763906232</title>\n",
       "<polygon fill=\"none\" points=\"0,-657.5 0,-693.5 221,-693.5 221,-657.5 0,-657.5\" stroke=\"#000000\"/>\n",
       "<text fill=\"#000000\" font-family=\"Times,serif\" font-size=\"14.00\" text-anchor=\"middle\" x=\"110.5\" y=\"-671.8\">max_pooling2d_2: MaxPooling2D</text>\n",
       "</g>\n",
       "<!-- 139860764197160&#45;&gt;139860763906232 -->\n",
       "<g class=\"edge\" id=\"edge7\">\n",
       "<title>139860764197160-&gt;139860763906232</title>\n",
       "<path d=\"M110.5,-730.4551C110.5,-722.3828 110.5,-712.6764 110.5,-703.6817\" fill=\"none\" stroke=\"#000000\"/>\n",
       "<polygon fill=\"#000000\" points=\"114.0001,-703.5903 110.5,-693.5904 107.0001,-703.5904 114.0001,-703.5903\" stroke=\"#000000\"/>\n",
       "</g>\n",
       "<!-- 139860764290576 -->\n",
       "<g class=\"node\" id=\"node9\">\n",
       "<title>139860764290576</title>\n",
       "<polygon fill=\"none\" points=\"43.5,-584.5 43.5,-620.5 177.5,-620.5 177.5,-584.5 43.5,-584.5\" stroke=\"#000000\"/>\n",
       "<text fill=\"#000000\" font-family=\"Times,serif\" font-size=\"14.00\" text-anchor=\"middle\" x=\"110.5\" y=\"-598.8\">dropout_2: Dropout</text>\n",
       "</g>\n",
       "<!-- 139860763906232&#45;&gt;139860764290576 -->\n",
       "<g class=\"edge\" id=\"edge8\">\n",
       "<title>139860763906232-&gt;139860764290576</title>\n",
       "<path d=\"M110.5,-657.4551C110.5,-649.3828 110.5,-639.6764 110.5,-630.6817\" fill=\"none\" stroke=\"#000000\"/>\n",
       "<polygon fill=\"#000000\" points=\"114.0001,-630.5903 110.5,-620.5904 107.0001,-630.5904 114.0001,-630.5903\" stroke=\"#000000\"/>\n",
       "</g>\n",
       "<!-- 139860763943096 -->\n",
       "<g class=\"node\" id=\"node10\">\n",
       "<title>139860763943096</title>\n",
       "<polygon fill=\"none\" points=\"44,-511.5 44,-547.5 177,-547.5 177,-511.5 44,-511.5\" stroke=\"#000000\"/>\n",
       "<text fill=\"#000000\" font-family=\"Times,serif\" font-size=\"14.00\" text-anchor=\"middle\" x=\"110.5\" y=\"-525.8\">conv2d_5: Conv2D</text>\n",
       "</g>\n",
       "<!-- 139860764290576&#45;&gt;139860763943096 -->\n",
       "<g class=\"edge\" id=\"edge9\">\n",
       "<title>139860764290576-&gt;139860763943096</title>\n",
       "<path d=\"M110.5,-584.4551C110.5,-576.3828 110.5,-566.6764 110.5,-557.6817\" fill=\"none\" stroke=\"#000000\"/>\n",
       "<polygon fill=\"#000000\" points=\"114.0001,-557.5903 110.5,-547.5904 107.0001,-557.5904 114.0001,-557.5903\" stroke=\"#000000\"/>\n",
       "</g>\n",
       "<!-- 139860763884232 -->\n",
       "<g class=\"node\" id=\"node11\">\n",
       "<title>139860763884232</title>\n",
       "<polygon fill=\"none\" points=\"44,-438.5 44,-474.5 177,-474.5 177,-438.5 44,-438.5\" stroke=\"#000000\"/>\n",
       "<text fill=\"#000000\" font-family=\"Times,serif\" font-size=\"14.00\" text-anchor=\"middle\" x=\"110.5\" y=\"-452.8\">conv2d_6: Conv2D</text>\n",
       "</g>\n",
       "<!-- 139860763943096&#45;&gt;139860763884232 -->\n",
       "<g class=\"edge\" id=\"edge10\">\n",
       "<title>139860763943096-&gt;139860763884232</title>\n",
       "<path d=\"M110.5,-511.4551C110.5,-503.3828 110.5,-493.6764 110.5,-484.6817\" fill=\"none\" stroke=\"#000000\"/>\n",
       "<polygon fill=\"#000000\" points=\"114.0001,-484.5903 110.5,-474.5904 107.0001,-484.5904 114.0001,-484.5903\" stroke=\"#000000\"/>\n",
       "</g>\n",
       "<!-- 139860764049816 -->\n",
       "<g class=\"node\" id=\"node12\">\n",
       "<title>139860764049816</title>\n",
       "<polygon fill=\"none\" points=\"0,-365.5 0,-401.5 221,-401.5 221,-365.5 0,-365.5\" stroke=\"#000000\"/>\n",
       "<text fill=\"#000000\" font-family=\"Times,serif\" font-size=\"14.00\" text-anchor=\"middle\" x=\"110.5\" y=\"-379.8\">max_pooling2d_3: MaxPooling2D</text>\n",
       "</g>\n",
       "<!-- 139860763884232&#45;&gt;139860764049816 -->\n",
       "<g class=\"edge\" id=\"edge11\">\n",
       "<title>139860763884232-&gt;139860764049816</title>\n",
       "<path d=\"M110.5,-438.4551C110.5,-430.3828 110.5,-420.6764 110.5,-411.6817\" fill=\"none\" stroke=\"#000000\"/>\n",
       "<polygon fill=\"#000000\" points=\"114.0001,-411.5903 110.5,-401.5904 107.0001,-411.5904 114.0001,-411.5903\" stroke=\"#000000\"/>\n",
       "</g>\n",
       "<!-- 139860763966936 -->\n",
       "<g class=\"node\" id=\"node13\">\n",
       "<title>139860763966936</title>\n",
       "<polygon fill=\"none\" points=\"54,-292.5 54,-328.5 167,-328.5 167,-292.5 54,-292.5\" stroke=\"#000000\"/>\n",
       "<text fill=\"#000000\" font-family=\"Times,serif\" font-size=\"14.00\" text-anchor=\"middle\" x=\"110.5\" y=\"-306.8\">flatten_1: Flatten</text>\n",
       "</g>\n",
       "<!-- 139860764049816&#45;&gt;139860763966936 -->\n",
       "<g class=\"edge\" id=\"edge12\">\n",
       "<title>139860764049816-&gt;139860763966936</title>\n",
       "<path d=\"M110.5,-365.4551C110.5,-357.3828 110.5,-347.6764 110.5,-338.6817\" fill=\"none\" stroke=\"#000000\"/>\n",
       "<polygon fill=\"#000000\" points=\"114.0001,-338.5903 110.5,-328.5904 107.0001,-338.5904 114.0001,-338.5903\" stroke=\"#000000\"/>\n",
       "</g>\n",
       "<!-- 139860764079552 -->\n",
       "<g class=\"node\" id=\"node14\">\n",
       "<title>139860764079552</title>\n",
       "<polygon fill=\"none\" points=\"43.5,-219.5 43.5,-255.5 177.5,-255.5 177.5,-219.5 43.5,-219.5\" stroke=\"#000000\"/>\n",
       "<text fill=\"#000000\" font-family=\"Times,serif\" font-size=\"14.00\" text-anchor=\"middle\" x=\"110.5\" y=\"-233.8\">dropout_3: Dropout</text>\n",
       "</g>\n",
       "<!-- 139860763966936&#45;&gt;139860764079552 -->\n",
       "<g class=\"edge\" id=\"edge13\">\n",
       "<title>139860763966936-&gt;139860764079552</title>\n",
       "<path d=\"M110.5,-292.4551C110.5,-284.3828 110.5,-274.6764 110.5,-265.6817\" fill=\"none\" stroke=\"#000000\"/>\n",
       "<polygon fill=\"#000000\" points=\"114.0001,-265.5903 110.5,-255.5904 107.0001,-265.5904 114.0001,-265.5903\" stroke=\"#000000\"/>\n",
       "</g>\n",
       "<!-- 139860764080168 -->\n",
       "<g class=\"node\" id=\"node15\">\n",
       "<title>139860764080168</title>\n",
       "<polygon fill=\"none\" points=\"57,-146.5 57,-182.5 164,-182.5 164,-146.5 57,-146.5\" stroke=\"#000000\"/>\n",
       "<text fill=\"#000000\" font-family=\"Times,serif\" font-size=\"14.00\" text-anchor=\"middle\" x=\"110.5\" y=\"-160.8\">dense_1: Dense</text>\n",
       "</g>\n",
       "<!-- 139860764079552&#45;&gt;139860764080168 -->\n",
       "<g class=\"edge\" id=\"edge14\">\n",
       "<title>139860764079552-&gt;139860764080168</title>\n",
       "<path d=\"M110.5,-219.4551C110.5,-211.3828 110.5,-201.6764 110.5,-192.6817\" fill=\"none\" stroke=\"#000000\"/>\n",
       "<polygon fill=\"#000000\" points=\"114.0001,-192.5903 110.5,-182.5904 107.0001,-192.5904 114.0001,-192.5903\" stroke=\"#000000\"/>\n",
       "</g>\n",
       "<!-- 139860764114112 -->\n",
       "<g class=\"node\" id=\"node16\">\n",
       "<title>139860764114112</title>\n",
       "<polygon fill=\"none\" points=\"43.5,-73.5 43.5,-109.5 177.5,-109.5 177.5,-73.5 43.5,-73.5\" stroke=\"#000000\"/>\n",
       "<text fill=\"#000000\" font-family=\"Times,serif\" font-size=\"14.00\" text-anchor=\"middle\" x=\"110.5\" y=\"-87.8\">dropout_4: Dropout</text>\n",
       "</g>\n",
       "<!-- 139860764080168&#45;&gt;139860764114112 -->\n",
       "<g class=\"edge\" id=\"edge15\">\n",
       "<title>139860764080168-&gt;139860764114112</title>\n",
       "<path d=\"M110.5,-146.4551C110.5,-138.3828 110.5,-128.6764 110.5,-119.6817\" fill=\"none\" stroke=\"#000000\"/>\n",
       "<polygon fill=\"#000000\" points=\"114.0001,-119.5903 110.5,-109.5904 107.0001,-119.5904 114.0001,-119.5903\" stroke=\"#000000\"/>\n",
       "</g>\n",
       "<!-- 139860763642344 -->\n",
       "<g class=\"node\" id=\"node17\">\n",
       "<title>139860763642344</title>\n",
       "<polygon fill=\"none\" points=\"57,-.5 57,-36.5 164,-36.5 164,-.5 57,-.5\" stroke=\"#000000\"/>\n",
       "<text fill=\"#000000\" font-family=\"Times,serif\" font-size=\"14.00\" text-anchor=\"middle\" x=\"110.5\" y=\"-14.8\">dense_2: Dense</text>\n",
       "</g>\n",
       "<!-- 139860764114112&#45;&gt;139860763642344 -->\n",
       "<g class=\"edge\" id=\"edge16\">\n",
       "<title>139860764114112-&gt;139860763642344</title>\n",
       "<path d=\"M110.5,-73.4551C110.5,-65.3828 110.5,-55.6764 110.5,-46.6817\" fill=\"none\" stroke=\"#000000\"/>\n",
       "<polygon fill=\"#000000\" points=\"114.0001,-46.5903 110.5,-36.5904 107.0001,-46.5904 114.0001,-46.5903\" stroke=\"#000000\"/>\n",
       "</g>\n",
       "</g>\n",
       "</svg>"
      ],
      "text/plain": [
       "<IPython.core.display.SVG object>"
      ]
     },
     "execution_count": 8,
     "metadata": {
      "tags": []
     },
     "output_type": "execute_result"
    }
   ],
   "source": [
    "# 需要安裝(pip install pydotplus)\n",
    "from IPython.display import SVG\n",
    "from keras.utils.vis_utils import model_to_dot\n",
    "SVG(model_to_dot(model).create(prog='dot', format='svg'))"
   ]
  },
  {
   "cell_type": "code",
   "execution_count": 9,
   "metadata": {
    "colab": {
     "base_uri": "https://localhost:8080/",
     "height": 105
    },
    "colab_type": "code",
    "id": "j9LlvlBJpBJK",
    "outputId": "bf962536-613c-4965-8a8d-fc8c5ee41356"
   },
   "outputs": [
    {
     "name": "stdout",
     "output_type": "stream",
     "text": [
      "WARNING:tensorflow:From /usr/local/lib/python3.6/dist-packages/keras/optimizers.py:793: The name tf.train.Optimizer is deprecated. Please use tf.compat.v1.train.Optimizer instead.\n",
      "\n",
      "WARNING:tensorflow:From /usr/local/lib/python3.6/dist-packages/keras/backend/tensorflow_backend.py:3576: The name tf.log is deprecated. Please use tf.math.log instead.\n",
      "\n"
     ]
    }
   ],
   "source": [
    "model.compile(loss=\"categorical_crossentropy\",\n",
    "              optimizer = \"adam\",\n",
    "              metrics = ['accuracy'])"
   ]
  },
  {
   "cell_type": "code",
   "execution_count": 10,
   "metadata": {
    "colab": {
     "base_uri": "https://localhost:8080/",
     "height": 1000
    },
    "colab_type": "code",
    "id": "wIeNXH2GpBJN",
    "outputId": "0c476b49-760d-4d61-d2a1-dbb343843f54"
   },
   "outputs": [
    {
     "name": "stdout",
     "output_type": "stream",
     "text": [
      "WARNING:tensorflow:From /usr/local/lib/python3.6/dist-packages/tensorflow_core/python/ops/math_grad.py:1424: where (from tensorflow.python.ops.array_ops) is deprecated and will be removed in a future version.\n",
      "Instructions for updating:\n",
      "Use tf.where in 2.0, which has the same broadcast rule as np.where\n",
      "WARNING:tensorflow:From /usr/local/lib/python3.6/dist-packages/keras/backend/tensorflow_backend.py:1033: The name tf.assign_add is deprecated. Please use tf.compat.v1.assign_add instead.\n",
      "\n",
      "WARNING:tensorflow:From /usr/local/lib/python3.6/dist-packages/keras/backend/tensorflow_backend.py:1020: The name tf.assign is deprecated. Please use tf.compat.v1.assign instead.\n",
      "\n",
      "WARNING:tensorflow:From /usr/local/lib/python3.6/dist-packages/keras/backend/tensorflow_backend.py:3005: The name tf.Session is deprecated. Please use tf.compat.v1.Session instead.\n",
      "\n",
      "Train on 45000 samples, validate on 5000 samples\n",
      "Epoch 1/25\n",
      "WARNING:tensorflow:From /usr/local/lib/python3.6/dist-packages/keras/backend/tensorflow_backend.py:190: The name tf.get_default_session is deprecated. Please use tf.compat.v1.get_default_session instead.\n",
      "\n",
      "WARNING:tensorflow:From /usr/local/lib/python3.6/dist-packages/keras/backend/tensorflow_backend.py:197: The name tf.ConfigProto is deprecated. Please use tf.compat.v1.ConfigProto instead.\n",
      "\n",
      "WARNING:tensorflow:From /usr/local/lib/python3.6/dist-packages/keras/backend/tensorflow_backend.py:207: The name tf.global_variables is deprecated. Please use tf.compat.v1.global_variables instead.\n",
      "\n",
      "WARNING:tensorflow:From /usr/local/lib/python3.6/dist-packages/keras/backend/tensorflow_backend.py:216: The name tf.is_variable_initialized is deprecated. Please use tf.compat.v1.is_variable_initialized instead.\n",
      "\n",
      "WARNING:tensorflow:From /usr/local/lib/python3.6/dist-packages/keras/backend/tensorflow_backend.py:223: The name tf.variables_initializer is deprecated. Please use tf.compat.v1.variables_initializer instead.\n",
      "\n",
      " - 38s - loss: 1.7612 - acc: 0.3432 - val_loss: 1.4324 - val_acc: 0.4836\n",
      "Epoch 2/25\n",
      " - 24s - loss: 1.2509 - acc: 0.5478 - val_loss: 1.0354 - val_acc: 0.6368\n",
      "Epoch 3/25\n",
      " - 24s - loss: 1.0210 - acc: 0.6350 - val_loss: 0.8853 - val_acc: 0.6900\n",
      "Epoch 4/25\n",
      " - 24s - loss: 0.8633 - acc: 0.6943 - val_loss: 0.7786 - val_acc: 0.7272\n",
      "Epoch 5/25\n",
      " - 24s - loss: 0.7473 - acc: 0.7363 - val_loss: 0.6663 - val_acc: 0.7692\n",
      "Epoch 6/25\n",
      " - 24s - loss: 0.6576 - acc: 0.7685 - val_loss: 0.6391 - val_acc: 0.7798\n",
      "Epoch 7/25\n",
      " - 24s - loss: 0.5809 - acc: 0.7932 - val_loss: 0.5891 - val_acc: 0.7966\n",
      "Epoch 8/25\n",
      " - 24s - loss: 0.5250 - acc: 0.8158 - val_loss: 0.5581 - val_acc: 0.8082\n",
      "Epoch 9/25\n",
      " - 24s - loss: 0.4680 - acc: 0.8358 - val_loss: 0.5653 - val_acc: 0.8104\n",
      "Epoch 10/25\n",
      " - 24s - loss: 0.4316 - acc: 0.8479 - val_loss: 0.5216 - val_acc: 0.8194\n",
      "Epoch 11/25\n",
      " - 24s - loss: 0.3985 - acc: 0.8570 - val_loss: 0.5212 - val_acc: 0.8286\n",
      "Epoch 12/25\n",
      " - 24s - loss: 0.3539 - acc: 0.8728 - val_loss: 0.5622 - val_acc: 0.8236\n",
      "Epoch 13/25\n",
      " - 24s - loss: 0.3256 - acc: 0.8827 - val_loss: 0.5455 - val_acc: 0.8302\n",
      "Epoch 14/25\n",
      " - 24s - loss: 0.2979 - acc: 0.8933 - val_loss: 0.5331 - val_acc: 0.8270\n",
      "Epoch 15/25\n",
      " - 24s - loss: 0.2749 - acc: 0.9038 - val_loss: 0.5676 - val_acc: 0.8276\n",
      "Epoch 16/25\n",
      " - 24s - loss: 0.2614 - acc: 0.9076 - val_loss: 0.5565 - val_acc: 0.8296\n",
      "Epoch 17/25\n",
      " - 24s - loss: 0.2357 - acc: 0.9159 - val_loss: 0.6139 - val_acc: 0.8170\n",
      "Epoch 18/25\n",
      " - 24s - loss: 0.2269 - acc: 0.9187 - val_loss: 0.6208 - val_acc: 0.8268\n",
      "Epoch 19/25\n",
      " - 24s - loss: 0.2136 - acc: 0.9248 - val_loss: 0.6072 - val_acc: 0.8154\n",
      "Epoch 20/25\n",
      " - 24s - loss: 0.1909 - acc: 0.9311 - val_loss: 0.6495 - val_acc: 0.8234\n",
      "Epoch 21/25\n",
      " - 24s - loss: 0.1876 - acc: 0.9332 - val_loss: 0.6039 - val_acc: 0.8330\n",
      "Epoch 22/25\n",
      " - 24s - loss: 0.1832 - acc: 0.9355 - val_loss: 0.6208 - val_acc: 0.8320\n",
      "Epoch 23/25\n",
      " - 24s - loss: 0.1699 - acc: 0.9405 - val_loss: 0.6589 - val_acc: 0.8316\n",
      "Epoch 24/25\n",
      " - 24s - loss: 0.1660 - acc: 0.9408 - val_loss: 0.6182 - val_acc: 0.8342\n",
      "Epoch 25/25\n",
      " - 24s - loss: 0.1628 - acc: 0.9429 - val_loss: 0.6110 - val_acc: 0.8356\n"
     ]
    }
   ],
   "source": [
    "train_history = model.fit(x = x_train_shaped, y = y_train_cat,\n",
    "                          validation_split = 0.1,\n",
    "                          epochs = 25,\n",
    "                          batch_size = 200,\n",
    "                          verbose = 2)"
   ]
  },
  {
   "cell_type": "markdown",
   "metadata": {
    "colab_type": "text",
    "id": "zaYTWOlxpBJQ"
   },
   "source": [
    "## 4-繪圖(Non-Linear SVM)的決策邊界"
   ]
  },
  {
   "cell_type": "code",
   "execution_count": 11,
   "metadata": {
    "colab": {
     "base_uri": "https://localhost:8080/",
     "height": 298
    },
    "colab_type": "code",
    "id": "qN2DsIcRpBJR",
    "outputId": "0160668d-f8ac-476e-fa68-9112b62e311d",
    "scrolled": true
   },
   "outputs": [
    {
     "data": {
      "text/plain": [
       "<matplotlib.legend.Legend at 0x7f33d038eb00>"
      ]
     },
     "execution_count": 11,
     "metadata": {
      "tags": []
     },
     "output_type": "execute_result"
    },
    {
     "data": {
      "image/png": "[encoded data removed]",
      "text/plain": [
       "<Figure size 432x288 with 1 Axes>"
      ]
     },
     "metadata": {
      "tags": []
     },
     "output_type": "display_data"
    }
   ],
   "source": [
    "plt.plot(train_history.history[\"loss\"])\n",
    "plt.plot(train_history.history[\"val_loss\"])\n",
    "plt.title(\"Loss Graph\")\n",
    "plt.legend(['loss', 'val_loss'], loc=\"upper left\")"
   ]
  },
  {
   "cell_type": "markdown",
   "metadata": {
    "colab_type": "text",
    "id": "8r-TR2IlpBJW"
   },
   "source": [
    "## 5-模型準確率分析"
   ]
  },
  {
   "cell_type": "code",
   "execution_count": 12,
   "metadata": {
    "colab": {
     "base_uri": "https://localhost:8080/",
     "height": 51
    },
    "colab_type": "code",
    "id": "_9yRKdNxpBJX",
    "outputId": "2497602f-e282-4cca-a16d-1c85527d1bf5"
   },
   "outputs": [
    {
     "name": "stdout",
     "output_type": "stream",
     "text": [
      "預測標籤: [5, 8, 8, 0, 6]\n",
      "正確標籤: [array([3]), array([8]), array([8]), array([0]), array([6])]\n"
     ]
    }
   ],
   "source": [
    "pre = model.predict_classes(x_test_shaped)\n",
    "print(\"預測標籤:\", list(pre[:5]))\n",
    "print(\"正確標籤:\", list(y_test)[:5])"
   ]
  },
  {
   "cell_type": "code",
   "execution_count": 13,
   "metadata": {
    "colab": {
     "base_uri": "https://localhost:8080/",
     "height": 68
    },
    "colab_type": "code",
    "id": "Ql0PpivNpBJa",
    "outputId": "b569d57b-792d-45cb-c76a-acaf73050fd3"
   },
   "outputs": [
    {
     "name": "stdout",
     "output_type": "stream",
     "text": [
      "10000/10000 [==============================] - 3s 284us/step\n",
      "衡量係數: [0.6753421170949936, 0.8227]\n",
      "正確率: 82.27 %\n"
     ]
    }
   ],
   "source": [
    "e = model.evaluate(x_test_shaped, y_test_cat)\n",
    "print(\"衡量係數:\", e)\n",
    "print(\"正確率:\", e[1] * 100, \"%\")"
   ]
  },
  {
   "cell_type": "markdown",
   "metadata": {
    "colab_type": "text",
    "id": "GZnaP1aJpBJd"
   },
   "source": [
    "# 6-保存模型"
   ]
  },
  {
   "cell_type": "code",
   "execution_count": 0,
   "metadata": {
    "colab": {},
    "colab_type": "code",
    "id": "ouOphPaEpBJe"
   },
   "outputs": [],
   "source": [
    "model.save('./models/vgg.h5')"
   ]
  },
  {
   "cell_type": "code",
   "execution_count": 0,
   "metadata": {
    "colab": {},
    "colab_type": "code",
    "id": "Zym8q_tKpBJi"
   },
   "outputs": [],
   "source": []
  }
 ],
 "metadata": {
  "accelerator": "GPU",
  "colab": {
   "name": "14_SimpleVGG.ipynb",
   "provenance": [],
   "toc_visible": true
  },
  "kernelspec": {
   "display_name": "Python 3",
   "language": "python",
   "name": "python3"
  },
  "language_info": {
   "codemirror_mode": {
    "name": "ipython",
    "version": 3
   },
   "file_extension": ".py",
   "mimetype": "text/x-python",
   "name": "python",
   "nbconvert_exporter": "python",
   "pygments_lexer": "ipython3",
   "version": "3.6.5"
  }
 },
 "nbformat": 4,
 "nbformat_minor": 1
}
