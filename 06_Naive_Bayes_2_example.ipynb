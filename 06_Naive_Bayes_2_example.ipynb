{
 "cells": [
  {
   "cell_type": "markdown",
   "metadata": {},
   "source": [
    "# 作業:新聞分類"
   ]
  },
  {
   "cell_type": "code",
   "execution_count": 1,
   "metadata": {
    "collapsed": true
   },
   "outputs": [
    {
     "name": "stdout",
     "output_type": "stream",
     "text": [
      "【 日  期 】19960104\n",
      "【 版  號 】1\n",
      "【 標  題 】合巢蕪高速公路巢蕪段竣工\n",
      "【 作  者 】彭建中\n",
      "【 正  文 】\n",
      "    安徽合（肥）巢（湖）蕪（湖）高速公路巢蕪段日前竣工通車並投入營運。合巢蕪\n",
      "高速公路是國家規劃的京福綜合運輸網的重要幹線路段，是交通部確定１９９５年建成\n",
      "的全國１０條重點公路之一。該條高速公路正線長８８公里。（彭建中）\n",
      "    \n",
      "    \n",
      "    \n",
      "    \n",
      "\n",
      "交通\n"
     ]
    },
    {
     "data": {
      "text/html": [
       "<div>\n",
       "<style scoped>\n",
       "    .dataframe tbody tr th:only-of-type {\n",
       "        vertical-align: middle;\n",
       "    }\n",
       "\n",
       "    .dataframe tbody tr th {\n",
       "        vertical-align: top;\n",
       "    }\n",
       "\n",
       "    .dataframe thead th {\n",
       "        text-align: right;\n",
       "    }\n",
       "</style>\n",
       "<table border=\"1\" class=\"dataframe\">\n",
       "  <thead>\n",
       "    <tr style=\"text-align: right;\">\n",
       "      <th></th>\n",
       "      <th>contents</th>\n",
       "      <th>ans</th>\n",
       "    </tr>\n",
       "  </thead>\n",
       "  <tbody>\n",
       "    <tr>\n",
       "      <th>0</th>\n",
       "      <td>【 日  期 】19960104\\n【 版  號 】1\\n【 標  題 】合巢蕪高速公路巢蕪...</td>\n",
       "      <td>交通</td>\n",
       "    </tr>\n",
       "    <tr>\n",
       "      <th>1</th>\n",
       "      <td>【 日  期 】19960226\\n【 版  號 】5\\n【 標  題 】我首臺載人磁懸浮列...</td>\n",
       "      <td>交通</td>\n",
       "    </tr>\n",
       "    <tr>\n",
       "      <th>2</th>\n",
       "      <td>大秦鐵路萬噸列車試運成功\\n新華社北京５月２４日電（通訊員李忠民）大秦...</td>\n",
       "      <td>交通</td>\n",
       "    </tr>\n",
       "    <tr>\n",
       "      <th>3</th>\n",
       "      <td>遼寧省檯安縣村村都通柏油路鄉村公路建設全國數第\\n一\\n    (4)...</td>\n",
       "      <td>交通</td>\n",
       "    </tr>\n",
       "    <tr>\n",
       "      <th>4</th>\n",
       "      <td>北京—烏蘭巴托—莫斯料３／４次國際旅客列車通車\\n３０週年\\n    ...</td>\n",
       "      <td>交通</td>\n",
       "    </tr>\n",
       "    <tr>\n",
       "      <th>...</th>\n",
       "      <td>...</td>\n",
       "      <td>...</td>\n",
       "    </tr>\n",
       "    <tr>\n",
       "      <th>2632</th>\n",
       "      <td>馬玉芹破女子４００米跑全國青年紀錄\\n新華社鞍山５月１０日電（通訊員王...</td>\n",
       "      <td>體育</td>\n",
       "    </tr>\n",
       "    <tr>\n",
       "      <th>2633</th>\n",
       "      <td>國際奧委會中國臺北委員吳經國訪問北京\\n新華社北京５月１０日電記者《中...</td>\n",
       "      <td>體育</td>\n",
       "    </tr>\n",
       "    <tr>\n",
       "      <th>2634</th>\n",
       "      <td>亞奧理事會３９個成員組織全部以書面形式確認參加\\n第十一屆亞運會\\n ...</td>\n",
       "      <td>體育</td>\n",
       "    </tr>\n",
       "    <tr>\n",
       "      <th>2635</th>\n",
       "      <td>世界盃乒乓球團體賽男子團體採用新賽制\\n新華社北京５月１０日電（記者樑...</td>\n",
       "      <td>體育</td>\n",
       "    </tr>\n",
       "    <tr>\n",
       "      <th>2636</th>\n",
       "      <td>登頂隊員簡介\\n新華社珠穆朗瑪峰５月１０日電登頂隊員簡介\\n     ...</td>\n",
       "      <td>體育</td>\n",
       "    </tr>\n",
       "  </tbody>\n",
       "</table>\n",
       "<p>2637 rows × 2 columns</p>\n",
       "</div>"
      ],
      "text/plain": [
       "                                               contents ans\n",
       "0     【 日  期 】19960104\\n【 版  號 】1\\n【 標  題 】合巢蕪高速公路巢蕪...  交通\n",
       "1     【 日  期 】19960226\\n【 版  號 】5\\n【 標  題 】我首臺載人磁懸浮列...  交通\n",
       "2                大秦鐵路萬噸列車試運成功\\n新華社北京５月２４日電（通訊員李忠民）大秦...  交通\n",
       "3                遼寧省檯安縣村村都通柏油路鄉村公路建設全國數第\\n一\\n    (4)...  交通\n",
       "4                北京—烏蘭巴托—莫斯料３／４次國際旅客列車通車\\n３０週年\\n    ...  交通\n",
       "...                                                 ...  ..\n",
       "2632             馬玉芹破女子４００米跑全國青年紀錄\\n新華社鞍山５月１０日電（通訊員王...  體育\n",
       "2633             國際奧委會中國臺北委員吳經國訪問北京\\n新華社北京５月１０日電記者《中...  體育\n",
       "2634             亞奧理事會３９個成員組織全部以書面形式確認參加\\n第十一屆亞運會\\n ...  體育\n",
       "2635             世界盃乒乓球團體賽男子團體採用新賽制\\n新華社北京５月１０日電（記者樑...  體育\n",
       "2636             登頂隊員簡介\\n新華社珠穆朗瑪峰５月１０日電登頂隊員簡介\\n     ...  體育\n",
       "\n",
       "[2637 rows x 2 columns]"
      ]
     },
     "execution_count": 1,
     "metadata": {},
     "output_type": "execute_result"
    }
   ],
   "source": [
    "import os\n",
    "import glob\n",
    "import pandas as pd\n",
    "file_list = glob.glob(\"./data/dataset_7/chinese_news_trans/*/*.txt\")\n",
    "\n",
    "contents = []\n",
    "answers = []\n",
    "for item in file_list:\n",
    "    with open(item,\"r\",encoding=\"utf8\") as f:\n",
    "        news = f.read()\n",
    "    contents.append(news)\n",
    "    answers.append(os.path.split(os.path.split(item)[0])[1])\n",
    "print(contents[0])\n",
    "print(answers[0])\n",
    "train_df = pd.DataFrame({\"contents\":contents,\"ans\":answers})\n",
    "train_df"
   ]
  },
  {
   "cell_type": "code",
   "execution_count": 2,
   "metadata": {},
   "outputs": [
    {
     "name": "stdout",
     "output_type": "stream",
     "text": [
      "('./data/dataset_7/chinese_news_trans\\\\交通', '41.TXT')\n",
      "('./data/dataset_7/chinese_news_trans', '交通')\n",
      "交通\n"
     ]
    }
   ],
   "source": [
    "print(os.path.split(file_list[0]))\n",
    "print(os.path.split(os.path.split(file_list[0])[0]))\n",
    "print(os.path.split(os.path.split(file_list[0])[0])[1])"
   ]
  },
  {
   "cell_type": "code",
   "execution_count": 3,
   "metadata": {},
   "outputs": [],
   "source": [
    "def read_data(dirName):\n",
    "    file_list = glob.glob(f\"{dirName}/*/*.txt\")\n",
    "    contents = []\n",
    "    answers = []\n",
    "    for item in file_list:\n",
    "        with open(item,\"r\",encoding=\"utf8\") as f:\n",
    "            news = f.read()\n",
    "        contents.append(news)\n",
    "        answers.append(os.path.split(os.path.split(item)[0])[1])\n",
    "    train_df = pd.DataFrame({\"contents\":contents,\"ans\":answers})\n",
    "    return train_df"
   ]
  },
  {
   "cell_type": "code",
   "execution_count": 4,
   "metadata": {},
   "outputs": [
    {
     "data": {
      "text/plain": [
       "(101, 2)"
      ]
     },
     "execution_count": 4,
     "metadata": {},
     "output_type": "execute_result"
    }
   ],
   "source": [
    "train_df = read_data(\"./data/dataset_7/chinese_news_trans\")\n",
    "test_df = read_data(\"./data/dataset_7/chinese_news_test\")\n",
    "test_df.shape"
   ]
  },
  {
   "cell_type": "code",
   "execution_count": 13,
   "metadata": {},
   "outputs": [],
   "source": [
    "labels = test_df[\"ans\"].unique()\n",
    "label_to_idx = {k:v for k,v in enumerate(labels)}\n",
    "idx_to_label = {v:k for k,v in enumerate(labels)}"
   ]
  },
  {
   "cell_type": "code",
   "execution_count": null,
   "metadata": {},
   "outputs": [],
   "source": [
    "from urllib.request import urlretrieve\n",
    "url = \"https://github.com/fxsjy/jieba/raw/master/extra_dict/dict.txt.big\"\n",
    "urlretrieve(url,\"dict.txt.big\")"
   ]
  },
  {
   "cell_type": "code",
   "execution_count": 18,
   "metadata": {
    "scrolled": true
   },
   "outputs": [
    {
     "name": "stderr",
     "output_type": "stream",
     "text": [
      "Building prefix dict from E:\\code\\Python\\20191123\\MachineLearning\\dict.txt.big ...\n",
      "Loading model from cache C:\\Users\\user\\AppData\\Local\\Temp\\jieba.u336cb4d97ab86cf4ffa78136cb090c0f.cache\n",
      "Loading model cost 2.111 seconds.\n",
      "Prefix dict has been built succesfully.\n"
     ]
    }
   ],
   "source": [
    "import jieba\n",
    "jieba.set_dictionary(\"dict.txt.big\")\n",
    "def poemcut(s):\n",
    "    s = s.replace(\"\\r\\n\",\"\").replace(\"\\r\\n\",\"\")\n",
    "    return \" \".join(jieba.cut(s))\n",
    "x_train = train_df[\"contents\"].apply(poemcut)\n",
    "x_test = test_df[\"contents\"].apply(poemcut)\n",
    "y_train = train_df[\"ans\"].replace(label_to_idx)\n",
    "y_test = test_df[\"ans\"].replace(label_to_idx)"
   ]
  },
  {
   "cell_type": "code",
   "execution_count": 7,
   "metadata": {
    "scrolled": true
   },
   "outputs": [],
   "source": [
    "# u = train_df['ans'].unique()\n",
    "# trans = {v:i for i,v in enumerate(u)}\n",
    "# reverse = {i:v for i,v in enumerate(u)}\n",
    "# y_train = train_df['ans'].replace(trans)\n",
    "# y_test = test_df['ans'].replace(trans)"
   ]
  },
  {
   "cell_type": "code",
   "execution_count": 19,
   "metadata": {},
   "outputs": [
    {
     "data": {
      "text/plain": [
       "<2637x76397 sparse matrix of type '<class 'numpy.int64'>'\n",
       "\twith 448433 stored elements in Compressed Sparse Row format>"
      ]
     },
     "execution_count": 19,
     "metadata": {},
     "output_type": "execute_result"
    }
   ],
   "source": [
    "from sklearn.feature_extraction.text import CountVectorizer\n",
    "vec = CountVectorizer()\n",
    "x_train_vec = vec.fit_transform(x_train) # fit_transform = (fit)+(transform)\n",
    "x_test_vec = vec.transform(x_test)\n",
    "x_train_vec"
   ]
  },
  {
   "cell_type": "code",
   "execution_count": 20,
   "metadata": {},
   "outputs": [],
   "source": [
    "# word_to_index = vec.vocabulary_\n",
    "# index_to_word = {v:k for k,v in word_to_index.items()}\n",
    "# index_to_word"
   ]
  },
  {
   "cell_type": "code",
   "execution_count": 21,
   "metadata": {},
   "outputs": [
    {
     "data": {
      "text/plain": [
       "MultinomialNB(alpha=1.0, class_prior=None, fit_prior=True)"
      ]
     },
     "execution_count": 21,
     "metadata": {},
     "output_type": "execute_result"
    }
   ],
   "source": [
    "# 單純貝氏(分類)\n",
    "from sklearn.naive_bayes import MultinomialNB\n",
    "clf = MultinomialNB()\n",
    "clf.fit(x_train_vec,y_train)"
   ]
  },
  {
   "cell_type": "code",
   "execution_count": 22,
   "metadata": {},
   "outputs": [
    {
     "name": "stdout",
     "output_type": "stream",
     "text": [
      "預測: ['交通', '交通', '交通', '交通', '交通', '交通', '交通', '交通', '交通', '交通', '政治', '政治', '政治', '政治', '政治', '政治', '政治', '政治', '政治', '政治', '政治', '教育', '教育', '教育', '教育', '教育', '教育', '教育', '教育', '教育', '教育', '環境', '環境', '環境', '環境', '環境', '環境', '環境', '環境', '環境', '環境', '經濟', '經濟', '經濟', '經濟', '經濟', '經濟', '經濟', '經濟', '經濟', '經濟', '藝術', '藝術', '藝術', '藝術', '藝術', '藝術', '藝術', '藝術', '藝術', '藝術', '計算機', '計算機', '計算機', '計算機', '計算機', '計算機', '計算機', '計算機', '計算機', '計算機', '軍事', '軍事', '軍事', '軍事', '軍事', '軍事', '軍事', '軍事', '軍事', '軍事', '醫藥', '醫藥', '醫藥', '醫藥', '醫藥', '醫藥', '醫藥', '醫藥', '醫藥', '醫藥', '體育', '體育', '體育', '體育', '體育', '體育', '體育', '體育', '體育', '體育']\n",
      "正確標籤: ['交通', '交通', '交通', '交通', '交通', '交通', '交通', '交通', '交通', '交通', '政治', '政治', '政治', '政治', '政治', '政治', '政治', '政治', '政治', '政治', '政治', '教育', '教育', '教育', '教育', '教育', '教育', '教育', '教育', '教育', '教育', '環境', '環境', '環境', '環境', '環境', '環境', '環境', '環境', '環境', '環境', '經濟', '經濟', '經濟', '經濟', '經濟', '經濟', '經濟', '經濟', '經濟', '經濟', '藝術', '藝術', '藝術', '藝術', '藝術', '藝術', '藝術', '藝術', '藝術', '藝術', '計算機', '計算機', '計算機', '計算機', '計算機', '計算機', '計算機', '計算機', '計算機', '計算機', '軍事', '軍事', '軍事', '軍事', '軍事', '軍事', '軍事', '軍事', '軍事', '軍事', '醫藥', '醫藥', '醫藥', '醫藥', '醫藥', '醫藥', '醫藥', '醫藥', '醫藥', '醫藥', '體育', '體育', '體育', '體育', '體育', '體育', '體育', '體育', '體育', '體育']\n",
      "Naive-Bayes 正確率:  100.0 %\n"
     ]
    }
   ],
   "source": [
    "# 開始預測\n",
    "from sklearn.metrics import accuracy_score\n",
    "predict = clf.predict(x_test_vec)\n",
    "print(\"預測:\", list(predict))\n",
    "print(\"正確標籤:\", list(y_test))\n",
    "print(\"Naive-Bayes 正確率: \", accuracy_score(predict, y_test) * 100, \"%\")"
   ]
  },
  {
   "cell_type": "code",
   "execution_count": 26,
   "metadata": {
    "scrolled": true
   },
   "outputs": [
    {
     "name": "stdout",
     "output_type": "stream",
     "text": [
      "請輸入新聞:新黨不分區立委提名人邱毅，日前曝光國民黨總統候選人韓國瑜的手機號碼，網路節目《博恩夜夜秀》直接與韓國瑜通話，成功邀請韓上節目。今(24)日晚間韓國瑜上節目的影片曝光，大方面對年輕人與主持人的幽默也獲得現場觀眾熱烈掌聲。 製作單位在來賓席上先準備棋子與塞子兩個位置，韓國瑜直接說「我要坐塞子」，對現場觀眾大喊「大家最喜歡的韓導來囉！」坐下後主持人博恩問到「坐得還舒服嗎？」韓國瑜說覺得有點「尖尖的」，博恩則回應「因為我們在椅子底下放了酸民的留言，讓你可以用屁眼看。」讓現場觀眾哄堂大笑，韓也幽默回應「覺得自己像碗豆公主，但看到博恩非常開心。」\n",
      "交通  該類別的機率: 4.7480434203827986e-29\n",
      "政治  該類別的機率: 8.259169103734454e-28\n",
      "教育  該類別的機率: 6.117563252407998e-20\n",
      "環境  該類別的機率: 2.072557926933131e-24\n",
      "經濟  該類別的機率: 2.0746238795524301e-22\n",
      "藝術  該類別的機率: 0.9999874817545115\n",
      "計算機  該類別的機率: 7.657900065036137e-23\n",
      "軍事  該類別的機率: 8.77373917710796e-23\n",
      "醫藥  該類別的機率: 1.3593657420416587e-29\n",
      "體育  該類別的機率: 1.2518245485463814e-05\n"
     ]
    }
   ],
   "source": [
    "n = input(\"請輸入新聞:\")\n",
    "n = poemcut(n)\n",
    "n = vec.transform([n])\n",
    "proba = clf.predict_proba(n)[0]\n",
    "for l,p in zip(labels,proba):\n",
    "    print(l,\" 該類別的機率:\",p)"
   ]
  },
  {
   "cell_type": "markdown",
   "metadata": {},
   "source": [
    "## 排序"
   ]
  },
  {
   "cell_type": "code",
   "execution_count": 28,
   "metadata": {},
   "outputs": [
    {
     "data": {
      "text/plain": [
       "[('c', 0.6), ('a', 0.5), ('b', 0.2)]"
      ]
     },
     "execution_count": 28,
     "metadata": {},
     "output_type": "execute_result"
    }
   ],
   "source": [
    "def key_def(x):\n",
    "    return x[1]\n",
    "\n",
    "sorted([(\"a\",0.5),(\"b\",0.2),(\"c\",0.6)],\n",
    "      reverse=True,\n",
    "      key=key_def)"
   ]
  },
  {
   "cell_type": "markdown",
   "metadata": {},
   "source": [
    "## 無名函數"
   ]
  },
  {
   "cell_type": "code",
   "execution_count": 30,
   "metadata": {
    "scrolled": true
   },
   "outputs": [
    {
     "data": {
      "text/plain": [
       "[('c', 0.6), ('a', 0.5), ('b', 0.2)]"
      ]
     },
     "execution_count": 30,
     "metadata": {},
     "output_type": "execute_result"
    }
   ],
   "source": [
    "sorted([(\"a\",0.5),(\"b\",0.2),(\"c\",0.6)],\n",
    "      reverse=True,\n",
    "      key=lambda x:x[1])"
   ]
  },
  {
   "cell_type": "markdown",
   "metadata": {},
   "source": [
    "## 輸入測試+類別機率排序"
   ]
  },
  {
   "cell_type": "code",
   "execution_count": 37,
   "metadata": {},
   "outputs": [
    {
     "name": "stdout",
     "output_type": "stream",
     "text": [
      "請輸入新聞:\n",
      "60歲綜藝大哥徐乃麟有接班人了？乃哥的29歲大兒子徐新洋近期低調出道，在東新全新辯論綜藝節目《超級辯辯辯》中，由主播洪藜恩率領他和Bonnie2位助理一同主持。有趣的是，徐新洋身材高挑、五官又深邃，乍看下和乃哥簡直像一個模子印出來，來賓小甜甜就狂讚徐新洋是「韓系歐巴」\n",
      "==============================\n",
      "軍事   78.85 %\n",
      "藝術   13.32 %\n",
      "體育   7.62 %\n",
      "政治   0.11 %\n",
      "環境   0.07 %\n",
      "教育   0.01 %\n",
      "計算機   0.0 %\n",
      "交通   0.0 %\n",
      "醫藥   0.0 %\n",
      "經濟   0.0 %\n"
     ]
    }
   ],
   "source": [
    "n = input(\"請輸入新聞:\\n\")\n",
    "print(\"=\"*30)\n",
    "n = poemcut(n)\n",
    "n = vec.transform([n])\n",
    "proba = clf.predict_proba(n)[0]\n",
    "plist = sorted(zip(labels,proba),reverse=True,key=lambda x:x[1])\n",
    "for l,p in plist:\n",
    "    print(l,\" \",round(p*100,2),\"%\")"
   ]
  },
  {
   "cell_type": "code",
   "execution_count": null,
   "metadata": {},
   "outputs": [],
   "source": []
  }
 ],
 "metadata": {
  "kernelspec": {
   "display_name": "Python 3",
   "language": "python",
   "name": "python3"
  },
  "language_info": {
   "codemirror_mode": {
    "name": "ipython",
    "version": 3
   },
   "file_extension": ".py",
   "mimetype": "text/x-python",
   "name": "python",
   "nbconvert_exporter": "python",
   "pygments_lexer": "ipython3",
   "version": "3.6.0"
  }
 },
 "nbformat": 4,
 "nbformat_minor": 2
}
