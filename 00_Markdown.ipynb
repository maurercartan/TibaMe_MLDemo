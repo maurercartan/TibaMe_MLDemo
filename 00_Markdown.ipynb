{
 "cells": [
  {
   "cell_type": "markdown",
   "metadata": {},
   "source": [
    "# 標題\n",
    "## 副標題\n",
    "\n",
    "## 圖片顯示:\n",
    "![](https://www.google.com.tw/images/branding/googlelogo/1x/googlelogo_color_272x92dp.png)\n",
    "\n",
    "## Latex顯示: $ \\alpha $\n",
    "## [Markdown語法](https://jupyter-notebook.readthedocs.io/en/stable/examples/Notebook/Working%20With%20Markdown%20Cells.html)\n",
    "## 表格顯示:\n",
    "\n",
    "| This | is   |\n",
    "|------|------|\n",
    "|   a  | table|\n",
    "\n",
    "<table style=\"border:3px #cccccc solid;\" border='1'>\n",
    "    <tr border='1'>\n",
    "        <td border='1'>Foo</td>\n",
    "        <td border='1'>Foo</td>\n",
    "        <td border='1'>Foo</td>\n",
    "        <td border='1'>Foo</td>\n",
    "    </tr>\n",
    "    <tr border='1'>\n",
    "        <td>Foo</td>\n",
    "        <td>Foo</td>\n",
    "        <td>Foo</td>\n",
    "        <td>Foo</td>\n",
    "    </tr>\n",
    "</table>"
   ]
  }
 ],
 "metadata": {
  "kernelspec": {
   "display_name": "Python 3",
   "language": "python",
   "name": "python3"
  },
  "language_info": {
   "codemirror_mode": {
    "name": "ipython",
    "version": 3
   },
   "file_extension": ".py",
   "mimetype": "text/x-python",
   "name": "python",
   "nbconvert_exporter": "python",
   "pygments_lexer": "ipython3",
   "version": "3.7.3"
  }
 },
 "nbformat": 4,
 "nbformat_minor": 2
}
